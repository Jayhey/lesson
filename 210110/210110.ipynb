{
 "cells": [
  {
   "cell_type": "code",
   "execution_count": 1,
   "metadata": {},
   "outputs": [],
   "source": [
    "import pandas as pd"
   ]
  },
  {
   "cell_type": "code",
   "execution_count": 2,
   "metadata": {},
   "outputs": [
    {
     "data": {
      "text/html": [
       "<div>\n",
       "<style scoped>\n",
       "    .dataframe tbody tr th:only-of-type {\n",
       "        vertical-align: middle;\n",
       "    }\n",
       "\n",
       "    .dataframe tbody tr th {\n",
       "        vertical-align: top;\n",
       "    }\n",
       "\n",
       "    .dataframe thead th {\n",
       "        text-align: right;\n",
       "    }\n",
       "</style>\n",
       "<table border=\"1\" class=\"dataframe\">\n",
       "  <thead>\n",
       "    <tr style=\"text-align: right;\">\n",
       "      <th></th>\n",
       "      <th>titles</th>\n",
       "      <th>links</th>\n",
       "      <th>abstracts</th>\n",
       "      <th>meta_names</th>\n",
       "      <th>meta_keywords</th>\n",
       "    </tr>\n",
       "  </thead>\n",
       "  <tbody>\n",
       "    <tr>\n",
       "      <th>0</th>\n",
       "      <td>Trends of articles published in theKoreanJourn...</td>\n",
       "      <td>https://pubmed.ncbi.nlm.nih.gov/28127541/</td>\n",
       "      <td>Error</td>\n",
       "      <td>Hyung-Seon Baik</td>\n",
       "      <td>Error</td>\n",
       "    </tr>\n",
       "    <tr>\n",
       "      <th>1</th>\n",
       "      <td>A systematic review of the accuracy and effici...</td>\n",
       "      <td>https://pubmed.ncbi.nlm.nih.gov/31149604/</td>\n",
       "      <td>We are currently living in an era where the us...</td>\n",
       "      <td>Lidia Galan-Lopez,Jorge Barcia-Gonzalez,Eliseo...</td>\n",
       "      <td>Clear aligners,Invisalign®,Invisible orthodont...</td>\n",
       "    </tr>\n",
       "    <tr>\n",
       "      <th>2</th>\n",
       "      <td>Renovating the history of thekoreanjournalofor...</td>\n",
       "      <td>https://pubmed.ncbi.nlm.nih.gov/23112923/</td>\n",
       "      <td>Error</td>\n",
       "      <td>Ki-Soo Lee</td>\n",
       "      <td>Error</td>\n",
       "    </tr>\n",
       "    <tr>\n",
       "      <th>3</th>\n",
       "      <td>Clustering of craniofacial patterns inKoreanch...</td>\n",
       "      <td>https://pubmed.ncbi.nlm.nih.gov/28670566/</td>\n",
       "      <td>Objective:The purpose of this study was to inv...</td>\n",
       "      <td>Stephanie Maritza Anderson,Hoi-Jeong Lim,Ki-Be...</td>\n",
       "      <td>Adenotonsillar hypertrophy,Cluster analysis,Cr...</td>\n",
       "    </tr>\n",
       "    <tr>\n",
       "      <th>4</th>\n",
       "      <td>The effect of western adaptation of Hispanic-A...</td>\n",
       "      <td>https://pubmed.ncbi.nlm.nih.gov/24511513/</td>\n",
       "      <td>Objective:To determine Korean facial profile p...</td>\n",
       "      <td>Leo Toureno,Yoon-Ah Kook,Mohamed Bayome,Jae Hy...</td>\n",
       "      <td>Hispanic-American,Korean facial profile,Orthod...</td>\n",
       "    </tr>\n",
       "  </tbody>\n",
       "</table>\n",
       "</div>"
      ],
      "text/plain": [
       "                                              titles  \\\n",
       "0  Trends of articles published in theKoreanJourn...   \n",
       "1  A systematic review of the accuracy and effici...   \n",
       "2  Renovating the history of thekoreanjournalofor...   \n",
       "3  Clustering of craniofacial patterns inKoreanch...   \n",
       "4  The effect of western adaptation of Hispanic-A...   \n",
       "\n",
       "                                       links  \\\n",
       "0  https://pubmed.ncbi.nlm.nih.gov/28127541/   \n",
       "1  https://pubmed.ncbi.nlm.nih.gov/31149604/   \n",
       "2  https://pubmed.ncbi.nlm.nih.gov/23112923/   \n",
       "3  https://pubmed.ncbi.nlm.nih.gov/28670566/   \n",
       "4  https://pubmed.ncbi.nlm.nih.gov/24511513/   \n",
       "\n",
       "                                           abstracts  \\\n",
       "0                                              Error   \n",
       "1  We are currently living in an era where the us...   \n",
       "2                                              Error   \n",
       "3  Objective:The purpose of this study was to inv...   \n",
       "4  Objective:To determine Korean facial profile p...   \n",
       "\n",
       "                                          meta_names  \\\n",
       "0                                    Hyung-Seon Baik   \n",
       "1  Lidia Galan-Lopez,Jorge Barcia-Gonzalez,Eliseo...   \n",
       "2                                         Ki-Soo Lee   \n",
       "3  Stephanie Maritza Anderson,Hoi-Jeong Lim,Ki-Be...   \n",
       "4  Leo Toureno,Yoon-Ah Kook,Mohamed Bayome,Jae Hy...   \n",
       "\n",
       "                                       meta_keywords  \n",
       "0                                              Error  \n",
       "1  Clear aligners,Invisalign®,Invisible orthodont...  \n",
       "2                                              Error  \n",
       "3  Adenotonsillar hypertrophy,Cluster analysis,Cr...  \n",
       "4  Hispanic-American,Korean facial profile,Orthod...  "
      ]
     },
     "execution_count": 2,
     "metadata": {},
     "output_type": "execute_result"
    }
   ],
   "source": [
    "df = pd.read_csv(\"/Users/geoffrey/jupyter/lesson/201227/crawling_result.csv\", index_col=0, encoding='utf-8')\n",
    "df.head()"
   ]
  },
  {
   "cell_type": "code",
   "execution_count": 4,
   "metadata": {},
   "outputs": [],
   "source": [
    "# 정수 인코딩이란? 연산을 빠르게 하기 위한 텍스트 전처리 작업\n",
    "# I saw an apple\n",
    "# (\"saw\", 'V') -> 이럴 경우 굉장히 큰 연산량이 필요함. 따라서 정수로 인코딩 필요"
   ]
  },
  {
   "cell_type": "code",
   "execution_count": 20,
   "metadata": {},
   "outputs": [
    {
     "data": {
      "text/plain": [
       "'We are currently living in an era where the use of computer-aided design/computer-aided manufacturing has allowed individualized orthodontic treatments, but has also incorporated enhanced digitalized technology that does not permit improvisation. The purpose of this systematic review was to analyze publications that assessed the accuracy and efficiency of the Invisalign® system. A systematic review was performed using a search strategy to identify articles that referenced Invisalign®, which were published between August 2007 and August 2017, and listed in the following databases: MEDLINE, Embase, Cochrane Library, Web of Knowledge, Google Scholar, and LILACS. Additionally, a manual search of clinical trials was performed in scientific journals and other databases. To rate the methodological quality of the articles, a grading system described by the Swedish Council on Technology Assessment in Health Care was used, in combination with the Cochrane tool for risk of bias assessment. We selected 20 articles that met the inclusion criteria and excluded 5 due to excess biases. The level of evidence was high. Although it is possible to treat malocclusions with plastic systems, the results are not as accurate as those achieved by treatment with fixed appliances.'"
      ]
     },
     "execution_count": 20,
     "metadata": {},
     "output_type": "execute_result"
    }
   ],
   "source": [
    "original_text = df.abstracts[1]\n",
    "original_text"
   ]
  },
  {
   "cell_type": "code",
   "execution_count": 21,
   "metadata": {},
   "outputs": [],
   "source": [
    "from nltk.tokenize import sent_tokenize\n",
    "from nltk.tokenize import word_tokenize\n",
    "from nltk.corpus import stopwords"
   ]
  },
  {
   "cell_type": "code",
   "execution_count": 22,
   "metadata": {
    "scrolled": true
   },
   "outputs": [
    {
     "data": {
      "text/plain": [
       "['We are currently living in an era where the use of computer-aided design/computer-aided manufacturing has allowed individualized orthodontic treatments, but has also incorporated enhanced digitalized technology that does not permit improvisation.',\n",
       " 'The purpose of this systematic review was to analyze publications that assessed the accuracy and efficiency of the Invisalign® system.',\n",
       " 'A systematic review was performed using a search strategy to identify articles that referenced Invisalign®, which were published between August 2007 and August 2017, and listed in the following databases: MEDLINE, Embase, Cochrane Library, Web of Knowledge, Google Scholar, and LILACS.',\n",
       " 'Additionally, a manual search of clinical trials was performed in scientific journals and other databases.',\n",
       " 'To rate the methodological quality of the articles, a grading system described by the Swedish Council on Technology Assessment in Health Care was used, in combination with the Cochrane tool for risk of bias assessment.',\n",
       " 'We selected 20 articles that met the inclusion criteria and excluded 5 due to excess biases.',\n",
       " 'The level of evidence was high.',\n",
       " 'Although it is possible to treat malocclusions with plastic systems, the results are not as accurate as those achieved by treatment with fixed appliances.']"
      ]
     },
     "execution_count": 22,
     "metadata": {},
     "output_type": "execute_result"
    }
   ],
   "source": [
    "text = sent_tokenize(original_text)\n",
    "text"
   ]
  },
  {
   "cell_type": "code",
   "execution_count": 33,
   "metadata": {},
   "outputs": [],
   "source": [
    "vocab = {} \n",
    "sentences = [] # 문장 단위로 tokenize\n",
    "stop_words = set(stopwords.words('english'))\n",
    "\n",
    "for sent in text:\n",
    "    sentence = word_tokenize(sent)\n",
    "    \n",
    "    tmp = []\n",
    "    \n",
    "    for word in sentence:\n",
    "        word = word.lower()\n",
    "        if word not in stop_words:\n",
    "            if len(word) > 2:\n",
    "                tmp.append(word)\n",
    "                if word not in vocab:\n",
    "                    vocab[word] = 0\n",
    "                vocab[word] += 1\n",
    "                \n",
    "    sentences.append(tmp)\n"
   ]
  },
  {
   "cell_type": "code",
   "execution_count": 35,
   "metadata": {},
   "outputs": [
    {
     "name": "stdout",
     "output_type": "stream",
     "text": [
      "[['currently', 'living', 'era', 'use', 'computer-aided', 'design/computer-aided', 'manufacturing', 'allowed', 'individualized', 'orthodontic', 'treatments', 'also', 'incorporated', 'enhanced', 'digitalized', 'technology', 'permit', 'improvisation'], ['purpose', 'systematic', 'review', 'analyze', 'publications', 'assessed', 'accuracy', 'efficiency', 'invisalign®', 'system'], ['systematic', 'review', 'performed', 'using', 'search', 'strategy', 'identify', 'articles', 'referenced', 'invisalign®', 'published', 'august', '2007', 'august', '2017', 'listed', 'following', 'databases', 'medline', 'embase', 'cochrane', 'library', 'web', 'knowledge', 'google', 'scholar', 'lilacs'], ['additionally', 'manual', 'search', 'clinical', 'trials', 'performed', 'scientific', 'journals', 'databases'], ['rate', 'methodological', 'quality', 'articles', 'grading', 'system', 'described', 'swedish', 'council', 'technology', 'assessment', 'health', 'care', 'used', 'combination', 'cochrane', 'tool', 'risk', 'bias', 'assessment'], ['selected', 'articles', 'met', 'inclusion', 'criteria', 'excluded', 'due', 'excess', 'biases'], ['level', 'evidence', 'high'], ['although', 'possible', 'treat', 'malocclusions', 'plastic', 'systems', 'results', 'accurate', 'achieved', 'treatment', 'fixed', 'appliances']]\n"
     ]
    }
   ],
   "source": [
    "print(sentences)"
   ]
  },
  {
   "cell_type": "code",
   "execution_count": 36,
   "metadata": {},
   "outputs": [
    {
     "name": "stdout",
     "output_type": "stream",
     "text": [
      "{'currently': 1, 'living': 1, 'era': 1, 'use': 1, 'computer-aided': 1, 'design/computer-aided': 1, 'manufacturing': 1, 'allowed': 1, 'individualized': 1, 'orthodontic': 1, 'treatments': 1, 'also': 1, 'incorporated': 1, 'enhanced': 1, 'digitalized': 1, 'technology': 2, 'permit': 1, 'improvisation': 1, 'purpose': 1, 'systematic': 2, 'review': 2, 'analyze': 1, 'publications': 1, 'assessed': 1, 'accuracy': 1, 'efficiency': 1, 'invisalign®': 2, 'system': 2, 'performed': 2, 'using': 1, 'search': 2, 'strategy': 1, 'identify': 1, 'articles': 3, 'referenced': 1, 'published': 1, 'august': 2, '2007': 1, '2017': 1, 'listed': 1, 'following': 1, 'databases': 2, 'medline': 1, 'embase': 1, 'cochrane': 2, 'library': 1, 'web': 1, 'knowledge': 1, 'google': 1, 'scholar': 1, 'lilacs': 1, 'additionally': 1, 'manual': 1, 'clinical': 1, 'trials': 1, 'scientific': 1, 'journals': 1, 'rate': 1, 'methodological': 1, 'quality': 1, 'grading': 1, 'described': 1, 'swedish': 1, 'council': 1, 'assessment': 2, 'health': 1, 'care': 1, 'used': 1, 'combination': 1, 'tool': 1, 'risk': 1, 'bias': 1, 'selected': 1, 'met': 1, 'inclusion': 1, 'criteria': 1, 'excluded': 1, 'due': 1, 'excess': 1, 'biases': 1, 'level': 1, 'evidence': 1, 'high': 1, 'although': 1, 'possible': 1, 'treat': 1, 'malocclusions': 1, 'plastic': 1, 'systems': 1, 'results': 1, 'accurate': 1, 'achieved': 1, 'treatment': 1, 'fixed': 1, 'appliances': 1}\n"
     ]
    }
   ],
   "source": [
    "print(vocab)"
   ]
  },
  {
   "cell_type": "code",
   "execution_count": 37,
   "metadata": {},
   "outputs": [
    {
     "data": {
      "text/plain": [
       "2"
      ]
     },
     "execution_count": 37,
     "metadata": {},
     "output_type": "execute_result"
    }
   ],
   "source": [
    "vocab['databases']"
   ]
  },
  {
   "cell_type": "code",
   "execution_count": 39,
   "metadata": {},
   "outputs": [
    {
     "data": {
      "text/plain": [
       "dict_items([('currently', 1), ('living', 1), ('era', 1), ('use', 1), ('computer-aided', 1), ('design/computer-aided', 1), ('manufacturing', 1), ('allowed', 1), ('individualized', 1), ('orthodontic', 1), ('treatments', 1), ('also', 1), ('incorporated', 1), ('enhanced', 1), ('digitalized', 1), ('technology', 2), ('permit', 1), ('improvisation', 1), ('purpose', 1), ('systematic', 2), ('review', 2), ('analyze', 1), ('publications', 1), ('assessed', 1), ('accuracy', 1), ('efficiency', 1), ('invisalign®', 2), ('system', 2), ('performed', 2), ('using', 1), ('search', 2), ('strategy', 1), ('identify', 1), ('articles', 3), ('referenced', 1), ('published', 1), ('august', 2), ('2007', 1), ('2017', 1), ('listed', 1), ('following', 1), ('databases', 2), ('medline', 1), ('embase', 1), ('cochrane', 2), ('library', 1), ('web', 1), ('knowledge', 1), ('google', 1), ('scholar', 1), ('lilacs', 1), ('additionally', 1), ('manual', 1), ('clinical', 1), ('trials', 1), ('scientific', 1), ('journals', 1), ('rate', 1), ('methodological', 1), ('quality', 1), ('grading', 1), ('described', 1), ('swedish', 1), ('council', 1), ('assessment', 2), ('health', 1), ('care', 1), ('used', 1), ('combination', 1), ('tool', 1), ('risk', 1), ('bias', 1), ('selected', 1), ('met', 1), ('inclusion', 1), ('criteria', 1), ('excluded', 1), ('due', 1), ('excess', 1), ('biases', 1), ('level', 1), ('evidence', 1), ('high', 1), ('although', 1), ('possible', 1), ('treat', 1), ('malocclusions', 1), ('plastic', 1), ('systems', 1), ('results', 1), ('accurate', 1), ('achieved', 1), ('treatment', 1), ('fixed', 1), ('appliances', 1)])"
      ]
     },
     "execution_count": 39,
     "metadata": {},
     "output_type": "execute_result"
    }
   ],
   "source": [
    "vocab.items()"
   ]
  },
  {
   "cell_type": "code",
   "execution_count": 45,
   "metadata": {},
   "outputs": [
    {
     "name": "stdout",
     "output_type": "stream",
     "text": [
      "[('articles', 3), ('technology', 2), ('systematic', 2), ('review', 2), ('invisalign®', 2), ('system', 2), ('performed', 2), ('search', 2), ('august', 2), ('databases', 2), ('cochrane', 2), ('assessment', 2), ('currently', 1), ('living', 1), ('era', 1), ('use', 1), ('computer-aided', 1), ('design/computer-aided', 1), ('manufacturing', 1), ('allowed', 1), ('individualized', 1), ('orthodontic', 1), ('treatments', 1), ('also', 1), ('incorporated', 1), ('enhanced', 1), ('digitalized', 1), ('permit', 1), ('improvisation', 1), ('purpose', 1), ('analyze', 1), ('publications', 1), ('assessed', 1), ('accuracy', 1), ('efficiency', 1), ('using', 1), ('strategy', 1), ('identify', 1), ('referenced', 1), ('published', 1), ('2007', 1), ('2017', 1), ('listed', 1), ('following', 1), ('medline', 1), ('embase', 1), ('library', 1), ('web', 1), ('knowledge', 1), ('google', 1), ('scholar', 1), ('lilacs', 1), ('additionally', 1), ('manual', 1), ('clinical', 1), ('trials', 1), ('scientific', 1), ('journals', 1), ('rate', 1), ('methodological', 1), ('quality', 1), ('grading', 1), ('described', 1), ('swedish', 1), ('council', 1), ('health', 1), ('care', 1), ('used', 1), ('combination', 1), ('tool', 1), ('risk', 1), ('bias', 1), ('selected', 1), ('met', 1), ('inclusion', 1), ('criteria', 1), ('excluded', 1), ('due', 1), ('excess', 1), ('biases', 1), ('level', 1), ('evidence', 1), ('high', 1), ('although', 1), ('possible', 1), ('treat', 1), ('malocclusions', 1), ('plastic', 1), ('systems', 1), ('results', 1), ('accurate', 1), ('achieved', 1), ('treatment', 1), ('fixed', 1), ('appliances', 1)]\n"
     ]
    }
   ],
   "source": [
    "vocab_sorted = sorted(vocab.items(), key=lambda x:x[1], reverse=True)\n",
    "print(vocab_sorted)"
   ]
  },
  {
   "cell_type": "code",
   "execution_count": 55,
   "metadata": {},
   "outputs": [
    {
     "name": "stdout",
     "output_type": "stream",
     "text": [
      "{'articles': 1, 'technology': 2, 'systematic': 3, 'review': 4, 'invisalign®': 5, 'system': 6, 'performed': 7, 'search': 8, 'august': 9, 'databases': 10, 'cochrane': 11, 'assessment': 12}\n"
     ]
    }
   ],
   "source": [
    "word_to_idx = {}\n",
    "i = 0\n",
    "\n",
    "for (word, frequency) in vocab_sorted:\n",
    "    if frequency > 1:\n",
    "        i += 1\n",
    "        word_to_idx[word] = i\n",
    "\n",
    "print(word_to_idx)"
   ]
  },
  {
   "cell_type": "code",
   "execution_count": 56,
   "metadata": {},
   "outputs": [
    {
     "name": "stdout",
     "output_type": "stream",
     "text": [
      "{'articles': 1, 'technology': 2, 'systematic': 3, 'review': 4, 'invisalign®': 5, 'system': 6, 'performed': 7, 'search': 8, 'august': 9, 'databases': 10, 'cochrane': 11, 'assessment': 12, 'OOV': 13}\n"
     ]
    }
   ],
   "source": [
    "word_to_idx['OOV'] = len(word_to_idx) + 1\n",
    "print(word_to_idx)"
   ]
  },
  {
   "cell_type": "code",
   "execution_count": 57,
   "metadata": {},
   "outputs": [
    {
     "name": "stdout",
     "output_type": "stream",
     "text": [
      "[['currently', 'living', 'era', 'use', 'computer-aided', 'design/computer-aided', 'manufacturing', 'allowed', 'individualized', 'orthodontic', 'treatments', 'also', 'incorporated', 'enhanced', 'digitalized', 'technology', 'permit', 'improvisation'], ['purpose', 'systematic', 'review', 'analyze', 'publications', 'assessed', 'accuracy', 'efficiency', 'invisalign®', 'system'], ['systematic', 'review', 'performed', 'using', 'search', 'strategy', 'identify', 'articles', 'referenced', 'invisalign®', 'published', 'august', '2007', 'august', '2017', 'listed', 'following', 'databases', 'medline', 'embase', 'cochrane', 'library', 'web', 'knowledge', 'google', 'scholar', 'lilacs'], ['additionally', 'manual', 'search', 'clinical', 'trials', 'performed', 'scientific', 'journals', 'databases'], ['rate', 'methodological', 'quality', 'articles', 'grading', 'system', 'described', 'swedish', 'council', 'technology', 'assessment', 'health', 'care', 'used', 'combination', 'cochrane', 'tool', 'risk', 'bias', 'assessment'], ['selected', 'articles', 'met', 'inclusion', 'criteria', 'excluded', 'due', 'excess', 'biases'], ['level', 'evidence', 'high'], ['although', 'possible', 'treat', 'malocclusions', 'plastic', 'systems', 'results', 'accurate', 'achieved', 'treatment', 'fixed', 'appliances']]\n"
     ]
    }
   ],
   "source": [
    "print(sentences)"
   ]
  },
  {
   "cell_type": "code",
   "execution_count": 58,
   "metadata": {},
   "outputs": [
    {
     "name": "stdout",
     "output_type": "stream",
     "text": [
      "[[13, 13, 13, 13, 13, 13, 13, 13, 13, 13, 13, 13, 13, 13, 13, 2, 13, 13], [13, 3, 4, 13, 13, 13, 13, 13, 5, 6], [3, 4, 7, 13, 8, 13, 13, 1, 13, 5, 13, 9, 13, 9, 13, 13, 13, 10, 13, 13, 11, 13, 13, 13, 13, 13, 13], [13, 13, 8, 13, 13, 7, 13, 13, 10], [13, 13, 13, 1, 13, 6, 13, 13, 13, 2, 12, 13, 13, 13, 13, 11, 13, 13, 13, 12], [13, 1, 13, 13, 13, 13, 13, 13, 13], [13, 13, 13], [13, 13, 13, 13, 13, 13, 13, 13, 13, 13, 13, 13]]\n"
     ]
    }
   ],
   "source": [
    "# 정수 인코딩\n",
    "encoded = []\n",
    "for sentence in sentences:\n",
    "    tmp = []\n",
    "    for word in sentence:\n",
    "        try:\n",
    "            tmp.append(word_to_idx[word])\n",
    "        except:\n",
    "            tmp.append(word_to_idx['OOV'])\n",
    "    \n",
    "    encoded.append(tmp)\n",
    "\n",
    "print(encoded)"
   ]
  },
  {
   "cell_type": "code",
   "execution_count": null,
   "metadata": {},
   "outputs": [],
   "source": []
  }
 ],
 "metadata": {
  "kernelspec": {
   "display_name": "Python 3",
   "language": "python",
   "name": "python3"
  },
  "language_info": {
   "codemirror_mode": {
    "name": "ipython",
    "version": 3
   },
   "file_extension": ".py",
   "mimetype": "text/x-python",
   "name": "python",
   "nbconvert_exporter": "python",
   "pygments_lexer": "ipython3",
   "version": "3.7.4"
  }
 },
 "nbformat": 4,
 "nbformat_minor": 2
}
