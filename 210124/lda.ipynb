{
 "cells": [
  {
   "cell_type": "code",
   "execution_count": 1,
   "metadata": {},
   "outputs": [],
   "source": [
    "import pandas as pd"
   ]
  },
  {
   "cell_type": "code",
   "execution_count": 2,
   "metadata": {
    "scrolled": true
   },
   "outputs": [
    {
     "data": {
      "text/html": [
       "<div>\n",
       "<style scoped>\n",
       "    .dataframe tbody tr th:only-of-type {\n",
       "        vertical-align: middle;\n",
       "    }\n",
       "\n",
       "    .dataframe tbody tr th {\n",
       "        vertical-align: top;\n",
       "    }\n",
       "\n",
       "    .dataframe thead th {\n",
       "        text-align: right;\n",
       "    }\n",
       "</style>\n",
       "<table border=\"1\" class=\"dataframe\">\n",
       "  <thead>\n",
       "    <tr style=\"text-align: right;\">\n",
       "      <th></th>\n",
       "      <th>titles</th>\n",
       "      <th>links</th>\n",
       "      <th>abstracts</th>\n",
       "      <th>meta_names</th>\n",
       "      <th>meta_keywords</th>\n",
       "    </tr>\n",
       "  </thead>\n",
       "  <tbody>\n",
       "    <tr>\n",
       "      <th>0</th>\n",
       "      <td>Trends of articles published in theKoreanJourn...</td>\n",
       "      <td>https://pubmed.ncbi.nlm.nih.gov/28127541/</td>\n",
       "      <td>Error</td>\n",
       "      <td>Hyung-Seon Baik</td>\n",
       "      <td>Error</td>\n",
       "    </tr>\n",
       "    <tr>\n",
       "      <th>1</th>\n",
       "      <td>A systematic review of the accuracy and effici...</td>\n",
       "      <td>https://pubmed.ncbi.nlm.nih.gov/31149604/</td>\n",
       "      <td>We are currently living in an era where the us...</td>\n",
       "      <td>Lidia Galan-Lopez,Jorge Barcia-Gonzalez,Eliseo...</td>\n",
       "      <td>Clear aligners,Invisalign®,Invisible orthodont...</td>\n",
       "    </tr>\n",
       "    <tr>\n",
       "      <th>2</th>\n",
       "      <td>Renovating the history of thekoreanjournalofor...</td>\n",
       "      <td>https://pubmed.ncbi.nlm.nih.gov/23112923/</td>\n",
       "      <td>Error</td>\n",
       "      <td>Ki-Soo Lee</td>\n",
       "      <td>Error</td>\n",
       "    </tr>\n",
       "    <tr>\n",
       "      <th>3</th>\n",
       "      <td>Clustering of craniofacial patterns inKoreanch...</td>\n",
       "      <td>https://pubmed.ncbi.nlm.nih.gov/28670566/</td>\n",
       "      <td>Objective:The purpose of this study was to inv...</td>\n",
       "      <td>Stephanie Maritza Anderson,Hoi-Jeong Lim,Ki-Be...</td>\n",
       "      <td>Adenotonsillar hypertrophy,Cluster analysis,Cr...</td>\n",
       "    </tr>\n",
       "    <tr>\n",
       "      <th>4</th>\n",
       "      <td>The effect of western adaptation of Hispanic-A...</td>\n",
       "      <td>https://pubmed.ncbi.nlm.nih.gov/24511513/</td>\n",
       "      <td>Objective:To determine Korean facial profile p...</td>\n",
       "      <td>Leo Toureno,Yoon-Ah Kook,Mohamed Bayome,Jae Hy...</td>\n",
       "      <td>Hispanic-American,Korean facial profile,Orthod...</td>\n",
       "    </tr>\n",
       "  </tbody>\n",
       "</table>\n",
       "</div>"
      ],
      "text/plain": [
       "                                              titles  \\\n",
       "0  Trends of articles published in theKoreanJourn...   \n",
       "1  A systematic review of the accuracy and effici...   \n",
       "2  Renovating the history of thekoreanjournalofor...   \n",
       "3  Clustering of craniofacial patterns inKoreanch...   \n",
       "4  The effect of western adaptation of Hispanic-A...   \n",
       "\n",
       "                                       links  \\\n",
       "0  https://pubmed.ncbi.nlm.nih.gov/28127541/   \n",
       "1  https://pubmed.ncbi.nlm.nih.gov/31149604/   \n",
       "2  https://pubmed.ncbi.nlm.nih.gov/23112923/   \n",
       "3  https://pubmed.ncbi.nlm.nih.gov/28670566/   \n",
       "4  https://pubmed.ncbi.nlm.nih.gov/24511513/   \n",
       "\n",
       "                                           abstracts  \\\n",
       "0                                              Error   \n",
       "1  We are currently living in an era where the us...   \n",
       "2                                              Error   \n",
       "3  Objective:The purpose of this study was to inv...   \n",
       "4  Objective:To determine Korean facial profile p...   \n",
       "\n",
       "                                          meta_names  \\\n",
       "0                                    Hyung-Seon Baik   \n",
       "1  Lidia Galan-Lopez,Jorge Barcia-Gonzalez,Eliseo...   \n",
       "2                                         Ki-Soo Lee   \n",
       "3  Stephanie Maritza Anderson,Hoi-Jeong Lim,Ki-Be...   \n",
       "4  Leo Toureno,Yoon-Ah Kook,Mohamed Bayome,Jae Hy...   \n",
       "\n",
       "                                       meta_keywords  \n",
       "0                                              Error  \n",
       "1  Clear aligners,Invisalign®,Invisible orthodont...  \n",
       "2                                              Error  \n",
       "3  Adenotonsillar hypertrophy,Cluster analysis,Cr...  \n",
       "4  Hispanic-American,Korean facial profile,Orthod...  "
      ]
     },
     "execution_count": 2,
     "metadata": {},
     "output_type": "execute_result"
    }
   ],
   "source": [
    "df = pd.read_csv(\"/Users/geoffrey/jupyter/lesson/201227/crawling_result.csv\", index_col=0, encoding='utf-8')\n",
    "df.head()"
   ]
  },
  {
   "cell_type": "code",
   "execution_count": 3,
   "metadata": {
    "scrolled": false
   },
   "outputs": [
    {
     "data": {
      "text/plain": [
       "0                                                Error\n",
       "1    We are currently living in an era where the us...\n",
       "2                                                Error\n",
       "3    Objective:The purpose of this study was to inv...\n",
       "4    Objective:To determine Korean facial profile p...\n",
       "Name: abstracts, dtype: object"
      ]
     },
     "execution_count": 3,
     "metadata": {},
     "output_type": "execute_result"
    }
   ],
   "source": [
    "df.abstracts[:5]"
   ]
  },
  {
   "cell_type": "code",
   "execution_count": 4,
   "metadata": {},
   "outputs": [],
   "source": [
    "# A: 'apple', 'banana', 'dog'\n",
    "# B: 'apple', 'pinepple', 'lemon', '...'\n",
    "# C: 'apple', 'cat', 'house', \"....\"\n",
    "\n",
    "# 'apple', 'banana', 'cat', 'dog', 'house', 'lemon', 'pineapple', '...'\n",
    "\n",
    "\n",
    "# TOPIC : T1, T2, T3 ... T5\n",
    "# Word, Topic\n",
    "# Document, Topic\n",
    "\n",
    "\n",
    "# 알 수 있는 것 1\n",
    "# Doc A : T1 0.05, T2 0.20, T3 0.00, ... T5 0.70    Sum = 1\n",
    "# Doc B : T1 0.30, T2 0.20, T3 0.10, ... T5 0.20\n",
    "\n",
    "# 알 수 있는 것 2\n",
    "# T1 : Appple 0.05, banana 0.70, ... \n",
    "# T2 : Cat 0.80, Dog 0.05, ... (동물?)\n",
    "# T5 : Apple 0.20, banana 0.40, dog 0.30, ... (동물과 과일인가?)\n"
   ]
  },
  {
   "cell_type": "code",
   "execution_count": 5,
   "metadata": {},
   "outputs": [
    {
     "data": {
      "text/plain": [
       "'Objective:The purpose of this study was to determine the soft tissue thickness of male and female orthodontic patients with different skeletal malocclusions. Methods:Soft tissue thickness measurements were made on lateral cephalometric radiographs of 180 healthy orthodontic patients with different skeletal malocclusions (Class I: 60 subjects, Class II: 60 subjects, Class III: 60 subjects). Ten measurements were analyzed. For statistical evaluation, one-way ANOVA and Kruskal-Wallis tests were performed. Least significant difference (LSD) and Dunnet T3 post hoc tests were used to determine the individual differences. Results:Soft tissue thicknesses were found to be greater for men than for women. Statistically significant differences among the skeletal groups were found in both men and women at the following sites: labrale superius, stomion, and labrale inferius. The thickness at the labrale superius and stomion points in each skeletal type was the greatest in Class III for both men and women. On the other hand, at the labrale inferius point, for both men and women, soft tissue depth was the least in Class III and the greatest in Class II. Conclusions:Soft tissue thickness differences among skeletal malocclusions were observed at the labrale superius, stomion, and labrale inferius sites for both men and women.'"
      ]
     },
     "execution_count": 5,
     "metadata": {},
     "output_type": "execute_result"
    }
   ],
   "source": [
    "# 한 문서에 대해 Objective:, Results:, Conclusions: 삭제하기\n",
    "test = df.abstracts[425]\n",
    "test"
   ]
  },
  {
   "cell_type": "code",
   "execution_count": 6,
   "metadata": {},
   "outputs": [],
   "source": [
    "test = test.replace('Objective:', '')\n",
    "test = test.replace('Results:', '')\n",
    "test = test.replace('Methods:', '')\n",
    "test = test.replace('Conclusions:', '')"
   ]
  },
  {
   "cell_type": "code",
   "execution_count": 7,
   "metadata": {
    "scrolled": true
   },
   "outputs": [
    {
     "data": {
      "text/plain": [
       "'The purpose of this study was to determine the soft tissue thickness of male and female orthodontic patients with different skeletal malocclusions. Soft tissue thickness measurements were made on lateral cephalometric radiographs of 180 healthy orthodontic patients with different skeletal malocclusions (Class I: 60 subjects, Class II: 60 subjects, Class III: 60 subjects). Ten measurements were analyzed. For statistical evaluation, one-way ANOVA and Kruskal-Wallis tests were performed. Least significant difference (LSD) and Dunnet T3 post hoc tests were used to determine the individual differences. Soft tissue thicknesses were found to be greater for men than for women. Statistically significant differences among the skeletal groups were found in both men and women at the following sites: labrale superius, stomion, and labrale inferius. The thickness at the labrale superius and stomion points in each skeletal type was the greatest in Class III for both men and women. On the other hand, at the labrale inferius point, for both men and women, soft tissue depth was the least in Class III and the greatest in Class II. Soft tissue thickness differences among skeletal malocclusions were observed at the labrale superius, stomion, and labrale inferius sites for both men and women.'"
      ]
     },
     "execution_count": 7,
     "metadata": {},
     "output_type": "execute_result"
    }
   ],
   "source": [
    "test"
   ]
  },
  {
   "cell_type": "code",
   "execution_count": 8,
   "metadata": {},
   "outputs": [],
   "source": [
    "# 위 예시를 모든 문서에 대해 적용해보기 "
   ]
  },
  {
   "cell_type": "code",
   "execution_count": 9,
   "metadata": {
    "scrolled": true
   },
   "outputs": [
    {
     "data": {
      "text/plain": [
       "['a', 'b', 'c', 'd', 'e']"
      ]
     },
     "execution_count": 9,
     "metadata": {},
     "output_type": "execute_result"
    }
   ],
   "source": [
    "# 비슷 한 예 : lamda\n",
    "upper_list = ['A', 'B', 'C', 'D', 'E']\n",
    "\n",
    "lower_list = list(map(lambda x: x.lower(), upper_list))\n",
    "lower_list"
   ]
  },
  {
   "cell_type": "code",
   "execution_count": 10,
   "metadata": {},
   "outputs": [
    {
     "data": {
      "text/plain": [
       "['a', 'b', 'c', 'd', 'e']"
      ]
     },
     "execution_count": 10,
     "metadata": {},
     "output_type": "execute_result"
    }
   ],
   "source": [
    "# 비슷 한 예 : lamda\n",
    "upper_list = ['A', 'B', 'C', 'D', 'E']\n",
    "\n",
    "def to_lower(x):\n",
    "    return x.lower()\n",
    "\n",
    "lower_list = list(map(to_lower, upper_list))\n",
    "lower_list"
   ]
  },
  {
   "cell_type": "code",
   "execution_count": 11,
   "metadata": {},
   "outputs": [
    {
     "data": {
      "text/plain": [
       "[True, True, False, False]"
      ]
     },
     "execution_count": 11,
     "metadata": {},
     "output_type": "execute_result"
    }
   ],
   "source": [
    "test_list = ['apple', 'banana', 'dog', 'cat']\n",
    "\n",
    "def is_fruit(x):\n",
    "    if x in ['apple', 'banana']:\n",
    "        return True\n",
    "    else:\n",
    "        return False\n",
    "    \n",
    "list(map(is_fruit, test_list))"
   ]
  },
  {
   "cell_type": "code",
   "execution_count": 12,
   "metadata": {},
   "outputs": [],
   "source": [
    "docs = df.abstracts "
   ]
  },
  {
   "cell_type": "code",
   "execution_count": 13,
   "metadata": {
    "scrolled": true
   },
   "outputs": [
    {
     "data": {
      "text/plain": [
       "0                                                  Error\n",
       "1      We are currently living in an era where the us...\n",
       "2                                                  Error\n",
       "3      Objective:The purpose of this study was to inv...\n",
       "4      Objective:To determine Korean facial profile p...\n",
       "                             ...                        \n",
       "425    Objective:The purpose of this study was to det...\n",
       "426    Objective:This study investigated whether temp...\n",
       "427    A Brazilian girl aged 14 years and 9 months pr...\n",
       "428    Objective:To evaluate lower incisor position a...\n",
       "429    A 19-year-old woman presented to our dental cl...\n",
       "Name: abstracts, Length: 430, dtype: object"
      ]
     },
     "execution_count": 13,
     "metadata": {},
     "output_type": "execute_result"
    }
   ],
   "source": [
    "docs"
   ]
  },
  {
   "cell_type": "code",
   "execution_count": 14,
   "metadata": {},
   "outputs": [],
   "source": [
    "def delete_colon_words(x):\n",
    "    x = x.replace('Objective:', '')\n",
    "    x = x.replace('Results:', '')\n",
    "    x = x.replace('Methods:', '')\n",
    "    x = x.replace('Conclusions:', '')\n",
    "    return x"
   ]
  },
  {
   "cell_type": "code",
   "execution_count": 15,
   "metadata": {
    "scrolled": false
   },
   "outputs": [
    {
     "name": "stdout",
     "output_type": "stream",
     "text": [
      "원본 문서\n",
      "Objective:The purpose of this study was to investigate whether the craniofacial patterns of Korean children with snoring and adenotonsillar hypertrophy (ATH) could be categorized into characteristic clusters according to age. Methods:We enrolled 236 children with snoring and ATH (age range, 5-12 years) in this study. They were subdivided into four age groups: 5-6, 7-8, 9-10, and 11-12 years. Based on cephalometric analysis, the sagittal and vertical skeletal patterns of each individual were divided into Class I, II, and III, as well as the normodivergent, hypodivergent, and hyperdivergent patterns, respectively. Cluster analysis was performed using cephalometric principal components in addition to the age factor. Results:Three heterogeneous clusters of craniofacial patterns were obtained in relation to age: cluster 1 (41.9%) included patients aged 5-8 years with a skeletal Class I or mild Class II and hyperdivergent pattern; cluster 2 (45.3%) included patients aged 9-12 years with a Class II and hyperdivergent pattern; and cluster 3 (12.8%) included patients aged 7-8 years with a Class III and hyperdivergent pattern. Conclusions:This study found that the craniofacial patterns of Korean children with snoring and ATH could be categorized into three characteristic clusters according to age groups. Although no significantly dominant sagittal skeletal discrepancy was observed, hyperdivergent vertical discrepancy was consistently evident in all clusters.\n",
      "\n",
      "\n",
      "\n",
      "\n",
      "함수 적용 문서\n",
      "The purpose of this study was to investigate whether the craniofacial patterns of Korean children with snoring and adenotonsillar hypertrophy (ATH) could be categorized into characteristic clusters according to age. We enrolled 236 children with snoring and ATH (age range, 5-12 years) in this study. They were subdivided into four age groups: 5-6, 7-8, 9-10, and 11-12 years. Based on cephalometric analysis, the sagittal and vertical skeletal patterns of each individual were divided into Class I, II, and III, as well as the normodivergent, hypodivergent, and hyperdivergent patterns, respectively. Cluster analysis was performed using cephalometric principal components in addition to the age factor. Three heterogeneous clusters of craniofacial patterns were obtained in relation to age: cluster 1 (41.9%) included patients aged 5-8 years with a skeletal Class I or mild Class II and hyperdivergent pattern; cluster 2 (45.3%) included patients aged 9-12 years with a Class II and hyperdivergent pattern; and cluster 3 (12.8%) included patients aged 7-8 years with a Class III and hyperdivergent pattern. This study found that the craniofacial patterns of Korean children with snoring and ATH could be categorized into three characteristic clusters according to age groups. Although no significantly dominant sagittal skeletal discrepancy was observed, hyperdivergent vertical discrepancy was consistently evident in all clusters.\n"
     ]
    }
   ],
   "source": [
    "# 함수 테스트 해보기\n",
    "print(\"원본 문서\")\n",
    "print(docs[3])\n",
    "\n",
    "print(\"\\n\\n\\n\")\n",
    "print(\"함수 적용 문서\")\n",
    "test_func = delete_colon_words(docs[3])\n",
    "print(test_func)\n"
   ]
  },
  {
   "cell_type": "code",
   "execution_count": 16,
   "metadata": {
    "scrolled": false
   },
   "outputs": [
    {
     "data": {
      "text/plain": [
       "0                                                  Error\n",
       "1      We are currently living in an era where the us...\n",
       "2                                                  Error\n",
       "3      The purpose of this study was to investigate w...\n",
       "4      To determine Korean facial profile preferences...\n",
       "                             ...                        \n",
       "425    The purpose of this study was to determine the...\n",
       "426    This study investigated whether temporomandibu...\n",
       "427    A Brazilian girl aged 14 years and 9 months pr...\n",
       "428    To evaluate lower incisor position and bony su...\n",
       "429    A 19-year-old woman presented to our dental cl...\n",
       "Name: abstracts, Length: 430, dtype: object"
      ]
     },
     "execution_count": 16,
     "metadata": {},
     "output_type": "execute_result"
    }
   ],
   "source": [
    "docs = docs.map(delete_colon_words)\n",
    "docs\n"
   ]
  },
  {
   "cell_type": "code",
   "execution_count": 17,
   "metadata": {},
   "outputs": [],
   "source": [
    "\n",
    "docs.to_csv('./to_210128.csv', index=False)"
   ]
  },
  {
   "cell_type": "code",
   "execution_count": 18,
   "metadata": {},
   "outputs": [],
   "source": [
    "from nltk import word_tokenize, pos_tag"
   ]
  },
  {
   "cell_type": "code",
   "execution_count": null,
   "metadata": {
    "scrolled": true
   },
   "outputs": [],
   "source": [
    "test_doc = docs[429]\n",
    "test_doc"
   ]
  },
  {
   "cell_type": "code",
   "execution_count": null,
   "metadata": {},
   "outputs": [],
   "source": [
    "tokenized = word_tokenize(test_doc)\n",
    "\n",
    "print(tokenized)"
   ]
  },
  {
   "cell_type": "code",
   "execution_count": null,
   "metadata": {},
   "outputs": [],
   "source": [
    "# NN, JJ, NNP (명사, 형용사, 고유명사) 가져오기\n",
    "tmp = []\n",
    "for (word, pos) in pos_tag(tokenized):\n",
    "    if pos in ['NN', 'JJ', 'NNP']:\n",
    "        tmp.append(word)"
   ]
  },
  {
   "cell_type": "code",
   "execution_count": null,
   "metadata": {
    "scrolled": true
   },
   "outputs": [],
   "source": [
    "# 제대로 뽑혔는지 확인\n",
    "print(tmp)"
   ]
  },
  {
   "cell_type": "code",
   "execution_count": null,
   "metadata": {},
   "outputs": [],
   "source": [
    "# meta_keywords와 비교\n",
    "df.meta_keywords[429]"
   ]
  },
  {
   "cell_type": "code",
   "execution_count": null,
   "metadata": {},
   "outputs": [],
   "source": [
    "# 형용사, 명사, 고유명사를 뽑는 함수 만들어주기\n",
    "def extract_pos(x):\n",
    "    tokenized = word_tokenize(x)\n",
    "    tmp = []\n",
    "    pos_taged = pos_tag(tokenized)\n",
    "    for (word, pos) in pos_taged:\n",
    "        if pos in ['NN', 'JJ', 'NNP']:\n",
    "            tmp.append(word)\n",
    "    \n",
    "    return tmp"
   ]
  },
  {
   "cell_type": "code",
   "execution_count": null,
   "metadata": {},
   "outputs": [],
   "source": [
    "docs.map(extract_pos)"
   ]
  },
  {
   "cell_type": "code",
   "execution_count": null,
   "metadata": {
    "scrolled": true
   },
   "outputs": [],
   "source": [
    "type(df)"
   ]
  },
  {
   "cell_type": "code",
   "execution_count": null,
   "metadata": {
    "scrolled": false
   },
   "outputs": [],
   "source": [
    "# df.abstracts\n",
    "type(docs)"
   ]
  },
  {
   "cell_type": "code",
   "execution_count": null,
   "metadata": {},
   "outputs": [],
   "source": [
    "# 리스트를 만약 map 하고 싶을 경우\n",
    "# map(function, list)\n",
    "# 판다스 데이터프레임의 하나의 컬럼(series)을 map 하고 싶을 경우\n",
    "# series.map(function)\n",
    "\n",
    "docs = docs.map(extract_pos)"
   ]
  },
  {
   "cell_type": "code",
   "execution_count": null,
   "metadata": {},
   "outputs": [],
   "source": [
    "from gensim import corpora\n",
    "\n",
    "dictionary = corpora.Dictionary(docs)"
   ]
  },
  {
   "cell_type": "code",
   "execution_count": null,
   "metadata": {
    "scrolled": true
   },
   "outputs": [],
   "source": [
    "docs"
   ]
  },
  {
   "cell_type": "code",
   "execution_count": null,
   "metadata": {},
   "outputs": [],
   "source": [
    "dictionary"
   ]
  },
  {
   "cell_type": "code",
   "execution_count": null,
   "metadata": {},
   "outputs": [],
   "source": [
    "corpus = [dictionary.doc2bow(doc) for doc in docs]"
   ]
  },
  {
   "cell_type": "code",
   "execution_count": null,
   "metadata": {},
   "outputs": [],
   "source": [
    "# bag of words (bow)\n",
    "\n",
    "# doc1 : A B C \n",
    "# doc2 : A B D E \n",
    "# doc3 : A B D F\n",
    "\n",
    "# iter1  \n",
    "#      A B C\n",
    "# doc1 1 1 1\n",
    "\n",
    "# iter2\n",
    "#      A B C D E\n",
    "# doc1 1 1 1 0 0\n",
    "# doc2 1 1 0 1 1\n",
    "\n",
    "# iter3\n",
    "#      A B C D E F\n",
    "# doc1 1 1 1 0 0 0\n",
    "# doc2 1 1 0 1 1 0\n",
    "# doc3 1 1 0 1 0 1\n"
   ]
  },
  {
   "cell_type": "code",
   "execution_count": null,
   "metadata": {},
   "outputs": [],
   "source": [
    "print(docs[1])"
   ]
  },
  {
   "cell_type": "code",
   "execution_count": null,
   "metadata": {},
   "outputs": [],
   "source": [
    "print(corpus[1])"
   ]
  },
  {
   "cell_type": "code",
   "execution_count": null,
   "metadata": {
    "scrolled": true
   },
   "outputs": [],
   "source": [
    "print(dictionary[51])"
   ]
  },
  {
   "cell_type": "code",
   "execution_count": null,
   "metadata": {},
   "outputs": [],
   "source": [
    "# 이어서 하기 위해 저장\n",
    "\n",
    "docs.to_csv('./to_210128.csv', index=False)"
   ]
  },
  {
   "cell_type": "code",
   "execution_count": null,
   "metadata": {},
   "outputs": [],
   "source": []
  },
  {
   "cell_type": "code",
   "execution_count": null,
   "metadata": {},
   "outputs": [],
   "source": [
    "# bow 단점\n",
    "# \n",
    "# I : 2, like : 1, dislike : 1 , 철수 : 1, 영희: 1\n",
    "# 단어 간의 상관관계를 알 수 없음\n",
    "\n",
    "\n",
    "# LDA 단점도 비슷... 그래서 보통 \"TOPIC\"을 정하기 위해 명사만 추출하는 경우가 많음"
   ]
  },
  {
   "cell_type": "code",
   "execution_count": null,
   "metadata": {},
   "outputs": [],
   "source": []
  }
 ],
 "metadata": {
  "kernelspec": {
   "display_name": "Python 3",
   "language": "python",
   "name": "python3"
  },
  "language_info": {
   "codemirror_mode": {
    "name": "ipython",
    "version": 3
   },
   "file_extension": ".py",
   "mimetype": "text/x-python",
   "name": "python",
   "nbconvert_exporter": "python",
   "pygments_lexer": "ipython3",
   "version": "3.7.4"
  }
 },
 "nbformat": 4,
 "nbformat_minor": 2
}
