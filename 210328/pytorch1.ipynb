{
 "cells": [
  {
   "cell_type": "code",
   "execution_count": 4,
   "metadata": {},
   "outputs": [],
   "source": [
    "import torch\n",
    "import numpy as np"
   ]
  },
  {
   "cell_type": "code",
   "execution_count": 11,
   "metadata": {},
   "outputs": [
    {
     "data": {
      "text/plain": [
       "tensor([[1., 1., 1.],\n",
       "        [1., 1., 1.],\n",
       "        [1., 1., 1.]])"
      ]
     },
     "execution_count": 11,
     "metadata": {},
     "output_type": "execute_result"
    }
   ],
   "source": [
    "# 텐서 : framework 위에서 계산하기 위한 값들\n",
    "# 모든 숫자가 1로 이루어진 텐서를 생성 (차원 수 만큼)\n",
    "x = torch.ones(3, 3)\n",
    "x"
   ]
  },
  {
   "cell_type": "code",
   "execution_count": 12,
   "metadata": {},
   "outputs": [
    {
     "data": {
      "text/plain": [
       "tensor([[0., 0., 0.],\n",
       "        [0., 0., 0.],\n",
       "        [0., 0., 0.]])"
      ]
     },
     "execution_count": 12,
     "metadata": {},
     "output_type": "execute_result"
    }
   ],
   "source": [
    "# 0인 tensor 생성 \n",
    "y = torch.zeros(3,3)\n",
    "y"
   ]
  },
  {
   "cell_type": "code",
   "execution_count": 37,
   "metadata": {},
   "outputs": [
    {
     "data": {
      "text/plain": [
       "tensor([[0.8168, 0.3362, 0.7335],\n",
       "        [0.5661, 0.9515, 0.2797],\n",
       "        [0.0167, 0.5294, 0.5693]])"
      ]
     },
     "execution_count": 37,
     "metadata": {},
     "output_type": "execute_result"
    }
   ],
   "source": [
    "# 랜덤으로 tensor 생성\n",
    "rand = torch.rand(3, 3)\n",
    "rand"
   ]
  },
  {
   "cell_type": "code",
   "execution_count": 38,
   "metadata": {},
   "outputs": [
    {
     "data": {
      "text/plain": [
       "tensor([[3, 3],\n",
       "        [5, 3]])"
      ]
     },
     "execution_count": 38,
     "metadata": {},
     "output_type": "execute_result"
    }
   ],
   "source": [
    "torch.tensor([[3, 3],\n",
    "             [5, 3]])"
   ]
  },
  {
   "cell_type": "code",
   "execution_count": 41,
   "metadata": {},
   "outputs": [
    {
     "data": {
      "text/plain": [
       "torch.Size([3, 3])"
      ]
     },
     "execution_count": 41,
     "metadata": {},
     "output_type": "execute_result"
    }
   ],
   "source": [
    "# 특정 tensor의 size를 구하는 방법\n",
    "rand.size()"
   ]
  },
  {
   "cell_type": "code",
   "execution_count": 43,
   "metadata": {},
   "outputs": [
    {
     "data": {
      "text/plain": [
       "tensor([[1.3203, 0.6738, 0.1658],\n",
       "        [0.7354, 0.4934, 0.1822],\n",
       "        [1.4424, 1.2376, 1.0854],\n",
       "        [0.8308, 0.9456, 0.5313],\n",
       "        [0.6900, 1.1697, 0.1043]])"
      ]
     },
     "execution_count": 43,
     "metadata": {},
     "output_type": "execute_result"
    }
   ],
   "source": [
    "# 거의 모든 torch 연산은 numpy와 유사함\n",
    "x = torch.rand(5,3)\n",
    "y = torch.rand(5,3)\n",
    "x + y"
   ]
  },
  {
   "cell_type": "code",
   "execution_count": 44,
   "metadata": {},
   "outputs": [
    {
     "data": {
      "text/plain": [
       "tensor([[1.3203, 0.6738, 0.1658],\n",
       "        [0.7354, 0.4934, 0.1822],\n",
       "        [1.4424, 1.2376, 1.0854],\n",
       "        [0.8308, 0.9456, 0.5313],\n",
       "        [0.6900, 1.1697, 0.1043]])"
      ]
     },
     "execution_count": 44,
     "metadata": {},
     "output_type": "execute_result"
    }
   ],
   "source": [
    "# 위와 같은 표현\n",
    "torch.add(x, y)"
   ]
  },
  {
   "cell_type": "code",
   "execution_count": 45,
   "metadata": {},
   "outputs": [
    {
     "data": {
      "text/plain": [
       "tensor([[1.3203, 0.6738, 0.1658],\n",
       "        [0.7354, 0.4934, 0.1822],\n",
       "        [1.4424, 1.2376, 1.0854],\n",
       "        [0.8308, 0.9456, 0.5313],\n",
       "        [0.6900, 1.1697, 0.1043]])"
      ]
     },
     "execution_count": 45,
     "metadata": {},
     "output_type": "execute_result"
    }
   ],
   "source": [
    "# 같은 표현 (거의 안씀)\n",
    "y.add_(x)"
   ]
  },
  {
   "cell_type": "code",
   "execution_count": 51,
   "metadata": {},
   "outputs": [
    {
     "data": {
      "text/plain": [
       "array([[0.58873977, 0.83085037, 0.01236024],\n",
       "       [0.02740272, 0.57402263, 0.55490038],\n",
       "       [0.94684057, 0.669155  , 0.96425111]])"
      ]
     },
     "execution_count": 51,
     "metadata": {},
     "output_type": "execute_result"
    }
   ],
   "source": [
    "# 넘파이와 비교! (3,3차원짜리 랜덤 생성)\n",
    "np_array = np.random.rand(3, 3)\n",
    "np_array"
   ]
  },
  {
   "cell_type": "code",
   "execution_count": 53,
   "metadata": {},
   "outputs": [
    {
     "data": {
      "text/plain": [
       "array([[0.58873977, 0.83085037],\n",
       "       [0.02740272, 0.57402263],\n",
       "       [0.94684057, 0.669155  ]])"
      ]
     },
     "execution_count": 53,
     "metadata": {},
     "output_type": "execute_result"
    }
   ],
   "source": [
    "np_array[:, :2]"
   ]
  },
  {
   "cell_type": "code",
   "execution_count": 64,
   "metadata": {},
   "outputs": [
    {
     "data": {
      "text/plain": [
       "tensor([[0.3410, 0.5509, 0.4886],\n",
       "        [0.5848, 0.0076, 0.1140],\n",
       "        [0.2982, 0.8624, 0.7320]])"
      ]
     },
     "execution_count": 64,
     "metadata": {},
     "output_type": "execute_result"
    }
   ],
   "source": [
    "# 토치도 numpy와 마찬가지로 인덱싱이 가능함\n",
    "# (토치의 가장 큰 장점 중 하나)\n",
    "x = torch.rand(3,3)\n",
    "x"
   ]
  },
  {
   "cell_type": "code",
   "execution_count": 65,
   "metadata": {},
   "outputs": [
    {
     "data": {
      "text/plain": [
       "tensor([[0.3410, 0.5509],\n",
       "        [0.5848, 0.0076],\n",
       "        [0.2982, 0.8624]])"
      ]
     },
     "execution_count": 65,
     "metadata": {},
     "output_type": "execute_result"
    }
   ],
   "source": [
    "x[:, :2]"
   ]
  },
  {
   "cell_type": "code",
   "execution_count": 68,
   "metadata": {},
   "outputs": [
    {
     "data": {
      "text/plain": [
       "tensor([[0.5625, 0.6373, 0.0034, 0.9573],\n",
       "        [0.6515, 0.6055, 0.4234, 0.3189],\n",
       "        [0.3774, 0.4953, 0.6943, 0.0546],\n",
       "        [0.6656, 0.5535, 0.9050, 0.3755]])"
      ]
     },
     "execution_count": 68,
     "metadata": {},
     "output_type": "execute_result"
    }
   ],
   "source": [
    "# torch.view : tensor의 dimension shape을 변경하는 방법\n",
    "x = torch.rand(4, 4)\n",
    "x"
   ]
  },
  {
   "cell_type": "code",
   "execution_count": 73,
   "metadata": {},
   "outputs": [
    {
     "data": {
      "text/plain": [
       "tensor([0.5625, 0.6373, 0.0034, 0.9573, 0.6515, 0.6055, 0.4234, 0.3189, 0.3774,\n",
       "        0.4953, 0.6943, 0.0546, 0.6656, 0.5535, 0.9050, 0.3755])"
      ]
     },
     "execution_count": 73,
     "metadata": {},
     "output_type": "execute_result"
    }
   ],
   "source": [
    "# element 갯수에 따라 마음껏 바꿀 수 있음\n",
    "x.view(16)"
   ]
  },
  {
   "cell_type": "code",
   "execution_count": 77,
   "metadata": {},
   "outputs": [
    {
     "data": {
      "text/plain": [
       "tensor([[0.5625, 0.6373, 0.0034, 0.9573, 0.6515, 0.6055, 0.4234, 0.3189],\n",
       "        [0.3774, 0.4953, 0.6943, 0.0546, 0.6656, 0.5535, 0.9050, 0.3755]])"
      ]
     },
     "execution_count": 77,
     "metadata": {},
     "output_type": "execute_result"
    }
   ],
   "source": [
    "x.view(2, 8)"
   ]
  },
  {
   "cell_type": "code",
   "execution_count": 78,
   "metadata": {},
   "outputs": [
    {
     "data": {
      "text/plain": [
       "tensor([[0.5625, 0.6373, 0.0034, 0.9573, 0.6515, 0.6055, 0.4234, 0.3189],\n",
       "        [0.3774, 0.4953, 0.6943, 0.0546, 0.6656, 0.5535, 0.9050, 0.3755]])"
      ]
     },
     "execution_count": 78,
     "metadata": {},
     "output_type": "execute_result"
    }
   ],
   "source": [
    "# -1을 사용하면 남는 차원을 채워줌\n",
    "x.view(-1, 8)"
   ]
  },
  {
   "cell_type": "code",
   "execution_count": 79,
   "metadata": {},
   "outputs": [
    {
     "ename": "RuntimeError",
     "evalue": "shape '[-1, 6]' is invalid for input of size 16",
     "output_type": "error",
     "traceback": [
      "\u001b[0;31m---------------------------------------------------------------------------\u001b[0m",
      "\u001b[0;31mRuntimeError\u001b[0m                              Traceback (most recent call last)",
      "\u001b[0;32m<ipython-input-79-bc987c813cb5>\u001b[0m in \u001b[0;36m<module>\u001b[0;34m\u001b[0m\n\u001b[1;32m      1\u001b[0m \u001b[0;31m# 차원 수가 맞지 않으면 에러 발생!\u001b[0m\u001b[0;34m\u001b[0m\u001b[0;34m\u001b[0m\u001b[0;34m\u001b[0m\u001b[0m\n\u001b[0;32m----> 2\u001b[0;31m \u001b[0mx\u001b[0m\u001b[0;34m.\u001b[0m\u001b[0mview\u001b[0m\u001b[0;34m(\u001b[0m\u001b[0;34m-\u001b[0m\u001b[0;36m1\u001b[0m\u001b[0;34m,\u001b[0m \u001b[0;36m6\u001b[0m\u001b[0;34m)\u001b[0m\u001b[0;34m\u001b[0m\u001b[0;34m\u001b[0m\u001b[0m\n\u001b[0m",
      "\u001b[0;31mRuntimeError\u001b[0m: shape '[-1, 6]' is invalid for input of size 16"
     ]
    }
   ],
   "source": [
    "# 차원 수가 맞지 않으면 에러 발생!\n",
    "x.view(-1, 6)"
   ]
  },
  {
   "cell_type": "code",
   "execution_count": 81,
   "metadata": {},
   "outputs": [
    {
     "data": {
      "text/plain": [
       "tensor([0.6287, 0.4771, 0.4862, 0.7778, 0.8528, 0.6312, 0.5919, 0.8104, 0.5198,\n",
       "        0.6228, 0.0284, 0.0177, 0.0032, 0.0799, 0.5039, 0.7990, 0.0518, 0.8655,\n",
       "        0.8927, 0.0944, 0.1740, 0.4638, 0.1289, 0.7970, 0.3259, 0.6002, 0.0402])"
      ]
     },
     "execution_count": 81,
     "metadata": {},
     "output_type": "execute_result"
    }
   ],
   "source": [
    "# 좀 더 어렵게 3차원으로 해보기\n",
    "x = torch.rand(27)\n",
    "x"
   ]
  },
  {
   "cell_type": "code",
   "execution_count": 82,
   "metadata": {},
   "outputs": [
    {
     "data": {
      "text/plain": [
       "tensor([[[0.6287, 0.4771, 0.4862],\n",
       "         [0.7778, 0.8528, 0.6312],\n",
       "         [0.5919, 0.8104, 0.5198]],\n",
       "\n",
       "        [[0.6228, 0.0284, 0.0177],\n",
       "         [0.0032, 0.0799, 0.5039],\n",
       "         [0.7990, 0.0518, 0.8655]],\n",
       "\n",
       "        [[0.8927, 0.0944, 0.1740],\n",
       "         [0.4638, 0.1289, 0.7970],\n",
       "         [0.3259, 0.6002, 0.0402]]])"
      ]
     },
     "execution_count": 82,
     "metadata": {},
     "output_type": "execute_result"
    }
   ],
   "source": [
    "# 모든 값은 제일 뒤 dimension부터 채워짐\n",
    "x.view(-1, 3, 3)"
   ]
  },
  {
   "cell_type": "code",
   "execution_count": 85,
   "metadata": {},
   "outputs": [
    {
     "data": {
      "text/plain": [
       "array([0.6286918 , 0.47712463, 0.48624605, 0.77777433, 0.8527724 ,\n",
       "       0.63118887, 0.59189   , 0.8103978 , 0.51977605, 0.62278736,\n",
       "       0.02844268, 0.01770413, 0.00320107, 0.07988924, 0.5039247 ,\n",
       "       0.79895824, 0.05177379, 0.86552536, 0.8926686 , 0.09444141,\n",
       "       0.1740219 , 0.46378434, 0.12886167, 0.7969505 , 0.32593882,\n",
       "       0.60016924, 0.04024613], dtype=float32)"
      ]
     },
     "execution_count": 85,
     "metadata": {},
     "output_type": "execute_result"
    }
   ],
   "source": [
    "# numpy로 변경하기\n",
    "test_np = x.numpy()\n",
    "test_np"
   ]
  },
  {
   "cell_type": "code",
   "execution_count": 86,
   "metadata": {},
   "outputs": [
    {
     "data": {
      "text/plain": [
       "False"
      ]
     },
     "execution_count": 86,
     "metadata": {},
     "output_type": "execute_result"
    }
   ],
   "source": [
    "# GPU <-> CPU를 전환하는 방법 \n",
    "# True가 나올 경우 gpu computing 가능\n",
    "torch.cuda.is_available()"
   ]
  },
  {
   "cell_type": "code",
   "execution_count": 88,
   "metadata": {},
   "outputs": [
    {
     "data": {
      "text/plain": [
       "[]"
      ]
     },
     "execution_count": 88,
     "metadata": {},
     "output_type": "execute_result"
    }
   ],
   "source": [
    "# 현재 사용 가능한 device check\n",
    "[torch.cuda.device(i) for i in range(torch.cuda.device_count())]"
   ]
  },
  {
   "cell_type": "code",
   "execution_count": null,
   "metadata": {},
   "outputs": [],
   "source": [
    "# GPU가 있을 경우 시도\n",
    "torch.cuda.is_available()\n",
    "\n",
    "torch.cuda.current_device()\n",
    "\n",
    "torch.cuda.device(0)\n",
    "\n",
    "torch.cuda.device_count()\n",
    "\n",
    "torch.cuda.get_device_name(0)\n"
   ]
  },
  {
   "cell_type": "code",
   "execution_count": null,
   "metadata": {},
   "outputs": [],
   "source": [
    "# 사용할 device를 지정\n",
    "device = torch.device(\"cuda\")\n",
    "x = torch.ones(3, 3)\n",
    "\n",
    "# 1. 직접 device를 지정함\n",
    "torch.ones_like(x, device=device)\n",
    "# 2. to_device를 사용\n",
    "x = x.to(device)"
   ]
  },
  {
   "cell_type": "code",
   "execution_count": null,
   "metadata": {},
   "outputs": [],
   "source": []
  }
 ],
 "metadata": {
  "kernelspec": {
   "display_name": "Python 3",
   "language": "python",
   "name": "python3"
  },
  "language_info": {
   "codemirror_mode": {
    "name": "ipython",
    "version": 3
   },
   "file_extension": ".py",
   "mimetype": "text/x-python",
   "name": "python",
   "nbconvert_exporter": "python",
   "pygments_lexer": "ipython3",
   "version": "3.7.4"
  }
 },
 "nbformat": 4,
 "nbformat_minor": 2
}
