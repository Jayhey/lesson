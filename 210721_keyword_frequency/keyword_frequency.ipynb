{
 "cells": [
  {
   "cell_type": "code",
   "execution_count": 2,
   "metadata": {},
   "outputs": [],
   "source": [
    "import pandas as pd\n",
    "import time\n",
    "\n",
    "import requests\n",
    "from bs4 import BeautifulSoup"
   ]
  },
  {
   "cell_type": "code",
   "execution_count": 7,
   "metadata": {},
   "outputs": [],
   "source": [
    "from tqdm.notebook import tqdm"
   ]
  },
  {
   "cell_type": "code",
   "execution_count": 3,
   "metadata": {},
   "outputs": [],
   "source": [
    "# change full text df\n",
    "df = pd.read_csv(\"../files/periotitle.csv\")"
   ]
  },
  {
   "cell_type": "code",
   "execution_count": 5,
   "metadata": {},
   "outputs": [],
   "source": [
    "def crawling_keywords(url):\n",
    "    # url Html 구조 긁어오기\n",
    "    page = requests.get(url)\n",
    "    soup = BeautifulSoup(page.content, 'html.parser')\n",
    "    \n",
    "    try:\n",
    "        div_abstract = soup.find('div', class_='abstract')   \n",
    "        div_abstract.find('div', class_='abstract-content selected').decompose()\n",
    "\n",
    "        keywords = div_abstract.find('p').get_text(strip=True)\n",
    "        keywords = keywords.split(':')[1]\n",
    "        meta_keywords = keywords = keywords.split('; ')\n",
    "        meta_keywords = ','.join(meta_keywords)\n",
    "    except:\n",
    "        meta_keywords = 'Error'\n",
    "\n",
    "    return meta_keywords\n"
   ]
  },
  {
   "cell_type": "code",
   "execution_count": 35,
   "metadata": {},
   "outputs": [],
   "source": [
    "df['meta_keywords'] = 'not yet'"
   ]
  },
  {
   "cell_type": "code",
   "execution_count": null,
   "metadata": {
    "scrolled": true
   },
   "outputs": [
    {
     "data": {
      "application/vnd.jupyter.widget-view+json": {
       "model_id": "aa5f101c3cf84df89384a7b8f89209c8",
       "version_major": 2,
       "version_minor": 0
      },
      "text/plain": [
       "  0%|          | 0/10000 [00:00<?, ?it/s]"
      ]
     },
     "metadata": {},
     "output_type": "display_data"
    }
   ],
   "source": [
    "for i, url in enumerate(tqdm(df.links)):\n",
    "    keywords = crawling_keywords(url)\n",
    "    df['meta_keywords'][i] = keywords\n",
    "    "
   ]
  },
  {
   "cell_type": "code",
   "execution_count": 40,
   "metadata": {
    "scrolled": true
   },
   "outputs": [
    {
     "data": {
      "text/html": [
       "<div>\n",
       "<style scoped>\n",
       "    .dataframe tbody tr th:only-of-type {\n",
       "        vertical-align: middle;\n",
       "    }\n",
       "\n",
       "    .dataframe tbody tr th {\n",
       "        vertical-align: top;\n",
       "    }\n",
       "\n",
       "    .dataframe thead th {\n",
       "        text-align: right;\n",
       "    }\n",
       "</style>\n",
       "<table border=\"1\" class=\"dataframe\">\n",
       "  <thead>\n",
       "    <tr style=\"text-align: right;\">\n",
       "      <th></th>\n",
       "      <th>titles</th>\n",
       "      <th>links</th>\n",
       "      <th>meta_keywords</th>\n",
       "    </tr>\n",
       "  </thead>\n",
       "  <tbody>\n",
       "    <tr>\n",
       "      <th>8</th>\n",
       "      <td>Efficacy of Local Antimicrobials in the Non-Su...</td>\n",
       "      <td>https://pubmed.ncbi.nlm.nih.gov/27468792/</td>\n",
       "      <td>Anti-infective agents,diabetes mellitus,period...</td>\n",
       "    </tr>\n",
       "    <tr>\n",
       "      <th>9</th>\n",
       "      <td>Clinical evaluation of ultrasonic subgingival ...</td>\n",
       "      <td>https://pubmed.ncbi.nlm.nih.gov/31992331/</td>\n",
       "      <td>Non-surgical periodontal therapy,Periodontitis...</td>\n",
       "    </tr>\n",
       "    <tr>\n",
       "      <th>12</th>\n",
       "      <td>Efficacy of omega 3 fatty acid as an adjunct i...</td>\n",
       "      <td>https://pubmed.ncbi.nlm.nih.gov/32436902/</td>\n",
       "      <td>Adjunct,chronic periodontitis,omega-3 fatty acid.</td>\n",
       "    </tr>\n",
       "    <tr>\n",
       "      <th>13</th>\n",
       "      <td>Focal infection of periodontal origin.</td>\n",
       "      <td>https://pubmed.ncbi.nlm.nih.gov/30892771/</td>\n",
       "      <td>bacterial pathogens,focal infection,herpesviru...</td>\n",
       "    </tr>\n",
       "    <tr>\n",
       "      <th>16</th>\n",
       "      <td>Presentation of Localized Aggressive Periodont...</td>\n",
       "      <td>https://pubmed.ncbi.nlm.nih.gov/31490033/</td>\n",
       "      <td>Aggressive periodontitis,alveolar bone loss,ge...</td>\n",
       "    </tr>\n",
       "    <tr>\n",
       "      <th>17</th>\n",
       "      <td>Periodontitis phenotypes and clinical response...</td>\n",
       "      <td>https://pubmed.ncbi.nlm.nih.gov/31995259/</td>\n",
       "      <td>periodontal diseases,periodontitis,prognosis,r...</td>\n",
       "    </tr>\n",
       "  </tbody>\n",
       "</table>\n",
       "</div>"
      ],
      "text/plain": [
       "                                               titles  \\\n",
       "8   Efficacy of Local Antimicrobials in the Non-Su...   \n",
       "9   Clinical evaluation of ultrasonic subgingival ...   \n",
       "12  Efficacy of omega 3 fatty acid as an adjunct i...   \n",
       "13             Focal infection of periodontal origin.   \n",
       "16  Presentation of Localized Aggressive Periodont...   \n",
       "17  Periodontitis phenotypes and clinical response...   \n",
       "\n",
       "                                        links  \\\n",
       "8   https://pubmed.ncbi.nlm.nih.gov/27468792/   \n",
       "9   https://pubmed.ncbi.nlm.nih.gov/31992331/   \n",
       "12  https://pubmed.ncbi.nlm.nih.gov/32436902/   \n",
       "13  https://pubmed.ncbi.nlm.nih.gov/30892771/   \n",
       "16  https://pubmed.ncbi.nlm.nih.gov/31490033/   \n",
       "17  https://pubmed.ncbi.nlm.nih.gov/31995259/   \n",
       "\n",
       "                                        meta_keywords  \n",
       "8   Anti-infective agents,diabetes mellitus,period...  \n",
       "9   Non-surgical periodontal therapy,Periodontitis...  \n",
       "12  Adjunct,chronic periodontitis,omega-3 fatty acid.  \n",
       "13  bacterial pathogens,focal infection,herpesviru...  \n",
       "16  Aggressive periodontitis,alveolar bone loss,ge...  \n",
       "17  periodontal diseases,periodontitis,prognosis,r...  "
      ]
     },
     "execution_count": 40,
     "metadata": {},
     "output_type": "execute_result"
    }
   ],
   "source": [
    "tmp = df[~df['meta_keywords'].str.contains('Error|not yet')]#['meta_keywords']\n",
    "tmp"
   ]
  },
  {
   "cell_type": "code",
   "execution_count": 42,
   "metadata": {},
   "outputs": [
    {
     "data": {
      "text/plain": [
       "'Anti-infective agents,diabetes mellitus,periodontal diseases,review, systematic,root planing.'"
      ]
     },
     "execution_count": 42,
     "metadata": {},
     "output_type": "execute_result"
    }
   ],
   "source": [
    "tmp['meta_keywords'][8]"
   ]
  },
  {
   "cell_type": "code",
   "execution_count": 39,
   "metadata": {},
   "outputs": [
    {
     "data": {
      "text/html": [
       "<div>\n",
       "<style scoped>\n",
       "    .dataframe tbody tr th:only-of-type {\n",
       "        vertical-align: middle;\n",
       "    }\n",
       "\n",
       "    .dataframe tbody tr th {\n",
       "        vertical-align: top;\n",
       "    }\n",
       "\n",
       "    .dataframe thead th {\n",
       "        text-align: right;\n",
       "    }\n",
       "</style>\n",
       "<table border=\"1\" class=\"dataframe\">\n",
       "  <thead>\n",
       "    <tr style=\"text-align: right;\">\n",
       "      <th></th>\n",
       "      <th>titles</th>\n",
       "      <th>links</th>\n",
       "      <th>meta_keywords</th>\n",
       "    </tr>\n",
       "  </thead>\n",
       "  <tbody>\n",
       "    <tr>\n",
       "      <th>0</th>\n",
       "      <td>Periodontitis: facts, fallacies and the future.</td>\n",
       "      <td>https://pubmed.ncbi.nlm.nih.gov/28758294/</td>\n",
       "      <td>Error</td>\n",
       "    </tr>\n",
       "    <tr>\n",
       "      <th>1</th>\n",
       "      <td>Lifestyle and periodontitis: The emergence of ...</td>\n",
       "      <td>https://pubmed.ncbi.nlm.nih.gov/30198129/</td>\n",
       "      <td>Error</td>\n",
       "    </tr>\n",
       "    <tr>\n",
       "      <th>2</th>\n",
       "      <td>Periodontal disease and its impact on general ...</td>\n",
       "      <td>https://pubmed.ncbi.nlm.nih.gov/32294679/</td>\n",
       "      <td>Error</td>\n",
       "    </tr>\n",
       "    <tr>\n",
       "      <th>3</th>\n",
       "      <td>Scaling and root planing vs. conservative surg...</td>\n",
       "      <td>https://pubmed.ncbi.nlm.nih.gov/27045434/</td>\n",
       "      <td>Error</td>\n",
       "    </tr>\n",
       "    <tr>\n",
       "      <th>4</th>\n",
       "      <td>Orthodontic treatment in patients with aggress...</td>\n",
       "      <td>https://pubmed.ncbi.nlm.nih.gov/29602347/</td>\n",
       "      <td>Error</td>\n",
       "    </tr>\n",
       "    <tr>\n",
       "      <th>...</th>\n",
       "      <td>...</td>\n",
       "      <td>...</td>\n",
       "      <td>...</td>\n",
       "    </tr>\n",
       "    <tr>\n",
       "      <th>9995</th>\n",
       "      <td>The pocket mouse (Perognathus longimembris). A...</td>\n",
       "      <td>https://pubmed.ncbi.nlm.nih.gov/1060751/</td>\n",
       "      <td>not yet</td>\n",
       "    </tr>\n",
       "    <tr>\n",
       "      <th>9996</th>\n",
       "      <td>[Relationships of five periodontal pathogens c...</td>\n",
       "      <td>https://pubmed.ncbi.nlm.nih.gov/24298807/</td>\n",
       "      <td>not yet</td>\n",
       "    </tr>\n",
       "    <tr>\n",
       "      <th>9997</th>\n",
       "      <td>Odontogenic inflammatory lesions in patients w...</td>\n",
       "      <td>https://pubmed.ncbi.nlm.nih.gov/32134026/</td>\n",
       "      <td>not yet</td>\n",
       "    </tr>\n",
       "    <tr>\n",
       "      <th>9998</th>\n",
       "      <td>Alendronate treatment of naturally-occurring p...</td>\n",
       "      <td>https://pubmed.ncbi.nlm.nih.gov/7776166/</td>\n",
       "      <td>not yet</td>\n",
       "    </tr>\n",
       "    <tr>\n",
       "      <th>9999</th>\n",
       "      <td>[Polymorphonuclear neutrophilic granulocytes a...</td>\n",
       "      <td>https://pubmed.ncbi.nlm.nih.gov/2677651/</td>\n",
       "      <td>not yet</td>\n",
       "    </tr>\n",
       "  </tbody>\n",
       "</table>\n",
       "<p>10000 rows × 3 columns</p>\n",
       "</div>"
      ],
      "text/plain": [
       "                                                 titles  \\\n",
       "0       Periodontitis: facts, fallacies and the future.   \n",
       "1     Lifestyle and periodontitis: The emergence of ...   \n",
       "2     Periodontal disease and its impact on general ...   \n",
       "3     Scaling and root planing vs. conservative surg...   \n",
       "4     Orthodontic treatment in patients with aggress...   \n",
       "...                                                 ...   \n",
       "9995  The pocket mouse (Perognathus longimembris). A...   \n",
       "9996  [Relationships of five periodontal pathogens c...   \n",
       "9997  Odontogenic inflammatory lesions in patients w...   \n",
       "9998  Alendronate treatment of naturally-occurring p...   \n",
       "9999  [Polymorphonuclear neutrophilic granulocytes a...   \n",
       "\n",
       "                                          links meta_keywords  \n",
       "0     https://pubmed.ncbi.nlm.nih.gov/28758294/         Error  \n",
       "1     https://pubmed.ncbi.nlm.nih.gov/30198129/         Error  \n",
       "2     https://pubmed.ncbi.nlm.nih.gov/32294679/         Error  \n",
       "3     https://pubmed.ncbi.nlm.nih.gov/27045434/         Error  \n",
       "4     https://pubmed.ncbi.nlm.nih.gov/29602347/         Error  \n",
       "...                                         ...           ...  \n",
       "9995   https://pubmed.ncbi.nlm.nih.gov/1060751/       not yet  \n",
       "9996  https://pubmed.ncbi.nlm.nih.gov/24298807/       not yet  \n",
       "9997  https://pubmed.ncbi.nlm.nih.gov/32134026/       not yet  \n",
       "9998   https://pubmed.ncbi.nlm.nih.gov/7776166/       not yet  \n",
       "9999   https://pubmed.ncbi.nlm.nih.gov/2677651/       not yet  \n",
       "\n",
       "[10000 rows x 3 columns]"
      ]
     },
     "execution_count": 39,
     "metadata": {},
     "output_type": "execute_result"
    }
   ],
   "source": [
    "df"
   ]
  },
  {
   "cell_type": "code",
   "execution_count": null,
   "metadata": {},
   "outputs": [],
   "source": []
  }
 ],
 "metadata": {
  "kernelspec": {
   "display_name": "Python 3",
   "language": "python",
   "name": "python3"
  },
  "language_info": {
   "codemirror_mode": {
    "name": "ipython",
    "version": 3
   },
   "file_extension": ".py",
   "mimetype": "text/x-python",
   "name": "python",
   "nbconvert_exporter": "python",
   "pygments_lexer": "ipython3",
   "version": "3.7.4"
  }
 },
 "nbformat": 4,
 "nbformat_minor": 2
}
