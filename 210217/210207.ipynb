{
 "cells": [
  {
   "cell_type": "code",
   "execution_count": 41,
   "metadata": {},
   "outputs": [],
   "source": [
    "import pandas as pd\n",
    "from gensim import corpora\n",
    "from nltk import word_tokenize, pos_tag"
   ]
  },
  {
   "cell_type": "code",
   "execution_count": 42,
   "metadata": {},
   "outputs": [],
   "source": [
    "df = pd.read_csv('/Users/geoffrey/jupyter/lesson/210131/test.csv')"
   ]
  },
  {
   "cell_type": "code",
   "execution_count": 43,
   "metadata": {},
   "outputs": [
    {
     "data": {
      "text/html": [
       "<div>\n",
       "<style scoped>\n",
       "    .dataframe tbody tr th:only-of-type {\n",
       "        vertical-align: middle;\n",
       "    }\n",
       "\n",
       "    .dataframe tbody tr th {\n",
       "        vertical-align: top;\n",
       "    }\n",
       "\n",
       "    .dataframe thead th {\n",
       "        text-align: right;\n",
       "    }\n",
       "</style>\n",
       "<table border=\"1\" class=\"dataframe\">\n",
       "  <thead>\n",
       "    <tr style=\"text-align: right;\">\n",
       "      <th></th>\n",
       "      <th>titles</th>\n",
       "      <th>links</th>\n",
       "      <th>abstracts</th>\n",
       "      <th>meta_names</th>\n",
       "      <th>meta_keywords</th>\n",
       "    </tr>\n",
       "  </thead>\n",
       "  <tbody>\n",
       "    <tr>\n",
       "      <th>0</th>\n",
       "      <td>A systematic review of the accuracy and effici...</td>\n",
       "      <td>https://pubmed.ncbi.nlm.nih.gov/31149604/</td>\n",
       "      <td>We are currently living in an era where the us...</td>\n",
       "      <td>Lidia Galan-Lopez,Jorge Barcia-Gonzalez,Eliseo...</td>\n",
       "      <td>Clear aligners,Invisalign®,Invisible orthodont...</td>\n",
       "    </tr>\n",
       "    <tr>\n",
       "      <th>1</th>\n",
       "      <td>Clustering of craniofacial patterns inKoreanch...</td>\n",
       "      <td>https://pubmed.ncbi.nlm.nih.gov/28670566/</td>\n",
       "      <td>The purpose of this study was to investigate w...</td>\n",
       "      <td>Stephanie Maritza Anderson,Hoi-Jeong Lim,Ki-Be...</td>\n",
       "      <td>Adenotonsillar hypertrophy,Cluster analysis,Cr...</td>\n",
       "    </tr>\n",
       "    <tr>\n",
       "      <th>2</th>\n",
       "      <td>The effect of western adaptation of Hispanic-A...</td>\n",
       "      <td>https://pubmed.ncbi.nlm.nih.gov/24511513/</td>\n",
       "      <td>To determine Korean facial profile preferences...</td>\n",
       "      <td>Leo Toureno,Yoon-Ah Kook,Mohamed Bayome,Jae Hy...</td>\n",
       "      <td>Hispanic-American,Korean facial profile,Orthod...</td>\n",
       "    </tr>\n",
       "    <tr>\n",
       "      <th>3</th>\n",
       "      <td>Predictors of midpalatal suture expansion by m...</td>\n",
       "      <td>https://pubmed.ncbi.nlm.nih.gov/31815104/</td>\n",
       "      <td>We sought to determine the predictors of midpa...</td>\n",
       "      <td>Hyerin Shin,Chung-Ju Hwang,Kee-Joon Lee,Yoon J...</td>\n",
       "      <td>Adult treatment,Expansion,Miniscrew-assisted r...</td>\n",
       "    </tr>\n",
       "    <tr>\n",
       "      <th>4</th>\n",
       "      <td>Part I. What drivesKoreanadults to seek orthod...</td>\n",
       "      <td>https://pubmed.ncbi.nlm.nih.gov/33144525/</td>\n",
       "      <td>To develop a standardized instrument to measur...</td>\n",
       "      <td>Min-Hee Oh,Eun-A Kim,Ae-Hyun Park,MinSoo Kim,J...</td>\n",
       "      <td>Adult orthodontic treatment,Perception,Reliabi...</td>\n",
       "    </tr>\n",
       "  </tbody>\n",
       "</table>\n",
       "</div>"
      ],
      "text/plain": [
       "                                              titles  \\\n",
       "0  A systematic review of the accuracy and effici...   \n",
       "1  Clustering of craniofacial patterns inKoreanch...   \n",
       "2  The effect of western adaptation of Hispanic-A...   \n",
       "3  Predictors of midpalatal suture expansion by m...   \n",
       "4  Part I. What drivesKoreanadults to seek orthod...   \n",
       "\n",
       "                                       links  \\\n",
       "0  https://pubmed.ncbi.nlm.nih.gov/31149604/   \n",
       "1  https://pubmed.ncbi.nlm.nih.gov/28670566/   \n",
       "2  https://pubmed.ncbi.nlm.nih.gov/24511513/   \n",
       "3  https://pubmed.ncbi.nlm.nih.gov/31815104/   \n",
       "4  https://pubmed.ncbi.nlm.nih.gov/33144525/   \n",
       "\n",
       "                                           abstracts  \\\n",
       "0  We are currently living in an era where the us...   \n",
       "1  The purpose of this study was to investigate w...   \n",
       "2  To determine Korean facial profile preferences...   \n",
       "3  We sought to determine the predictors of midpa...   \n",
       "4  To develop a standardized instrument to measur...   \n",
       "\n",
       "                                          meta_names  \\\n",
       "0  Lidia Galan-Lopez,Jorge Barcia-Gonzalez,Eliseo...   \n",
       "1  Stephanie Maritza Anderson,Hoi-Jeong Lim,Ki-Be...   \n",
       "2  Leo Toureno,Yoon-Ah Kook,Mohamed Bayome,Jae Hy...   \n",
       "3  Hyerin Shin,Chung-Ju Hwang,Kee-Joon Lee,Yoon J...   \n",
       "4  Min-Hee Oh,Eun-A Kim,Ae-Hyun Park,MinSoo Kim,J...   \n",
       "\n",
       "                                       meta_keywords  \n",
       "0  Clear aligners,Invisalign®,Invisible orthodont...  \n",
       "1  Adenotonsillar hypertrophy,Cluster analysis,Cr...  \n",
       "2  Hispanic-American,Korean facial profile,Orthod...  \n",
       "3  Adult treatment,Expansion,Miniscrew-assisted r...  \n",
       "4  Adult orthodontic treatment,Perception,Reliabi...  "
      ]
     },
     "execution_count": 43,
     "metadata": {},
     "output_type": "execute_result"
    }
   ],
   "source": [
    "df.head()"
   ]
  },
  {
   "cell_type": "markdown",
   "metadata": {},
   "source": [
    "## 예시 dataset (common_texts)를 가지고 간단한 예제 해보기"
   ]
  },
  {
   "cell_type": "code",
   "execution_count": 70,
   "metadata": {},
   "outputs": [],
   "source": [
    "# 공식 홈페이지에서 가져온 예시 파일 실행 해보기\n",
    "from gensim.test.utils import common_texts\n",
    "from gensim.models.word2vec import Word2Vec"
   ]
  },
  {
   "cell_type": "code",
   "execution_count": 65,
   "metadata": {},
   "outputs": [
    {
     "data": {
      "text/plain": [
       "[['human', 'interface', 'computer'],\n",
       " ['survey', 'user', 'computer', 'system', 'response', 'time'],\n",
       " ['eps', 'user', 'interface', 'system'],\n",
       " ['system', 'human', 'system', 'eps'],\n",
       " ['user', 'response', 'time'],\n",
       " ['trees'],\n",
       " ['graph', 'trees'],\n",
       " ['graph', 'minors', 'trees'],\n",
       " ['graph', 'minors', 'survey']]"
      ]
     },
     "execution_count": 65,
     "metadata": {},
     "output_type": "execute_result"
    }
   ],
   "source": [
    "common_texts"
   ]
  },
  {
   "cell_type": "code",
   "execution_count": 68,
   "metadata": {},
   "outputs": [],
   "source": [
    "model = Word2Vec(sentences=common_texts, window=2, min_count=1, workers=4)\n",
    "# model.save(\"word2vec.model\")\n"
   ]
  },
  {
   "cell_type": "code",
   "execution_count": 25,
   "metadata": {
    "collapsed": true
   },
   "outputs": [
    {
     "data": {
      "text/plain": [
       "array([-1.4544916e-03,  7.4758800e-04, -1.4969446e-04, -4.1026575e-03,\n",
       "       -7.0850155e-04,  3.0174598e-03,  4.6576318e-04, -4.0867934e-03,\n",
       "        3.7663456e-03, -2.9088086e-03,  1.7496248e-03,  3.9470429e-03,\n",
       "       -1.4800032e-03, -5.4808293e-04,  1.4161872e-03, -2.1496371e-03,\n",
       "        4.7310176e-03,  2.2273348e-03,  1.4395219e-04, -1.0634592e-03,\n",
       "        4.1789715e-03, -5.5156179e-05,  2.1652929e-03, -3.0205487e-03,\n",
       "       -3.6772732e-03,  1.7025284e-03, -4.4582351e-03,  1.3181107e-03,\n",
       "       -2.5425754e-03, -1.7258832e-03, -9.5212884e-04, -3.9873472e-03,\n",
       "        3.0384201e-03, -4.0469752e-03,  9.2468516e-04,  2.7900797e-03,\n",
       "        4.8067630e-03, -1.4311504e-03, -3.4093717e-03,  3.0013756e-03,\n",
       "        3.4553218e-03,  1.3678238e-03, -2.0627342e-03,  6.8427250e-04,\n",
       "       -9.5110346e-04,  3.8213411e-03, -3.1775141e-03, -8.2453497e-04,\n",
       "       -4.9875188e-03, -3.4266072e-03,  1.1962842e-03, -6.8729010e-04,\n",
       "        8.0888753e-04, -4.0665101e-03, -1.6969936e-04,  7.5591350e-04,\n",
       "       -2.8541985e-03, -7.0486328e-04, -3.0789147e-03,  1.9700415e-03,\n",
       "       -8.1059430e-04, -4.7880593e-03, -4.4528721e-03,  1.1928304e-05,\n",
       "        1.4352057e-03,  4.9296846e-03,  3.0482961e-03, -4.6133413e-03,\n",
       "       -1.7367217e-03, -4.2188433e-03,  4.7222958e-03, -3.8526824e-03,\n",
       "       -9.9287380e-04,  1.1577819e-03,  3.2499407e-03, -1.5059770e-04,\n",
       "        3.2959555e-03,  1.1360962e-03, -1.1120011e-03,  2.6855825e-03,\n",
       "       -2.9189077e-03, -5.5432902e-04, -2.0193474e-03, -9.9711143e-04,\n",
       "       -1.4858433e-03, -2.4721204e-04, -1.3920838e-03, -3.4053640e-03,\n",
       "        2.8956155e-03, -8.5358118e-04, -4.8844102e-03, -5.9127650e-04,\n",
       "       -6.0078967e-04,  8.6589495e-04,  1.6891782e-03,  4.2256792e-03,\n",
       "       -3.8177092e-03,  2.7128862e-04, -2.1670810e-03, -4.2898641e-03],\n",
       "      dtype=float32)"
      ]
     },
     "execution_count": 25,
     "metadata": {},
     "output_type": "execute_result"
    }
   ],
   "source": [
    "# 특정 단어에 대한 임베딩 된 벡터를 알고 싶을 때 사용 (wv는 word vector를 뜻함)\n",
    "word = 'human'\n",
    "model.wv[word]"
   ]
  },
  {
   "cell_type": "code",
   "execution_count": 28,
   "metadata": {},
   "outputs": [
    {
     "data": {
      "text/plain": [
       "-0.023974571"
      ]
     },
     "execution_count": 28,
     "metadata": {},
     "output_type": "execute_result"
    }
   ],
   "source": [
    "# 특정 단어 2개에 대한 cosine similarity를 구하고 싶을 때 사용\n",
    "model.wv.similarity('minors', 'trees')"
   ]
  },
  {
   "cell_type": "code",
   "execution_count": 27,
   "metadata": {},
   "outputs": [
    {
     "data": {
      "text/plain": [
       "[('eps', 0.1327362209558487),\n",
       " ('graph', 0.11012563109397888),\n",
       " ('interface', 0.1024780422449112),\n",
       " ('response', 0.03346952795982361),\n",
       " ('trees', 0.02746998518705368),\n",
       " ('survey', 0.007098488509654999),\n",
       " ('system', 0.0015794578939676285),\n",
       " ('time', -0.018339216709136963),\n",
       " ('computer', -0.02372252754867077),\n",
       " ('user', -0.16749127209186554)]"
      ]
     },
     "execution_count": 27,
     "metadata": {},
     "output_type": "execute_result"
    }
   ],
   "source": [
    "# 가장 가까운 단어들 나열\n",
    "model.wv.most_similar(positive=[\"human\"])"
   ]
  },
  {
   "cell_type": "markdown",
   "metadata": {},
   "source": [
    "## 실제 abstracts를 가지고 진행해보기"
   ]
  },
  {
   "cell_type": "code",
   "execution_count": 44,
   "metadata": {},
   "outputs": [
    {
     "data": {
      "text/plain": [
       "'We are currently living in an era where the use of computer-aided design/computer-aided manufacturing has allowed individualized orthodontic treatments, but has also incorporated enhanced digitalized technology that does not permit improvisation. The purpose of this systematic review was to analyze publications that assessed the accuracy and efficiency of the Invisalign® system. A systematic review was performed using a search strategy to identify articles that referenced Invisalign®, which were published between August 2007 and August 2017, and listed in the following databases: MEDLINE, Embase, Cochrane Library, Web of Knowledge, Google Scholar, and LILACS. Additionally, a manual search of clinical trials was performed in scientific journals and other databases. To rate the methodological quality of the articles, a grading system described by the Swedish Council on Technology Assessment in Health Care was used, in combination with the Cochrane tool for risk of bias assessment. We selected 20 articles that met the inclusion criteria and excluded 5 due to excess biases. The level of evidence was high. Although it is possible to treat malocclusions with plastic systems, the results are not as accurate as those achieved by treatment with fixed appliances.'"
      ]
     },
     "execution_count": 44,
     "metadata": {},
     "output_type": "execute_result"
    }
   ],
   "source": [
    "# tokenize 복습!\n",
    "# tokenize : 문장을 token (학습에 사용되는 최소 단위) 으로 쪼개는 작업\n",
    "df.abstracts[0]"
   ]
  },
  {
   "cell_type": "code",
   "execution_count": 47,
   "metadata": {},
   "outputs": [
    {
     "name": "stdout",
     "output_type": "stream",
     "text": [
      "['We', 'are', 'currently', 'living', 'in', 'an', 'era', 'where', 'the', 'use', 'of', 'computer-aided', 'design/computer-aided', 'manufacturing', 'has', 'allowed', 'individualized', 'orthodontic', 'treatments', ',', 'but', 'has', 'also', 'incorporated', 'enhanced', 'digitalized', 'technology', 'that', 'does', 'not', 'permit', 'improvisation', '.', 'The', 'purpose', 'of', 'this', 'systematic', 'review', 'was', 'to', 'analyze', 'publications', 'that', 'assessed', 'the', 'accuracy', 'and', 'efficiency', 'of', 'the', 'Invisalign®', 'system', '.', 'A', 'systematic', 'review', 'was', 'performed', 'using', 'a', 'search', 'strategy', 'to', 'identify', 'articles', 'that', 'referenced', 'Invisalign®', ',', 'which', 'were', 'published', 'between', 'August', '2007', 'and', 'August', '2017', ',', 'and', 'listed', 'in', 'the', 'following', 'databases', ':', 'MEDLINE', ',', 'Embase', ',', 'Cochrane', 'Library', ',', 'Web', 'of', 'Knowledge', ',', 'Google', 'Scholar', ',', 'and', 'LILACS', '.', 'Additionally', ',', 'a', 'manual', 'search', 'of', 'clinical', 'trials', 'was', 'performed', 'in', 'scientific', 'journals', 'and', 'other', 'databases', '.', 'To', 'rate', 'the', 'methodological', 'quality', 'of', 'the', 'articles', ',', 'a', 'grading', 'system', 'described', 'by', 'the', 'Swedish', 'Council', 'on', 'Technology', 'Assessment', 'in', 'Health', 'Care', 'was', 'used', ',', 'in', 'combination', 'with', 'the', 'Cochrane', 'tool', 'for', 'risk', 'of', 'bias', 'assessment', '.', 'We', 'selected', '20', 'articles', 'that', 'met', 'the', 'inclusion', 'criteria', 'and', 'excluded', '5', 'due', 'to', 'excess', 'biases', '.', 'The', 'level', 'of', 'evidence', 'was', 'high', '.', 'Although', 'it', 'is', 'possible', 'to', 'treat', 'malocclusions', 'with', 'plastic', 'systems', ',', 'the', 'results', 'are', 'not', 'as', 'accurate', 'as', 'those', 'achieved', 'by', 'treatment', 'with', 'fixed', 'appliances', '.']\n"
     ]
    }
   ],
   "source": [
    "test = df.abstracts[0]\n",
    "print(word_tokenize(test))"
   ]
  },
  {
   "cell_type": "code",
   "execution_count": 51,
   "metadata": {},
   "outputs": [
    {
     "data": {
      "text/plain": [
       "0      We are currently living in an era where the us...\n",
       "1      The purpose of this study was to investigate w...\n",
       "2      To determine Korean facial profile preferences...\n",
       "3      We sought to determine the predictors of midpa...\n",
       "4      To develop a standardized instrument to measur...\n",
       "                             ...                        \n",
       "358    The purpose of this study was to determine the...\n",
       "359    This study investigated whether temporomandibu...\n",
       "360    A Brazilian girl aged 14 years and 9 months pr...\n",
       "361    To evaluate lower incisor position and bony su...\n",
       "362    A 19-year-old woman presented to our dental cl...\n",
       "Name: abstracts, Length: 363, dtype: object"
      ]
     },
     "execution_count": 51,
     "metadata": {},
     "output_type": "execute_result"
    }
   ],
   "source": [
    "df.abstracts"
   ]
  },
  {
   "cell_type": "code",
   "execution_count": 52,
   "metadata": {},
   "outputs": [],
   "source": [
    "# series.map(function) -> 시리즈의 row에 함수를 전부 적용한다\n",
    "\n",
    "def tokenizing(x):\n",
    "    x = word_tokenize(x)\n",
    "    return x\n",
    "\n",
    "df.abstracts = df.abstracts.map(tokenizing)"
   ]
  },
  {
   "cell_type": "code",
   "execution_count": 53,
   "metadata": {},
   "outputs": [
    {
     "data": {
      "text/plain": [
       "0      [We, are, currently, living, in, an, era, wher...\n",
       "1      [The, purpose, of, this, study, was, to, inves...\n",
       "2      [To, determine, Korean, facial, profile, prefe...\n",
       "3      [We, sought, to, determine, the, predictors, o...\n",
       "4      [To, develop, a, standardized, instrument, to,...\n",
       "                             ...                        \n",
       "358    [The, purpose, of, this, study, was, to, deter...\n",
       "359    [This, study, investigated, whether, temporoma...\n",
       "360    [A, Brazilian, girl, aged, 14, years, and, 9, ...\n",
       "361    [To, evaluate, lower, incisor, position, and, ...\n",
       "362    [A, 19-year-old, woman, presented, to, our, de...\n",
       "Name: abstracts, Length: 363, dtype: object"
      ]
     },
     "execution_count": 53,
     "metadata": {},
     "output_type": "execute_result"
    }
   ],
   "source": [
    "df.abstracts"
   ]
  },
  {
   "cell_type": "code",
   "execution_count": 61,
   "metadata": {},
   "outputs": [
    {
     "name": "stdout",
     "output_type": "stream",
     "text": [
      "[['We', 'are', 'currently', 'living', 'in', 'an', 'era', 'where', 'the', 'use', 'of', 'computer-aided', 'design/computer-aided', 'manufacturing', 'has', 'allowed', 'individualized', 'orthodontic', 'treatments', ',', 'but', 'has', 'also', 'incorporated', 'enhanced', 'digitalized', 'technology', 'that', 'does', 'not', 'permit', 'improvisation', '.', 'The', 'purpose', 'of', 'this', 'systematic', 'review', 'was', 'to', 'analyze', 'publications', 'that', 'assessed', 'the', 'accuracy', 'and', 'efficiency', 'of', 'the', 'Invisalign®', 'system', '.', 'A', 'systematic', 'review', 'was', 'performed', 'using', 'a', 'search', 'strategy', 'to', 'identify', 'articles', 'that', 'referenced', 'Invisalign®', ',', 'which', 'were', 'published', 'between', 'August', '2007', 'and', 'August', '2017', ',', 'and', 'listed', 'in', 'the', 'following', 'databases', ':', 'MEDLINE', ',', 'Embase', ',', 'Cochrane', 'Library', ',', 'Web', 'of', 'Knowledge', ',', 'Google', 'Scholar', ',', 'and', 'LILACS', '.', 'Additionally', ',', 'a', 'manual', 'search', 'of', 'clinical', 'trials', 'was', 'performed', 'in', 'scientific', 'journals', 'and', 'other', 'databases', '.', 'To', 'rate', 'the', 'methodological', 'quality', 'of', 'the', 'articles', ',', 'a', 'grading', 'system', 'described', 'by', 'the', 'Swedish', 'Council', 'on', 'Technology', 'Assessment', 'in', 'Health', 'Care', 'was', 'used', ',', 'in', 'combination', 'with', 'the', 'Cochrane', 'tool', 'for', 'risk', 'of', 'bias', 'assessment', '.', 'We', 'selected', '20', 'articles', 'that', 'met', 'the', 'inclusion', 'criteria', 'and', 'excluded', '5', 'due', 'to', 'excess', 'biases', '.', 'The', 'level', 'of', 'evidence', 'was', 'high', '.', 'Although', 'it', 'is', 'possible', 'to', 'treat', 'malocclusions', 'with', 'plastic', 'systems', ',', 'the', 'results', 'are', 'not', 'as', 'accurate', 'as', 'those', 'achieved', 'by', 'treatment', 'with', 'fixed', 'appliances', '.'], ['The', 'purpose', 'of', 'this', 'study', 'was', 'to', 'investigate', 'whether', 'the', 'craniofacial', 'patterns', 'of', 'Korean', 'children', 'with', 'snoring', 'and', 'adenotonsillar', 'hypertrophy', '(', 'ATH', ')', 'could', 'be', 'categorized', 'into', 'characteristic', 'clusters', 'according', 'to', 'age', '.', 'We', 'enrolled', '236', 'children', 'with', 'snoring', 'and', 'ATH', '(', 'age', 'range', ',', '5-12', 'years', ')', 'in', 'this', 'study', '.', 'They', 'were', 'subdivided', 'into', 'four', 'age', 'groups', ':', '5-6', ',', '7-8', ',', '9-10', ',', 'and', '11-12', 'years', '.', 'Based', 'on', 'cephalometric', 'analysis', ',', 'the', 'sagittal', 'and', 'vertical', 'skeletal', 'patterns', 'of', 'each', 'individual', 'were', 'divided', 'into', 'Class', 'I', ',', 'II', ',', 'and', 'III', ',', 'as', 'well', 'as', 'the', 'normodivergent', ',', 'hypodivergent', ',', 'and', 'hyperdivergent', 'patterns', ',', 'respectively', '.', 'Cluster', 'analysis', 'was', 'performed', 'using', 'cephalometric', 'principal', 'components', 'in', 'addition', 'to', 'the', 'age', 'factor', '.', 'Three', 'heterogeneous', 'clusters', 'of', 'craniofacial', 'patterns', 'were', 'obtained', 'in', 'relation', 'to', 'age', ':', 'cluster', '1', '(', '41.9', '%', ')', 'included', 'patients', 'aged', '5-8', 'years', 'with', 'a', 'skeletal', 'Class', 'I', 'or', 'mild', 'Class', 'II', 'and', 'hyperdivergent', 'pattern', ';', 'cluster', '2', '(', '45.3', '%', ')', 'included', 'patients', 'aged', '9-12', 'years', 'with', 'a', 'Class', 'II', 'and', 'hyperdivergent', 'pattern', ';', 'and', 'cluster', '3', '(', '12.8', '%', ')', 'included', 'patients', 'aged', '7-8', 'years', 'with', 'a', 'Class', 'III', 'and', 'hyperdivergent', 'pattern', '.', 'This', 'study', 'found', 'that', 'the', 'craniofacial', 'patterns', 'of', 'Korean', 'children', 'with', 'snoring', 'and', 'ATH', 'could', 'be', 'categorized', 'into', 'three', 'characteristic', 'clusters', 'according', 'to', 'age', 'groups', '.', 'Although', 'no', 'significantly', 'dominant', 'sagittal', 'skeletal', 'discrepancy', 'was', 'observed', ',', 'hyperdivergent', 'vertical', 'discrepancy', 'was', 'consistently', 'evident', 'in', 'all', 'clusters', '.']]\n"
     ]
    }
   ],
   "source": [
    "# pandas series를 list로 바꾸는 방법 : series.tolist()\n",
    "docs = df.abstracts.tolist()\n",
    "print(docs[:2])"
   ]
  },
  {
   "cell_type": "code",
   "execution_count": 83,
   "metadata": {},
   "outputs": [],
   "source": [
    "# word2vec 학습\n",
    "model = Word2Vec(sentences=docs,\n",
    "                 window=5, # window size (양옆 어느정도 거리까지 학습할 것인지)\n",
    "                 min_count=5, # 최소 이정도는 등장해야 학습에 포함시킴\n",
    "                 workers=4, # 사용할 cpu threads\n",
    "                 sg=1, # 1이면 skip-gram, 0이면 C-BOW\n",
    "                )\n",
    "\n",
    "# vector_size, epochs 하이퍼파라미터 안먹는 이유 알아보기 "
   ]
  },
  {
   "cell_type": "code",
   "execution_count": 84,
   "metadata": {},
   "outputs": [
    {
     "data": {
      "text/plain": [
       "[('categories', 0.9972798824310303),\n",
       " ('differentiation', 0.9972244501113892),\n",
       " ('APH', 0.9968062043190002),\n",
       " ('mini-screw', 0.9967907667160034),\n",
       " ('investigation', 0.9967794418334961),\n",
       " ('manufacturers', 0.9967294931411743),\n",
       " ('original', 0.996656060218811),\n",
       " ('ankylosis', 0.9965190887451172),\n",
       " ('composition', 0.9964578151702881),\n",
       " ('osseous', 0.996235728263855)]"
      ]
     },
     "execution_count": 84,
     "metadata": {},
     "output_type": "execute_result"
    }
   ],
   "source": [
    "model.wv.most_similar(positive=[\"Cochrane\"])"
   ]
  },
  {
   "cell_type": "code",
   "execution_count": null,
   "metadata": {},
   "outputs": [],
   "source": []
  }
 ],
 "metadata": {
  "kernelspec": {
   "display_name": "Python 3",
   "language": "python",
   "name": "python3"
  },
  "language_info": {
   "codemirror_mode": {
    "name": "ipython",
    "version": 3
   },
   "file_extension": ".py",
   "mimetype": "text/x-python",
   "name": "python",
   "nbconvert_exporter": "python",
   "pygments_lexer": "ipython3",
   "version": "3.7.4"
  }
 },
 "nbformat": 4,
 "nbformat_minor": 2
}
