{
 "cells": [
  {
   "cell_type": "code",
   "execution_count": 15,
   "metadata": {},
   "outputs": [],
   "source": [
    "import gensim\n",
    "import pickle\n",
    "import pandas as pd\n",
    "\n",
    "from gensim.models.coherencemodel import CoherenceModel"
   ]
  },
  {
   "cell_type": "code",
   "execution_count": 2,
   "metadata": {},
   "outputs": [],
   "source": [
    "\n",
    "\n",
    "df = pd.read_pickle(\"../files/final_df.pickle\")\n",
    "# lemmatize dataframe 불러와서 다시 실행하기\n",
    "# df = pd.read_pickle(\"../files/df_lemmatize.pickle\")\n",
    "df.reset_index(drop=True, inplace=True)"
   ]
  },
  {
   "cell_type": "code",
   "execution_count": 11,
   "metadata": {},
   "outputs": [
    {
     "data": {
      "text/html": [
       "<div>\n",
       "<style scoped>\n",
       "    .dataframe tbody tr th:only-of-type {\n",
       "        vertical-align: middle;\n",
       "    }\n",
       "\n",
       "    .dataframe tbody tr th {\n",
       "        vertical-align: top;\n",
       "    }\n",
       "\n",
       "    .dataframe thead th {\n",
       "        text-align: right;\n",
       "    }\n",
       "</style>\n",
       "<table border=\"1\" class=\"dataframe\">\n",
       "  <thead>\n",
       "    <tr style=\"text-align: right;\">\n",
       "      <th></th>\n",
       "      <th>journal_name</th>\n",
       "      <th>year</th>\n",
       "      <th>title</th>\n",
       "      <th>author</th>\n",
       "      <th>author_info</th>\n",
       "      <th>abstract</th>\n",
       "      <th>pos_tag_abstract</th>\n",
       "    </tr>\n",
       "  </thead>\n",
       "  <tbody>\n",
       "    <tr>\n",
       "      <th>0</th>\n",
       "      <td>Mol Med Rep</td>\n",
       "      <td>2021</td>\n",
       "      <td>Oral peroxidases: From antimicrobial agents to...</td>\n",
       "      <td>Courtois P(1).</td>\n",
       "      <td>Author information: \\n(1)Faculty of Medicine, ...</td>\n",
       "      <td>Sialoperoxidase and myeloperoxidase are the tw...</td>\n",
       "      <td>[Sialoperoxidase, myeloperoxidase, main, perox...</td>\n",
       "    </tr>\n",
       "    <tr>\n",
       "      <th>1</th>\n",
       "      <td>J Clin Endocrinol Metab</td>\n",
       "      <td>2021</td>\n",
       "      <td>Periodontitis and Risk of Diabetes in the Athe...</td>\n",
       "      <td>Zhang S(1), Philips KH(2), Moss K(2), Wu D(2)(...</td>\n",
       "      <td>Author information: \\n(1)Periodontics Departme...</td>\n",
       "      <td>To determine whether periodontal disease is po...</td>\n",
       "      <td>[determine, periodontal, disease, associated, ...</td>\n",
       "    </tr>\n",
       "    <tr>\n",
       "      <th>2</th>\n",
       "      <td>Saudi Pharm J</td>\n",
       "      <td>2021</td>\n",
       "      <td>Doxycycline hyclate-loaded in situ forming gel...</td>\n",
       "      <td>Senarat S(1)(2), Wai Lwin W(3), Mahadlek J(4)(...</td>\n",
       "      <td>Author information: \\n(1)Programe of Pharmaceu...</td>\n",
       "      <td>Polymeric material plays an important role as ...</td>\n",
       "      <td>[Polymeric, material, plays, important, role, ...</td>\n",
       "    </tr>\n",
       "    <tr>\n",
       "      <th>3</th>\n",
       "      <td>BMC Oral Health</td>\n",
       "      <td>2021</td>\n",
       "      <td>Clinical efficacy of scaling and root planing ...</td>\n",
       "      <td>Qureshi A(1), Bokhari SAH(2), Haque Z(3), Balo...</td>\n",
       "      <td>Author information: \\n(1)Department of Communi...</td>\n",
       "      <td>Treating periodontitis through non-surgical pe...</td>\n",
       "      <td>[Treating, periodontitis, non-surgical, period...</td>\n",
       "    </tr>\n",
       "    <tr>\n",
       "      <th>4</th>\n",
       "      <td>Life Sci</td>\n",
       "      <td>2021</td>\n",
       "      <td>Effects of a β2-adrenergic receptor blocker on...</td>\n",
       "      <td>Takeguchi A(1), Miyazawa K(1), Sato T(2), Tabu...</td>\n",
       "      <td>Author information: \\n(1)Department of Orthodo...</td>\n",
       "      <td>Recent studies have reported a relationship be...</td>\n",
       "      <td>[Recent, studies, reported, relationship, peri...</td>\n",
       "    </tr>\n",
       "  </tbody>\n",
       "</table>\n",
       "</div>"
      ],
      "text/plain": [
       "              journal_name  year  \\\n",
       "0              Mol Med Rep  2021   \n",
       "1  J Clin Endocrinol Metab  2021   \n",
       "2            Saudi Pharm J  2021   \n",
       "3          BMC Oral Health  2021   \n",
       "4                 Life Sci  2021   \n",
       "\n",
       "                                               title  \\\n",
       "0  Oral peroxidases: From antimicrobial agents to...   \n",
       "1  Periodontitis and Risk of Diabetes in the Athe...   \n",
       "2  Doxycycline hyclate-loaded in situ forming gel...   \n",
       "3  Clinical efficacy of scaling and root planing ...   \n",
       "4  Effects of a β2-adrenergic receptor blocker on...   \n",
       "\n",
       "                                              author  \\\n",
       "0                                     Courtois P(1).   \n",
       "1  Zhang S(1), Philips KH(2), Moss K(2), Wu D(2)(...   \n",
       "2  Senarat S(1)(2), Wai Lwin W(3), Mahadlek J(4)(...   \n",
       "3  Qureshi A(1), Bokhari SAH(2), Haque Z(3), Balo...   \n",
       "4  Takeguchi A(1), Miyazawa K(1), Sato T(2), Tabu...   \n",
       "\n",
       "                                         author_info  \\\n",
       "0  Author information: \\n(1)Faculty of Medicine, ...   \n",
       "1  Author information: \\n(1)Periodontics Departme...   \n",
       "2  Author information: \\n(1)Programe of Pharmaceu...   \n",
       "3  Author information: \\n(1)Department of Communi...   \n",
       "4  Author information: \\n(1)Department of Orthodo...   \n",
       "\n",
       "                                            abstract  \\\n",
       "0  Sialoperoxidase and myeloperoxidase are the tw...   \n",
       "1  To determine whether periodontal disease is po...   \n",
       "2  Polymeric material plays an important role as ...   \n",
       "3  Treating periodontitis through non-surgical pe...   \n",
       "4  Recent studies have reported a relationship be...   \n",
       "\n",
       "                                    pos_tag_abstract  \n",
       "0  [Sialoperoxidase, myeloperoxidase, main, perox...  \n",
       "1  [determine, periodontal, disease, associated, ...  \n",
       "2  [Polymeric, material, plays, important, role, ...  \n",
       "3  [Treating, periodontitis, non-surgical, period...  \n",
       "4  [Recent, studies, reported, relationship, peri...  "
      ]
     },
     "execution_count": 11,
     "metadata": {},
     "output_type": "execute_result"
    }
   ],
   "source": [
    "df.head()"
   ]
  },
  {
   "cell_type": "code",
   "execution_count": 3,
   "metadata": {},
   "outputs": [],
   "source": [
    "# load corpus, dictionary\n",
    "\n",
    "# with open('../files/lda/corpus.pickle', 'rb') as f:\n",
    "#     corpus = pickle.load(f) # 단 한줄씩 읽어옴\n",
    "\n",
    "# with open('../files/lda/dictionary.pickle', 'rb') as f:\n",
    "#     dictionary = pickle.load(f) # 단 한줄씩 읽어옴\n"
   ]
  },
  {
   "cell_type": "markdown",
   "metadata": {},
   "source": [
    "### 아래 코드 한번 더 실행 (lemmatize 대상)"
   ]
  },
  {
   "cell_type": "code",
   "execution_count": null,
   "metadata": {},
   "outputs": [],
   "source": [
    "from gensim import corpora\n",
    "\n",
    "dictionary = corpora.Dictionary(df.lemmatize_abstract)\n",
    "corpus = [dictionary.doc2bow(text) for text in df.pos_tag_abstract]"
   ]
  },
  {
   "cell_type": "code",
   "execution_count": 8,
   "metadata": {
    "scrolled": true
   },
   "outputs": [
    {
     "name": "stdout",
     "output_type": "stream",
     "text": [
      "[(4, 1), (8, 1), (76, 3), (90, 1), (94, 1), (103, 1), (161, 1), (168, 1), (177, 2), (178, 1), (180, 1), (189, 1), (201, 1), (243, 1), (258, 1), (271, 1), (280, 1), (282, 1), (320, 2), (328, 3), (332, 1), (337, 1), (340, 2), (351, 2), (385, 1), (386, 1), (387, 1), (388, 1), (389, 3), (390, 1), (391, 1), (392, 3), (393, 4), (394, 1), (395, 1), (396, 1), (397, 2), (398, 4), (399, 3), (400, 1), (401, 2), (402, 2), (403, 1), (404, 1), (405, 2), (406, 2), (407, 1), (408, 3), (409, 2), (410, 1), (411, 1), (412, 1), (413, 1), (414, 1), (415, 1), (416, 1), (417, 1), (418, 1), (419, 1), (420, 1), (421, 1), (422, 1), (423, 1), (424, 1), (425, 2), (426, 2), (427, 4), (428, 1), (429, 1), (430, 2), (431, 1), (432, 2), (433, 1), (434, 1), (435, 1), (436, 1), (437, 1), (438, 1), (439, 1), (440, 1), (441, 1), (442, 1), (443, 1), (444, 3)]\n"
     ]
    }
   ],
   "source": [
    "print(corpus[4])"
   ]
  },
  {
   "cell_type": "code",
   "execution_count": 10,
   "metadata": {},
   "outputs": [
    {
     "data": {
      "text/plain": [
       "'activity'"
      ]
     },
     "execution_count": 10,
     "metadata": {},
     "output_type": "execute_result"
    }
   ],
   "source": [
    "dictionary.id2token[8]"
   ]
  },
  {
   "cell_type": "code",
   "execution_count": null,
   "metadata": {},
   "outputs": [],
   "source": [
    "import gensim\n",
    "\n",
    "\n"
   ]
  },
  {
   "cell_type": "code",
   "execution_count": 13,
   "metadata": {},
   "outputs": [],
   "source": [
    "# for k in NUM_TOPICS:\n",
    "\n",
    "k = 4\n",
    "model = gensim.models.ldamodel.LdaModel(corpus, # input data\n",
    "                                        num_topics=k, # 토픽 모델링을 하고싶은 갯수\n",
    "                                        id2word=dictionary, \n",
    "                                        passes=5,\n",
    "                                        eval_every=None)\n"
   ]
  },
  {
   "cell_type": "code",
   "execution_count": 16,
   "metadata": {},
   "outputs": [
    {
     "name": "stdout",
     "output_type": "stream",
     "text": [
      "Cpherence -1.413344840562389\n",
      "\n",
      "Perplexity:  -8.162488953348836\n"
     ]
    }
   ],
   "source": [
    "\n",
    "cm = CoherenceModel(model=model, corpus=corpus, coherence='u_mass')\n",
    "coherence = cm.get_coherence()\n",
    "print(\"Coherence\",coherence)\n",
    "print('\\nPerplexity: ', model.log_perplexity(corpus))"
   ]
  },
  {
   "cell_type": "code",
   "execution_count": null,
   "metadata": {},
   "outputs": [],
   "source": []
  },
  {
   "cell_type": "code",
   "execution_count": null,
   "metadata": {},
   "outputs": [
    {
     "name": "stdout",
     "output_type": "stream",
     "text": [
      "Num topic : 6\n",
      "Coherence -1.6361046120712173\n",
      "\n",
      "Perplexity:  -8.181447138213978\n",
      "Num topic : 8\n",
      "Coherence -1.896704686490077\n",
      "\n",
      "Perplexity:  -8.275165859251858\n",
      "Num topic : 10\n",
      "Coherence -1.7188964777128841\n",
      "\n",
      "Perplexity:  -8.536791648991949\n"
     ]
    }
   ],
   "source": [
    "models = []\n",
    "perplexity_values = []\n",
    "coherence_values = []\n",
    "\n",
    "NUM_TOPICS = [6, 8, 10, 12]\n",
    "\n",
    "for k in NUM_TOPICS:\n",
    "    model = gensim.models.ldamodel.LdaModel(corpus, # input data\n",
    "                                        num_topics=k, # 토픽 모델링을 하고싶은 갯수\n",
    "                                        id2word=dictionary, \n",
    "                                        passes=5)\n",
    "    \n",
    "    models.append(model)\n",
    "    \n",
    "    cm = CoherenceModel(model=model, corpus=corpus, coherence='u_mass')\n",
    "    coherence = cm.get_coherence()\n",
    "    \n",
    "    perplexity = model.log_perplexity(corpus)\n",
    "    \n",
    "    perplexity_values.append(perplexity)\n",
    "    coherence_values.append(coherence)\n",
    "    \n",
    "    print(f\"\\nNum topic : {k}\")\n",
    "    print(\"Coherence\",coherence)\n",
    "    print('Perplexity: ', model.log_perplexity(corpus))\n",
    "\n",
    "    \n",
    "# Num topic : 4\n",
    "# Coherence -1.413344840562389 ( 더 좋음)\n",
    "# Perplexity:  -8.162488953348836 ( 더 안좋음)\n"
   ]
  },
  {
   "cell_type": "markdown",
   "metadata": {},
   "source": [
    "\n",
    "coherence가 더 높으면 : 하나의 토픽 안에서 단어의 일관성이 좋다\n",
    "perplexity가 더 낮으면 : 토픽과 단어의 확률 분포가 잘 생성되었다."
   ]
  },
  {
   "cell_type": "code",
   "execution_count": null,
   "metadata": {},
   "outputs": [],
   "source": [
    "# line plot 그려보기 \n",
    "import seaborn as sns"
   ]
  }
 ],
 "metadata": {
  "kernelspec": {
   "display_name": "Python 3",
   "language": "python",
   "name": "python3"
  },
  "language_info": {
   "codemirror_mode": {
    "name": "ipython",
    "version": 3
   },
   "file_extension": ".py",
   "mimetype": "text/x-python",
   "name": "python",
   "nbconvert_exporter": "python",
   "pygments_lexer": "ipython3",
   "version": "3.7.4"
  }
 },
 "nbformat": 4,
 "nbformat_minor": 2
}
