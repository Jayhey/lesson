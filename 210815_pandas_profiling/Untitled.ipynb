{
 "cells": [
  {
   "cell_type": "code",
   "execution_count": 1,
   "metadata": {},
   "outputs": [
    {
     "name": "stdout",
     "output_type": "stream",
     "text": [
      "Requirement already satisfied: pandas-profiling[notebook] in /Users/geoffrey/opt/anaconda3/lib/python3.7/site-packages (3.0.0)\n",
      "Requirement already satisfied: numpy>=1.16.0 in /Users/geoffrey/opt/anaconda3/lib/python3.7/site-packages (from pandas-profiling[notebook]) (1.19.5)\n",
      "Requirement already satisfied: pydantic>=1.8.1 in /Users/geoffrey/opt/anaconda3/lib/python3.7/site-packages (from pandas-profiling[notebook]) (1.8.2)\n",
      "Requirement already satisfied: matplotlib>=3.2.0 in /Users/geoffrey/opt/anaconda3/lib/python3.7/site-packages (from pandas-profiling[notebook]) (3.3.4)\n",
      "Requirement already satisfied: scipy>=1.4.1 in /Users/geoffrey/opt/anaconda3/lib/python3.7/site-packages (from pandas-profiling[notebook]) (1.4.1)\n",
      "Requirement already satisfied: tangled-up-in-unicode==0.1.0 in /Users/geoffrey/opt/anaconda3/lib/python3.7/site-packages (from pandas-profiling[notebook]) (0.1.0)\n",
      "Requirement already satisfied: pandas!=1.0.0,!=1.0.1,!=1.0.2,!=1.1.0,>=0.25.3 in /Users/geoffrey/opt/anaconda3/lib/python3.7/site-packages (from pandas-profiling[notebook]) (1.2.4)\n",
      "Requirement already satisfied: requests>=2.24.0 in /Users/geoffrey/opt/anaconda3/lib/python3.7/site-packages (from pandas-profiling[notebook]) (2.26.0)\n",
      "Requirement already satisfied: tqdm>=4.48.2 in /Users/geoffrey/opt/anaconda3/lib/python3.7/site-packages (from pandas-profiling[notebook]) (4.61.2)\n",
      "Requirement already satisfied: PyYAML>=5.0.0 in /Users/geoffrey/opt/anaconda3/lib/python3.7/site-packages (from pandas-profiling[notebook]) (5.1.2)\n",
      "Requirement already satisfied: phik>=0.11.1 in /Users/geoffrey/opt/anaconda3/lib/python3.7/site-packages (from pandas-profiling[notebook]) (0.12.0)\n",
      "Requirement already satisfied: jinja2>=2.11.1 in /Users/geoffrey/opt/anaconda3/lib/python3.7/site-packages (from pandas-profiling[notebook]) (2.11.2)\n",
      "Requirement already satisfied: htmlmin>=0.1.12 in /Users/geoffrey/opt/anaconda3/lib/python3.7/site-packages (from pandas-profiling[notebook]) (0.1.12)\n",
      "Requirement already satisfied: joblib in /Users/geoffrey/opt/anaconda3/lib/python3.7/site-packages (from pandas-profiling[notebook]) (1.0.1)\n",
      "Requirement already satisfied: seaborn>=0.10.1 in /Users/geoffrey/opt/anaconda3/lib/python3.7/site-packages (from pandas-profiling[notebook]) (0.11.1)\n",
      "Requirement already satisfied: visions[type_image_path]==0.7.1 in /Users/geoffrey/opt/anaconda3/lib/python3.7/site-packages (from pandas-profiling[notebook]) (0.7.1)\n",
      "Requirement already satisfied: missingno>=0.4.2 in /Users/geoffrey/opt/anaconda3/lib/python3.7/site-packages (from pandas-profiling[notebook]) (0.4.2)\n",
      "Collecting jupyter-core>=4.6.3; extra == \"notebook\" (from pandas-profiling[notebook])\n",
      "\u001b[?25l  Downloading https://files.pythonhosted.org/packages/53/40/5af36bffa0af3ac71d3a6fc6709de10e4f6ff7c01745b8bc4715372189c9/jupyter_core-4.7.1-py3-none-any.whl (82kB)\n",
      "\u001b[K     |████████████████████████████████| 92kB 1.3MB/s eta 0:00:01\n",
      "\u001b[?25hRequirement already satisfied: ipywidgets>=7.5.1; extra == \"notebook\" in /Users/geoffrey/opt/anaconda3/lib/python3.7/site-packages (from pandas-profiling[notebook]) (7.5.1)\n",
      "Collecting jupyter-client>=6.0.0; extra == \"notebook\" (from pandas-profiling[notebook])\n",
      "\u001b[?25l  Downloading https://files.pythonhosted.org/packages/77/e8/c3cf72a32a697256608d5fa96360c431adec6e1c6709ba7f13f99ff5ee04/jupyter_client-6.1.12-py3-none-any.whl (112kB)\n",
      "\u001b[K     |████████████████████████████████| 122kB 1.6MB/s eta 0:00:01\n",
      "\u001b[?25hRequirement already satisfied: typing-extensions>=3.7.4.3 in /Users/geoffrey/opt/anaconda3/lib/python3.7/site-packages (from pydantic>=1.8.1->pandas-profiling[notebook]) (3.10.0.0)\n",
      "Requirement already satisfied: python-dateutil>=2.1 in /Users/geoffrey/opt/anaconda3/lib/python3.7/site-packages (from matplotlib>=3.2.0->pandas-profiling[notebook]) (2.8.2)\n",
      "Requirement already satisfied: pillow>=6.2.0 in /Users/geoffrey/opt/anaconda3/lib/python3.7/site-packages (from matplotlib>=3.2.0->pandas-profiling[notebook]) (7.0.0)\n",
      "Requirement already satisfied: kiwisolver>=1.0.1 in /Users/geoffrey/opt/anaconda3/lib/python3.7/site-packages (from matplotlib>=3.2.0->pandas-profiling[notebook]) (1.1.0)\n",
      "Requirement already satisfied: pyparsing!=2.0.4,!=2.1.2,!=2.1.6,>=2.0.3 in /Users/geoffrey/opt/anaconda3/lib/python3.7/site-packages (from matplotlib>=3.2.0->pandas-profiling[notebook]) (2.4.7)\n",
      "Requirement already satisfied: cycler>=0.10 in /Users/geoffrey/opt/anaconda3/lib/python3.7/site-packages (from matplotlib>=3.2.0->pandas-profiling[notebook]) (0.10.0)\n",
      "Requirement already satisfied: pytz>=2017.3 in /Users/geoffrey/opt/anaconda3/lib/python3.7/site-packages (from pandas!=1.0.0,!=1.0.1,!=1.0.2,!=1.1.0,>=0.25.3->pandas-profiling[notebook]) (2021.1)\n",
      "Requirement already satisfied: certifi>=2017.4.17 in /Users/geoffrey/opt/anaconda3/lib/python3.7/site-packages (from requests>=2.24.0->pandas-profiling[notebook]) (2021.5.30)\n",
      "Requirement already satisfied: urllib3<1.27,>=1.21.1 in /Users/geoffrey/opt/anaconda3/lib/python3.7/site-packages (from requests>=2.24.0->pandas-profiling[notebook]) (1.25.10)\n",
      "Requirement already satisfied: charset-normalizer~=2.0.0; python_version >= \"3\" in /Users/geoffrey/opt/anaconda3/lib/python3.7/site-packages (from requests>=2.24.0->pandas-profiling[notebook]) (2.0.3)\n",
      "Requirement already satisfied: idna<4,>=2.5; python_version >= \"3\" in /Users/geoffrey/opt/anaconda3/lib/python3.7/site-packages (from requests>=2.24.0->pandas-profiling[notebook]) (3.2)\n",
      "Requirement already satisfied: MarkupSafe>=0.23 in /Users/geoffrey/opt/anaconda3/lib/python3.7/site-packages (from jinja2>=2.11.1->pandas-profiling[notebook]) (1.1.1)\n",
      "Requirement already satisfied: networkx>=2.4 in /Users/geoffrey/opt/anaconda3/lib/python3.7/site-packages (from visions[type_image_path]==0.7.1->pandas-profiling[notebook]) (2.5)\n",
      "Requirement already satisfied: multimethod==1.4 in /Users/geoffrey/opt/anaconda3/lib/python3.7/site-packages (from visions[type_image_path]==0.7.1->pandas-profiling[notebook]) (1.4)\n",
      "Requirement already satisfied: bottleneck in /Users/geoffrey/opt/anaconda3/lib/python3.7/site-packages (from visions[type_image_path]==0.7.1->pandas-profiling[notebook]) (1.2.1)\n",
      "Requirement already satisfied: attrs>=19.3.0 in /Users/geoffrey/opt/anaconda3/lib/python3.7/site-packages (from visions[type_image_path]==0.7.1->pandas-profiling[notebook]) (19.3.0)\n",
      "Requirement already satisfied: imagehash; extra == \"type_image_path\" in /Users/geoffrey/opt/anaconda3/lib/python3.7/site-packages (from visions[type_image_path]==0.7.1->pandas-profiling[notebook]) (4.2.0)\n",
      "Requirement already satisfied: traitlets in /Users/geoffrey/opt/anaconda3/lib/python3.7/site-packages (from jupyter-core>=4.6.3; extra == \"notebook\"->pandas-profiling[notebook]) (4.3.3)\n",
      "Requirement already satisfied: widgetsnbextension~=3.5.0 in /Users/geoffrey/opt/anaconda3/lib/python3.7/site-packages (from ipywidgets>=7.5.1; extra == \"notebook\"->pandas-profiling[notebook]) (3.5.1)\n",
      "Requirement already satisfied: ipython>=4.0.0; python_version >= \"3.3\" in /Users/geoffrey/opt/anaconda3/lib/python3.7/site-packages (from ipywidgets>=7.5.1; extra == \"notebook\"->pandas-profiling[notebook]) (7.8.0)\n",
      "Requirement already satisfied: nbformat>=4.2.0 in /Users/geoffrey/opt/anaconda3/lib/python3.7/site-packages (from ipywidgets>=7.5.1; extra == \"notebook\"->pandas-profiling[notebook]) (4.4.0)\n",
      "Requirement already satisfied: ipykernel>=4.5.1 in /Users/geoffrey/opt/anaconda3/lib/python3.7/site-packages (from ipywidgets>=7.5.1; extra == \"notebook\"->pandas-profiling[notebook]) (5.1.2)\n",
      "Requirement already satisfied: tornado>=4.1 in /Users/geoffrey/opt/anaconda3/lib/python3.7/site-packages (from jupyter-client>=6.0.0; extra == \"notebook\"->pandas-profiling[notebook]) (6.0.3)\n",
      "Requirement already satisfied: pyzmq>=13 in /Users/geoffrey/opt/anaconda3/lib/python3.7/site-packages (from jupyter-client>=6.0.0; extra == \"notebook\"->pandas-profiling[notebook]) (22.1.0)\n",
      "Requirement already satisfied: six>=1.5 in /Users/geoffrey/opt/anaconda3/lib/python3.7/site-packages (from python-dateutil>=2.1->matplotlib>=3.2.0->pandas-profiling[notebook]) (1.15.0)\n",
      "Requirement already satisfied: setuptools in /Users/geoffrey/opt/anaconda3/lib/python3.7/site-packages (from kiwisolver>=1.0.1->matplotlib>=3.2.0->pandas-profiling[notebook]) (41.4.0)\n",
      "Requirement already satisfied: decorator>=4.3.0 in /Users/geoffrey/opt/anaconda3/lib/python3.7/site-packages (from networkx>=2.4->visions[type_image_path]==0.7.1->pandas-profiling[notebook]) (4.4.0)\n",
      "Requirement already satisfied: PyWavelets in /Users/geoffrey/opt/anaconda3/lib/python3.7/site-packages (from imagehash; extra == \"type_image_path\"->visions[type_image_path]==0.7.1->pandas-profiling[notebook]) (1.1.1)\n",
      "Requirement already satisfied: ipython-genutils in /Users/geoffrey/opt/anaconda3/lib/python3.7/site-packages (from traitlets->jupyter-core>=4.6.3; extra == \"notebook\"->pandas-profiling[notebook]) (0.2.0)\n",
      "Requirement already satisfied: notebook>=4.4.1 in /Users/geoffrey/opt/anaconda3/lib/python3.7/site-packages (from widgetsnbextension~=3.5.0->ipywidgets>=7.5.1; extra == \"notebook\"->pandas-profiling[notebook]) (6.0.1)\n"
     ]
    },
    {
     "name": "stdout",
     "output_type": "stream",
     "text": [
      "Requirement already satisfied: pickleshare in /Users/geoffrey/opt/anaconda3/lib/python3.7/site-packages (from ipython>=4.0.0; python_version >= \"3.3\"->ipywidgets>=7.5.1; extra == \"notebook\"->pandas-profiling[notebook]) (0.7.5)\n",
      "Requirement already satisfied: backcall in /Users/geoffrey/opt/anaconda3/lib/python3.7/site-packages (from ipython>=4.0.0; python_version >= \"3.3\"->ipywidgets>=7.5.1; extra == \"notebook\"->pandas-profiling[notebook]) (0.1.0)\n",
      "Requirement already satisfied: jedi>=0.10 in /Users/geoffrey/opt/anaconda3/lib/python3.7/site-packages (from ipython>=4.0.0; python_version >= \"3.3\"->ipywidgets>=7.5.1; extra == \"notebook\"->pandas-profiling[notebook]) (0.15.1)\n",
      "Requirement already satisfied: pexpect; sys_platform != \"win32\" in /Users/geoffrey/opt/anaconda3/lib/python3.7/site-packages (from ipython>=4.0.0; python_version >= \"3.3\"->ipywidgets>=7.5.1; extra == \"notebook\"->pandas-profiling[notebook]) (4.7.0)\n",
      "Requirement already satisfied: prompt-toolkit<2.1.0,>=2.0.0 in /Users/geoffrey/opt/anaconda3/lib/python3.7/site-packages (from ipython>=4.0.0; python_version >= \"3.3\"->ipywidgets>=7.5.1; extra == \"notebook\"->pandas-profiling[notebook]) (2.0.10)\n",
      "Requirement already satisfied: pygments in /Users/geoffrey/opt/anaconda3/lib/python3.7/site-packages (from ipython>=4.0.0; python_version >= \"3.3\"->ipywidgets>=7.5.1; extra == \"notebook\"->pandas-profiling[notebook]) (2.9.0)\n",
      "Requirement already satisfied: appnope; sys_platform == \"darwin\" in /Users/geoffrey/opt/anaconda3/lib/python3.7/site-packages (from ipython>=4.0.0; python_version >= \"3.3\"->ipywidgets>=7.5.1; extra == \"notebook\"->pandas-profiling[notebook]) (0.1.0)\n",
      "Requirement already satisfied: jsonschema!=2.5.0,>=2.4 in /Users/geoffrey/opt/anaconda3/lib/python3.7/site-packages (from nbformat>=4.2.0->ipywidgets>=7.5.1; extra == \"notebook\"->pandas-profiling[notebook]) (3.2.0)\n",
      "Requirement already satisfied: Send2Trash in /Users/geoffrey/opt/anaconda3/lib/python3.7/site-packages (from notebook>=4.4.1->widgetsnbextension~=3.5.0->ipywidgets>=7.5.1; extra == \"notebook\"->pandas-profiling[notebook]) (1.5.0)\n",
      "Requirement already satisfied: terminado>=0.8.1 in /Users/geoffrey/opt/anaconda3/lib/python3.7/site-packages (from notebook>=4.4.1->widgetsnbextension~=3.5.0->ipywidgets>=7.5.1; extra == \"notebook\"->pandas-profiling[notebook]) (0.8.2)\n",
      "Requirement already satisfied: nbconvert in /Users/geoffrey/opt/anaconda3/lib/python3.7/site-packages (from notebook>=4.4.1->widgetsnbextension~=3.5.0->ipywidgets>=7.5.1; extra == \"notebook\"->pandas-profiling[notebook]) (5.6.0)\n",
      "Requirement already satisfied: prometheus-client in /Users/geoffrey/opt/anaconda3/lib/python3.7/site-packages (from notebook>=4.4.1->widgetsnbextension~=3.5.0->ipywidgets>=7.5.1; extra == \"notebook\"->pandas-profiling[notebook]) (0.7.1)\n",
      "Requirement already satisfied: parso>=0.5.0 in /Users/geoffrey/opt/anaconda3/lib/python3.7/site-packages (from jedi>=0.10->ipython>=4.0.0; python_version >= \"3.3\"->ipywidgets>=7.5.1; extra == \"notebook\"->pandas-profiling[notebook]) (0.5.1)\n",
      "Requirement already satisfied: ptyprocess>=0.5 in /Users/geoffrey/opt/anaconda3/lib/python3.7/site-packages (from pexpect; sys_platform != \"win32\"->ipython>=4.0.0; python_version >= \"3.3\"->ipywidgets>=7.5.1; extra == \"notebook\"->pandas-profiling[notebook]) (0.6.0)\n",
      "Requirement already satisfied: wcwidth in /Users/geoffrey/opt/anaconda3/lib/python3.7/site-packages (from prompt-toolkit<2.1.0,>=2.0.0->ipython>=4.0.0; python_version >= \"3.3\"->ipywidgets>=7.5.1; extra == \"notebook\"->pandas-profiling[notebook]) (0.2.5)\n",
      "Requirement already satisfied: pyrsistent>=0.14.0 in /Users/geoffrey/opt/anaconda3/lib/python3.7/site-packages (from jsonschema!=2.5.0,>=2.4->nbformat>=4.2.0->ipywidgets>=7.5.1; extra == \"notebook\"->pandas-profiling[notebook]) (0.15.4)\n",
      "Requirement already satisfied: importlib-metadata; python_version < \"3.8\" in /Users/geoffrey/opt/anaconda3/lib/python3.7/site-packages (from jsonschema!=2.5.0,>=2.4->nbformat>=4.2.0->ipywidgets>=7.5.1; extra == \"notebook\"->pandas-profiling[notebook]) (4.6.1)\n",
      "Requirement already satisfied: mistune<2,>=0.8.1 in /Users/geoffrey/opt/anaconda3/lib/python3.7/site-packages (from nbconvert->notebook>=4.4.1->widgetsnbextension~=3.5.0->ipywidgets>=7.5.1; extra == \"notebook\"->pandas-profiling[notebook]) (0.8.4)\n",
      "Requirement already satisfied: defusedxml in /Users/geoffrey/opt/anaconda3/lib/python3.7/site-packages (from nbconvert->notebook>=4.4.1->widgetsnbextension~=3.5.0->ipywidgets>=7.5.1; extra == \"notebook\"->pandas-profiling[notebook]) (0.6.0)\n",
      "Requirement already satisfied: entrypoints>=0.2.2 in /Users/geoffrey/opt/anaconda3/lib/python3.7/site-packages (from nbconvert->notebook>=4.4.1->widgetsnbextension~=3.5.0->ipywidgets>=7.5.1; extra == \"notebook\"->pandas-profiling[notebook]) (0.3)\n",
      "Requirement already satisfied: testpath in /Users/geoffrey/opt/anaconda3/lib/python3.7/site-packages (from nbconvert->notebook>=4.4.1->widgetsnbextension~=3.5.0->ipywidgets>=7.5.1; extra == \"notebook\"->pandas-profiling[notebook]) (0.4.2)\n",
      "Requirement already satisfied: pandocfilters>=1.4.1 in /Users/geoffrey/opt/anaconda3/lib/python3.7/site-packages (from nbconvert->notebook>=4.4.1->widgetsnbextension~=3.5.0->ipywidgets>=7.5.1; extra == \"notebook\"->pandas-profiling[notebook]) (1.4.2)\n",
      "Requirement already satisfied: bleach in /Users/geoffrey/opt/anaconda3/lib/python3.7/site-packages (from nbconvert->notebook>=4.4.1->widgetsnbextension~=3.5.0->ipywidgets>=7.5.1; extra == \"notebook\"->pandas-profiling[notebook]) (3.1.0)\n",
      "Requirement already satisfied: zipp>=0.5 in /Users/geoffrey/opt/anaconda3/lib/python3.7/site-packages (from importlib-metadata; python_version < \"3.8\"->jsonschema!=2.5.0,>=2.4->nbformat>=4.2.0->ipywidgets>=7.5.1; extra == \"notebook\"->pandas-profiling[notebook]) (3.5.0)\n",
      "Requirement already satisfied: webencodings in /Users/geoffrey/opt/anaconda3/lib/python3.7/site-packages (from bleach->nbconvert->notebook>=4.4.1->widgetsnbextension~=3.5.0->ipywidgets>=7.5.1; extra == \"notebook\"->pandas-profiling[notebook]) (0.5.1)\n",
      "Installing collected packages: jupyter-core, jupyter-client\n",
      "  Found existing installation: jupyter-core 4.5.0\n",
      "    Uninstalling jupyter-core-4.5.0:\n",
      "      Successfully uninstalled jupyter-core-4.5.0\n",
      "  Found existing installation: jupyter-client 5.3.3\n",
      "    Uninstalling jupyter-client-5.3.3:\n",
      "      Successfully uninstalled jupyter-client-5.3.3\n",
      "Successfully installed jupyter-client-6.1.12 jupyter-core-4.7.1\n"
     ]
    }
   ],
   "source": [
    "!pip install pandas-profiling[notebook]"
   ]
  },
  {
   "cell_type": "code",
   "execution_count": 2,
   "metadata": {},
   "outputs": [],
   "source": [
    "import pandas as pd\n",
    "import numpy as np\n",
    "from pandas_profiling import ProfileReport"
   ]
  },
  {
   "cell_type": "code",
   "execution_count": 8,
   "metadata": {},
   "outputs": [],
   "source": [
    "df = pd.DataFrame(np.random.rand(100,5), columns=['a','b','c','d','e'])\n",
    "df = pd.read_csv(\"../files/california_housing_train.csv\")"
   ]
  },
  {
   "cell_type": "code",
   "execution_count": 9,
   "metadata": {},
   "outputs": [
    {
     "data": {
      "text/html": [
       "<div>\n",
       "<style scoped>\n",
       "    .dataframe tbody tr th:only-of-type {\n",
       "        vertical-align: middle;\n",
       "    }\n",
       "\n",
       "    .dataframe tbody tr th {\n",
       "        vertical-align: top;\n",
       "    }\n",
       "\n",
       "    .dataframe thead th {\n",
       "        text-align: right;\n",
       "    }\n",
       "</style>\n",
       "<table border=\"1\" class=\"dataframe\">\n",
       "  <thead>\n",
       "    <tr style=\"text-align: right;\">\n",
       "      <th></th>\n",
       "      <th>longitude</th>\n",
       "      <th>latitude</th>\n",
       "      <th>housing_median_age</th>\n",
       "      <th>total_rooms</th>\n",
       "      <th>total_bedrooms</th>\n",
       "      <th>population</th>\n",
       "      <th>households</th>\n",
       "      <th>median_income</th>\n",
       "      <th>median_house_value</th>\n",
       "    </tr>\n",
       "  </thead>\n",
       "  <tbody>\n",
       "    <tr>\n",
       "      <th>0</th>\n",
       "      <td>-114.31</td>\n",
       "      <td>34.19</td>\n",
       "      <td>15.0</td>\n",
       "      <td>5612.0</td>\n",
       "      <td>1283.0</td>\n",
       "      <td>1015.0</td>\n",
       "      <td>472.0</td>\n",
       "      <td>1.4936</td>\n",
       "      <td>66900.0</td>\n",
       "    </tr>\n",
       "    <tr>\n",
       "      <th>1</th>\n",
       "      <td>-114.47</td>\n",
       "      <td>34.40</td>\n",
       "      <td>19.0</td>\n",
       "      <td>7650.0</td>\n",
       "      <td>1901.0</td>\n",
       "      <td>1129.0</td>\n",
       "      <td>463.0</td>\n",
       "      <td>1.8200</td>\n",
       "      <td>80100.0</td>\n",
       "    </tr>\n",
       "    <tr>\n",
       "      <th>2</th>\n",
       "      <td>-114.56</td>\n",
       "      <td>33.69</td>\n",
       "      <td>17.0</td>\n",
       "      <td>720.0</td>\n",
       "      <td>174.0</td>\n",
       "      <td>333.0</td>\n",
       "      <td>117.0</td>\n",
       "      <td>1.6509</td>\n",
       "      <td>85700.0</td>\n",
       "    </tr>\n",
       "    <tr>\n",
       "      <th>3</th>\n",
       "      <td>-114.57</td>\n",
       "      <td>33.64</td>\n",
       "      <td>14.0</td>\n",
       "      <td>1501.0</td>\n",
       "      <td>337.0</td>\n",
       "      <td>515.0</td>\n",
       "      <td>226.0</td>\n",
       "      <td>3.1917</td>\n",
       "      <td>73400.0</td>\n",
       "    </tr>\n",
       "    <tr>\n",
       "      <th>4</th>\n",
       "      <td>-114.57</td>\n",
       "      <td>33.57</td>\n",
       "      <td>20.0</td>\n",
       "      <td>1454.0</td>\n",
       "      <td>326.0</td>\n",
       "      <td>624.0</td>\n",
       "      <td>262.0</td>\n",
       "      <td>1.9250</td>\n",
       "      <td>65500.0</td>\n",
       "    </tr>\n",
       "  </tbody>\n",
       "</table>\n",
       "</div>"
      ],
      "text/plain": [
       "   longitude  latitude  housing_median_age  total_rooms  total_bedrooms  \\\n",
       "0    -114.31     34.19                15.0       5612.0          1283.0   \n",
       "1    -114.47     34.40                19.0       7650.0          1901.0   \n",
       "2    -114.56     33.69                17.0        720.0           174.0   \n",
       "3    -114.57     33.64                14.0       1501.0           337.0   \n",
       "4    -114.57     33.57                20.0       1454.0           326.0   \n",
       "\n",
       "   population  households  median_income  median_house_value  \n",
       "0      1015.0       472.0         1.4936             66900.0  \n",
       "1      1129.0       463.0         1.8200             80100.0  \n",
       "2       333.0       117.0         1.6509             85700.0  \n",
       "3       515.0       226.0         3.1917             73400.0  \n",
       "4       624.0       262.0         1.9250             65500.0  "
      ]
     },
     "execution_count": 9,
     "metadata": {},
     "output_type": "execute_result"
    }
   ],
   "source": [
    "df.head()"
   ]
  },
  {
   "cell_type": "code",
   "execution_count": 13,
   "metadata": {},
   "outputs": [
    {
     "data": {
      "text/plain": [
       "(17000, 9)"
      ]
     },
     "execution_count": 13,
     "metadata": {},
     "output_type": "execute_result"
    }
   ],
   "source": [
    "df.shape"
   ]
  },
  {
   "cell_type": "code",
   "execution_count": 10,
   "metadata": {},
   "outputs": [],
   "source": [
    "profile = ProfileReport(df)"
   ]
  },
  {
   "cell_type": "code",
   "execution_count": 11,
   "metadata": {},
   "outputs": [
    {
     "data": {
      "application/vnd.jupyter.widget-view+json": {
       "model_id": "d7ccfed6ccb34ea39c2daae2adacf214",
       "version_major": 2,
       "version_minor": 0
      },
      "text/plain": [
       "Summarize dataset:   0%|          | 0/22 [00:00<?, ?it/s]"
      ]
     },
     "metadata": {},
     "output_type": "display_data"
    },
    {
     "data": {
      "application/vnd.jupyter.widget-view+json": {
       "model_id": "47d3eb051f77495a8eda1b8649ee43af",
       "version_major": 2,
       "version_minor": 0
      },
      "text/plain": [
       "Generate report structure:   0%|          | 0/1 [00:00<?, ?it/s]"
      ]
     },
     "metadata": {},
     "output_type": "display_data"
    },
    {
     "data": {
      "application/vnd.jupyter.widget-view+json": {
       "model_id": "",
       "version_major": 2,
       "version_minor": 0
      },
      "text/plain": [
       "Render widgets:   0%|          | 0/1 [00:00<?, ?it/s]"
      ]
     },
     "metadata": {},
     "output_type": "display_data"
    },
    {
     "data": {
      "application/vnd.jupyter.widget-view+json": {
       "model_id": "2f3705637d674514bb7a874d2f6a3141",
       "version_major": 2,
       "version_minor": 0
      },
      "text/plain": [
       "VBox(children=(Tab(children=(Tab(children=(GridBox(children=(VBox(children=(GridspecLayout(children=(HTML(valu…"
      ]
     },
     "metadata": {},
     "output_type": "display_data"
    }
   ],
   "source": [
    "profile.to_widgets()"
   ]
  },
  {
   "cell_type": "code",
   "execution_count": 14,
   "metadata": {},
   "outputs": [
    {
     "data": {
      "application/vnd.jupyter.widget-view+json": {
       "model_id": "85d68de07f5545f399bdfc43fcef1120",
       "version_major": 2,
       "version_minor": 0
      },
      "text/plain": [
       "Render HTML:   0%|          | 0/1 [00:00<?, ?it/s]"
      ]
     },
     "metadata": {},
     "output_type": "display_data"
    },
    {
     "data": {
      "application/vnd.jupyter.widget-view+json": {
       "model_id": "07415d82a5c54a129eed668ad6ffe0e3",
       "version_major": 2,
       "version_minor": 0
      },
      "text/plain": [
       "Export report to file:   0%|          | 0/1 [00:00<?, ?it/s]"
      ]
     },
     "metadata": {},
     "output_type": "display_data"
    }
   ],
   "source": [
    "profile.to_file(\"sample_report.html\")"
   ]
  },
  {
   "cell_type": "code",
   "execution_count": null,
   "metadata": {},
   "outputs": [],
   "source": []
  }
 ],
 "metadata": {
  "kernelspec": {
   "display_name": "Python 3",
   "language": "python",
   "name": "python3"
  },
  "language_info": {
   "codemirror_mode": {
    "name": "ipython",
    "version": 3
   },
   "file_extension": ".py",
   "mimetype": "text/x-python",
   "name": "python",
   "nbconvert_exporter": "python",
   "pygments_lexer": "ipython3",
   "version": "3.7.4"
  }
 },
 "nbformat": 4,
 "nbformat_minor": 2
}
