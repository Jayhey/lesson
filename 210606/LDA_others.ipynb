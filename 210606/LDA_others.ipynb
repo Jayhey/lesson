{
 "cells": [
  {
   "cell_type": "code",
   "execution_count": 1,
   "metadata": {},
   "outputs": [],
   "source": [
    "# 다음에 해볼 것\n",
    "# 1. 전처리 더 하기\n",
    "# 2. lemmatize 해보기\n",
    "# 3. 연도별 잘라서 관측\n",
    "# 4. 저자 EDA (소속, 나라)\n",
    "# 5. 최적 토픽 수\n",
    "# 6. 하이퍼 파라미터 바꿔보기 (알파, 베타)"
   ]
  },
  {
   "cell_type": "code",
   "execution_count": 2,
   "metadata": {},
   "outputs": [],
   "source": [
    "import gensim\n",
    "import pickle\n",
    "import pandas as pd\n"
   ]
  },
  {
   "cell_type": "code",
   "execution_count": 3,
   "metadata": {},
   "outputs": [],
   "source": [
    "df = pd.read_pickle(\"../files/final_df.pickle\")"
   ]
  },
  {
   "cell_type": "code",
   "execution_count": 4,
   "metadata": {},
   "outputs": [],
   "source": [
    "# load corpus, dictionary\n",
    "\n",
    "with open('../files/lda/corpus.pickle', 'rb') as f:\n",
    "    corpus = pickle.load(f) # 단 한줄씩 읽어옴\n",
    "\n",
    "with open('../files/lda/dictionary.pickle', 'rb') as f:\n",
    "    dictionary = pickle.load(f) # 단 한줄씩 읽어옴\n"
   ]
  },
  {
   "cell_type": "code",
   "execution_count": 5,
   "metadata": {},
   "outputs": [],
   "source": [
    "model = gensim.models.ldamodel.LdaModel.load(\"../files/lda/lda.model\")"
   ]
  },
  {
   "cell_type": "code",
   "execution_count": 6,
   "metadata": {},
   "outputs": [],
   "source": [
    "topics = model.print_topics(num_words=20)"
   ]
  },
  {
   "cell_type": "code",
   "execution_count": 7,
   "metadata": {},
   "outputs": [
    {
     "name": "stdout",
     "output_type": "stream",
     "text": [
      "(0, '0.021*\"treatment\" + 0.017*\"periodontal\" + 0.017*\"probing\" + 0.016*\"clinical\" + 0.015*\"group\" + 0.015*\"patients\" + 0.013*\"sites\" + 0.013*\"therapy\" + 0.012*\"study\" + 0.012*\"mm\" + 0.011*\"months\" + 0.011*\"significant\" + 0.010*\"depth\" + 0.010*\"plaque\" + 0.010*\"attachment\" + 0.010*\"%\" + 0.010*\"control\" + 0.010*\"groups\" + 0.010*\"baseline\" + 0.009*\"pocket\"')\n",
      "(1, '0.029*\"gingivalis\" + 0.022*\"P.\" + 0.012*\"activity\" + 0.010*\"antibody\" + 0.010*\"actinomycetemcomitans\" + 0.010*\"B.\" + 0.008*\"A.\" + 0.007*\"IgG\" + 0.006*\"cells\" + 0.006*\"Bacteroides\" + 0.006*\"periodontitis\" + 0.006*\"human\" + 0.006*\"Porphyromonas\" + 0.006*\"strains\" + 0.006*\"antibodies\" + 0.005*\"protein\" + 0.005*\"LJP\" + 0.005*\"bacteria\" + 0.004*\"cell\" + 0.004*\"proteins\"')\n",
      "(2, '0.036*\"patients\" + 0.030*\"periodontitis\" + 0.028*\"levels\" + 0.018*\"healthy\" + 0.018*\"GCF\" + 0.016*\"periodontal\" + 0.015*\"gingival\" + 0.014*\"subjects\" + 0.011*\"group\" + 0.010*\"fluid\" + 0.010*\"disease\" + 0.010*\"sites\" + 0.009*\"serum\" + 0.009*\"study\" + 0.009*\"crevicular\" + 0.009*\"<\" + 0.009*\"chronic\" + 0.008*\"higher\" + 0.008*\"samples\" + 0.008*\"P\"')\n",
      "(3, '0.032*\"bone\" + 0.030*\"mm\" + 0.022*\"+/-\" + 0.019*\"attachment\" + 0.018*\"defects\" + 0.016*\"sites\" + 0.011*\"tissue\" + 0.011*\"measurements\" + 0.010*\"probing\" + 0.010*\"periodontal\" + 0.010*\"surgery\" + 0.010*\"clinical\" + 0.009*\"loss\" + 0.009*\"depth\" + 0.009*\"level\" + 0.009*\"defect\" + 0.008*\"months\" + 0.008*\"alveolar\" + 0.007*\"flap\" + 0.007*\"regeneration\"')\n",
      "(4, '0.025*\"%\" + 0.016*\"samples\" + 0.016*\"bacteria\" + 0.015*\"subgingival\" + 0.015*\"species\" + 0.013*\"plaque\" + 0.013*\"periodontitis\" + 0.012*\"actinomycetemcomitans\" + 0.011*\"bacterial\" + 0.010*\"patients\" + 0.009*\"periodontal\" + 0.009*\"gingivalis\" + 0.009*\"sites\" + 0.008*\"A.\" + 0.008*\"P.\" + 0.008*\"oral\" + 0.007*\"detected\" + 0.007*\"found\" + 0.007*\"study\" + 0.006*\"strains\"')\n",
      "(5, '0.041*\"cells\" + 0.018*\"expression\" + 0.012*\"cell\" + 0.011*\"periodontitis\" + 0.009*\"periodontal\" + 0.009*\"inflammatory\" + 0.009*\"gingival\" + 0.009*\"bone\" + 0.009*\"LPS\" + 0.008*\"production\" + 0.008*\"tissue\" + 0.007*\"human\" + 0.007*\"T\" + 0.007*\"tissues\" + 0.006*\"fibroblasts\" + 0.006*\"activation\" + 0.005*\"increased\" + 0.005*\"role\" + 0.005*\"mRNA\" + 0.005*\"factor\"')\n",
      "(6, '0.018*\"bone\" + 0.016*\"tissue\" + 0.014*\"lesions\" + 0.013*\"group\" + 0.012*\"periodontitis\" + 0.011*\"loss\" + 0.010*\"periapical\" + 0.010*\"alveolar\" + 0.010*\"experimental\" + 0.010*\"rats\" + 0.010*\"days\" + 0.008*\"groups\" + 0.008*\"epithelium\" + 0.007*\"animals\" + 0.007*\"control\" + 0.007*\"specimens\" + 0.007*\"study\" + 0.007*\"inflammatory\" + 0.006*\"gingival\" + 0.006*\"connective\"')\n",
      "(7, '0.029*\"periodontal\" + 0.024*\"disease\" + 0.018*\"periodontitis\" + 0.015*\"oral\" + 0.011*\"studies\" + 0.010*\"diseases\" + 0.007*\"treatment\" + 0.007*\"clinical\" + 0.006*\"dental\" + 0.005*\"factors\" + 0.005*\"systemic\" + 0.005*\"evidence\" + 0.005*\"patients\" + 0.005*\"chronic\" + 0.005*\"health\" + 0.004*\"infection\" + 0.004*\"risk\" + 0.004*\"inflammatory\" + 0.004*\"review\" + 0.004*\"use\"')\n",
      "(8, '0.025*\"teeth\" + 0.018*\"root\" + 0.015*\"treatment\" + 0.012*\"%\" + 0.011*\"patients\" + 0.011*\"implants\" + 0.008*\"dental\" + 0.008*\"apical\" + 0.008*\"cases\" + 0.007*\"periapical\" + 0.007*\"implant\" + 0.007*\"patient\" + 0.007*\"case\" + 0.006*\"canal\" + 0.006*\"endodontic\" + 0.005*\"lesions\" + 0.005*\"years\" + 0.005*\"tooth\" + 0.005*\"juvenile\" + 0.004*\"treated\"')\n",
      "(9, '0.032*\"%\" + 0.020*\"periodontal\" + 0.018*\"periodontitis\" + 0.013*\"=\" + 0.013*\"patients\" + 0.012*\"study\" + 0.012*\"age\" + 0.012*\"subjects\" + 0.011*\"loss\" + 0.011*\"disease\" + 0.009*\"years\" + 0.008*\"risk\" + 0.007*\"associated\" + 0.007*\"prevalence\" + 0.007*\"status\" + 0.006*\"oral\" + 0.006*\"population\" + 0.006*\"association\" + 0.006*\"health\" + 0.005*\"smoking\"')\n"
     ]
    }
   ],
   "source": [
    "for t in topics:\n",
    "    print(t)\n",
    "\n",
    "# 일단 작성\n",
    "not_decided_del_words = [\"P.\", \"A.\", \"B.\"]\n",
    "\n",
    "del_words = [\"%\", \">\", \"<\", \"[\", \"]\", \"P\", \"p\", \"+/-\", \"mm\", \"found\", \"=\", \"CI\"]"
   ]
  },
  {
   "cell_type": "code",
   "execution_count": null,
   "metadata": {},
   "outputs": [],
   "source": [
    "!pip install tqdm"
   ]
  },
  {
   "cell_type": "code",
   "execution_count": 8,
   "metadata": {},
   "outputs": [],
   "source": [
    "from tqdm.notebook import tqdm"
   ]
  },
  {
   "cell_type": "code",
   "execution_count": null,
   "metadata": {
    "scrolled": true
   },
   "outputs": [],
   "source": [
    "# 토픽1의 비율이 50%가 넘는 문서의 index\n",
    "topic_1_list = []\n",
    "check_topic = model[corpus]\n",
    "\n",
    "for i, topic_dist in tqdm(enumerate(check_topic)):\n",
    "    for idx, dist in topic_dist:\n",
    "        if idx == 1 and dist >= 0.5:\n",
    "            topic_1_list.append(i)"
   ]
  },
  {
   "cell_type": "code",
   "execution_count": null,
   "metadata": {},
   "outputs": [],
   "source": [
    "topic_1_list"
   ]
  },
  {
   "cell_type": "code",
   "execution_count": null,
   "metadata": {},
   "outputs": [],
   "source": [
    "# for문 예시\n",
    "import time\n",
    "\n",
    "for i in tqdm(range(10000)):\n",
    "    time.sleep(0.001)"
   ]
  },
  {
   "cell_type": "code",
   "execution_count": null,
   "metadata": {},
   "outputs": [],
   "source": [
    "df.iloc[topic_1_list, 2][:205].values"
   ]
  },
  {
   "cell_type": "code",
   "execution_count": null,
   "metadata": {},
   "outputs": [],
   "source": []
  },
  {
   "cell_type": "code",
   "execution_count": 9,
   "metadata": {},
   "outputs": [
    {
     "name": "stdout",
     "output_type": "stream",
     "text": [
      "[(1, 0.15113583), (2, 0.058725312), (4, 0.032368697), (7, 0.75353116)]\n",
      "[(7, 0.047062825), (8, 0.022613553), (9, 0.92501926)]\n",
      "[(1, 0.6905748), (3, 0.07118115), (4, 0.052144732), (6, 0.018429503), (7, 0.14275804), (9, 0.021084704)]\n",
      "[(0, 0.5703661), (9, 0.4252651)]\n",
      "[(3, 0.0828408), (5, 0.22719511), (6, 0.5543567), (9, 0.13041617)]\n"
     ]
    }
   ],
   "source": [
    "# 연도별 잘라서 관측\n",
    "df.head()\n",
    "\n",
    "\n",
    "for i, topic_list in enumerate(model[corpus]):\n",
    "    if i == 5:\n",
    "        break\n",
    "    print(topic_list)\n",
    "# 각 문서당 토픽의 분포를 알고 있음\n",
    "# 1. 10년 단위로 문서를 묶는다\n",
    "# 2. 년도에서 토픽의 분포를 전부 더해줌\n",
    "# 3. 가장 마지막에 문서의 갯수로 나눠줌\n"
   ]
  },
  {
   "cell_type": "code",
   "execution_count": 61,
   "metadata": {},
   "outputs": [],
   "source": [
    "df.reset_index(drop=True, inplace=True)"
   ]
  },
  {
   "cell_type": "code",
   "execution_count": 62,
   "metadata": {
    "scrolled": true
   },
   "outputs": [
    {
     "name": "stdout",
     "output_type": "stream",
     "text": [
      "727\n"
     ]
    },
    {
     "data": {
      "text/html": [
       "<div>\n",
       "<style scoped>\n",
       "    .dataframe tbody tr th:only-of-type {\n",
       "        vertical-align: middle;\n",
       "    }\n",
       "\n",
       "    .dataframe tbody tr th {\n",
       "        vertical-align: top;\n",
       "    }\n",
       "\n",
       "    .dataframe thead th {\n",
       "        text-align: right;\n",
       "    }\n",
       "</style>\n",
       "<table border=\"1\" class=\"dataframe\">\n",
       "  <thead>\n",
       "    <tr style=\"text-align: right;\">\n",
       "      <th></th>\n",
       "      <th>journal_name</th>\n",
       "      <th>year</th>\n",
       "      <th>title</th>\n",
       "      <th>author</th>\n",
       "      <th>author_info</th>\n",
       "      <th>abstract</th>\n",
       "      <th>pos_tag_abstract</th>\n",
       "      <th>topic</th>\n",
       "    </tr>\n",
       "  </thead>\n",
       "  <tbody>\n",
       "    <tr>\n",
       "      <th>29999</th>\n",
       "      <td>Z Stomatol</td>\n",
       "      <td>1989</td>\n",
       "      <td>[Oral manifestations of HIV infection].</td>\n",
       "      <td>[Article in German]</td>\n",
       "      <td>Puelacher W, Zangerle R, Kulmer S, Waldhart E,...</td>\n",
       "      <td>Skin and mucous membranes including the oral m...</td>\n",
       "      <td>[Skin, mucous, membranes, including, oral, muc...</td>\n",
       "      <td>7</td>\n",
       "    </tr>\n",
       "    <tr>\n",
       "      <th>30000</th>\n",
       "      <td>Zh Mikrobiol Epidemiol Immunobiol</td>\n",
       "      <td>1989</td>\n",
       "      <td>[The tentative identification of actinomycetes...</td>\n",
       "      <td>[Article in Russian]</td>\n",
       "      <td>Mel'nikov VG, Oleĭnik II.</td>\n",
       "      <td>In this work the results obtained in the study...</td>\n",
       "      <td>[work, results, obtained, study, morphology, A...</td>\n",
       "      <td>4</td>\n",
       "    </tr>\n",
       "    <tr>\n",
       "      <th>30001</th>\n",
       "      <td>Aust Dent J</td>\n",
       "      <td>1989</td>\n",
       "      <td>Differential diagnosis of severe periodontal l...</td>\n",
       "      <td>Hirsch RS, Clarke NG.</td>\n",
       "      <td>Comment in\\n    Aust Dent J. 1990 Apr;35(2):19...</td>\n",
       "      <td>In current clinical practice, a differential d...</td>\n",
       "      <td>[current, clinical, practice, differential, di...</td>\n",
       "      <td>7</td>\n",
       "    </tr>\n",
       "    <tr>\n",
       "      <th>30002</th>\n",
       "      <td>Scand J Dent Res</td>\n",
       "      <td>1989</td>\n",
       "      <td>Gingival fluid, beta 2-microglobulin and prote...</td>\n",
       "      <td>Syrjänen SM(1), Alakuijala P, Markkanen SO, Ma...</td>\n",
       "      <td>Author information: \\n(1)Faculty of Dentistry,...</td>\n",
       "      <td>beta 2-microglobulin (beta 2-m), lysozyme and ...</td>\n",
       "      <td>[beta, lysozyme, protein, concentrations, ging...</td>\n",
       "      <td>2</td>\n",
       "    </tr>\n",
       "    <tr>\n",
       "      <th>30003</th>\n",
       "      <td>J Periodontol</td>\n",
       "      <td>1989</td>\n",
       "      <td>A comparison of freeze-dried bone allograft an...</td>\n",
       "      <td>Rummelhart JM(1), Mellonig JT, Gray JL, Towle HJ.</td>\n",
       "      <td>Author information: \\n(1)Naval Dental Clinic, ...</td>\n",
       "      <td>This study was conducted to clinically compare...</td>\n",
       "      <td>[study, conducted, compare, freeze-dried, bone...</td>\n",
       "      <td>3</td>\n",
       "    </tr>\n",
       "  </tbody>\n",
       "</table>\n",
       "</div>"
      ],
      "text/plain": [
       "                            journal_name  year  \\\n",
       "29999                         Z Stomatol  1989   \n",
       "30000  Zh Mikrobiol Epidemiol Immunobiol  1989   \n",
       "30001                        Aust Dent J  1989   \n",
       "30002                   Scand J Dent Res  1989   \n",
       "30003                      J Periodontol  1989   \n",
       "\n",
       "                                                   title  \\\n",
       "29999            [Oral manifestations of HIV infection].   \n",
       "30000  [The tentative identification of actinomycetes...   \n",
       "30001  Differential diagnosis of severe periodontal l...   \n",
       "30002  Gingival fluid, beta 2-microglobulin and prote...   \n",
       "30003  A comparison of freeze-dried bone allograft an...   \n",
       "\n",
       "                                                  author  \\\n",
       "29999                                [Article in German]   \n",
       "30000                               [Article in Russian]   \n",
       "30001                              Hirsch RS, Clarke NG.   \n",
       "30002  Syrjänen SM(1), Alakuijala P, Markkanen SO, Ma...   \n",
       "30003  Rummelhart JM(1), Mellonig JT, Gray JL, Towle HJ.   \n",
       "\n",
       "                                             author_info  \\\n",
       "29999  Puelacher W, Zangerle R, Kulmer S, Waldhart E,...   \n",
       "30000                          Mel'nikov VG, Oleĭnik II.   \n",
       "30001  Comment in\\n    Aust Dent J. 1990 Apr;35(2):19...   \n",
       "30002  Author information: \\n(1)Faculty of Dentistry,...   \n",
       "30003  Author information: \\n(1)Naval Dental Clinic, ...   \n",
       "\n",
       "                                                abstract  \\\n",
       "29999  Skin and mucous membranes including the oral m...   \n",
       "30000  In this work the results obtained in the study...   \n",
       "30001  In current clinical practice, a differential d...   \n",
       "30002  beta 2-microglobulin (beta 2-m), lysozyme and ...   \n",
       "30003  This study was conducted to clinically compare...   \n",
       "\n",
       "                                        pos_tag_abstract  topic  \n",
       "29999  [Skin, mucous, membranes, including, oral, muc...      7  \n",
       "30000  [work, results, obtained, study, morphology, A...      4  \n",
       "30001  [current, clinical, practice, differential, di...      7  \n",
       "30002  [beta, lysozyme, protein, concentrations, ging...      2  \n",
       "30003  [study, conducted, compare, freeze-dried, bone...      3  "
      ]
     },
     "execution_count": 62,
     "metadata": {},
     "output_type": "execute_result"
    }
   ],
   "source": [
    "# 1980년대 논문으로 테스트\n",
    "test = df[(df.year >= '1980') & (df.year < '1990')]\n",
    "print(len(test))\n",
    "test.head()"
   ]
  },
  {
   "cell_type": "code",
   "execution_count": 63,
   "metadata": {},
   "outputs": [],
   "source": [
    "# 1980년대 논문만 corpus에서 가져옴\n",
    "\n",
    "index_1980 = list(test.index)\n",
    "# corpus_1980 = corpus[0,1,2,3]\n",
    "corpus_1980 = corpus[29999:30726]"
   ]
  },
  {
   "cell_type": "code",
   "execution_count": 64,
   "metadata": {
    "scrolled": true
   },
   "outputs": [],
   "source": [
    "dist_dict = {i:0 for i, value in enumerate(range(10))}\n",
    "\n",
    "# dist_dict\n",
    "for topic_dist in model[corpus_1980]:\n",
    "    for key, value in topic_dist:\n",
    "        dist_dict[key] += value"
   ]
  },
  {
   "cell_type": "code",
   "execution_count": 65,
   "metadata": {},
   "outputs": [],
   "source": [
    "for key, value in dist_dict.items():\n",
    "    dist_dict[key] = dist_dict[key] / len(corpus_1980)"
   ]
  },
  {
   "cell_type": "code",
   "execution_count": 66,
   "metadata": {},
   "outputs": [
    {
     "data": {
      "text/plain": [
       "{0: 0.14814931803358594,\n",
       " 1: 0.08534531071500281,\n",
       " 2: 0.07312354289938118,\n",
       " 3: 0.07673150841838473,\n",
       " 4: 0.09518898055828504,\n",
       " 5: 0.03583241955081239,\n",
       " 6: 0.07658867089608185,\n",
       " 7: 0.14412644854842838,\n",
       " 8: 0.1599627674020509,\n",
       " 9: 0.09515208430957188}"
      ]
     },
     "execution_count": 66,
     "metadata": {},
     "output_type": "execute_result"
    }
   ],
   "source": [
    "dist_dict"
   ]
  },
  {
   "cell_type": "code",
   "execution_count": 67,
   "metadata": {
    "scrolled": true
   },
   "outputs": [
    {
     "data": {
      "text/plain": [
       "0.9902010513315851"
      ]
     },
     "execution_count": 67,
     "metadata": {},
     "output_type": "execute_result"
    }
   ],
   "source": [
    "# 합이 1에 가깝게 잘 나옴\n",
    "sum(dist_dict.values())"
   ]
  },
  {
   "cell_type": "code",
   "execution_count": 10,
   "metadata": {},
   "outputs": [
    {
     "data": {
      "text/html": [
       "<div>\n",
       "<style scoped>\n",
       "    .dataframe tbody tr th:only-of-type {\n",
       "        vertical-align: middle;\n",
       "    }\n",
       "\n",
       "    .dataframe tbody tr th {\n",
       "        vertical-align: top;\n",
       "    }\n",
       "\n",
       "    .dataframe thead th {\n",
       "        text-align: right;\n",
       "    }\n",
       "</style>\n",
       "<table border=\"1\" class=\"dataframe\">\n",
       "  <thead>\n",
       "    <tr style=\"text-align: right;\">\n",
       "      <th></th>\n",
       "      <th>journal_name</th>\n",
       "      <th>year</th>\n",
       "      <th>title</th>\n",
       "      <th>author</th>\n",
       "      <th>author_info</th>\n",
       "      <th>abstract</th>\n",
       "      <th>pos_tag_abstract</th>\n",
       "    </tr>\n",
       "  </thead>\n",
       "  <tbody>\n",
       "    <tr>\n",
       "      <th>0</th>\n",
       "      <td>Mol Med Rep</td>\n",
       "      <td>2021</td>\n",
       "      <td>Oral peroxidases: From antimicrobial agents to...</td>\n",
       "      <td>Courtois P(1).</td>\n",
       "      <td>Author information: \\n(1)Faculty of Medicine, ...</td>\n",
       "      <td>Sialoperoxidase and myeloperoxidase are the tw...</td>\n",
       "      <td>[Sialoperoxidase, myeloperoxidase, main, perox...</td>\n",
       "    </tr>\n",
       "    <tr>\n",
       "      <th>1</th>\n",
       "      <td>J Clin Endocrinol Metab</td>\n",
       "      <td>2021</td>\n",
       "      <td>Periodontitis and Risk of Diabetes in the Athe...</td>\n",
       "      <td>Zhang S(1), Philips KH(2), Moss K(2), Wu D(2)(...</td>\n",
       "      <td>Author information: \\n(1)Periodontics Departme...</td>\n",
       "      <td>To determine whether periodontal disease is po...</td>\n",
       "      <td>[determine, periodontal, disease, associated, ...</td>\n",
       "    </tr>\n",
       "    <tr>\n",
       "      <th>2</th>\n",
       "      <td>Saudi Pharm J</td>\n",
       "      <td>2021</td>\n",
       "      <td>Doxycycline hyclate-loaded in situ forming gel...</td>\n",
       "      <td>Senarat S(1)(2), Wai Lwin W(3), Mahadlek J(4)(...</td>\n",
       "      <td>Author information: \\n(1)Programe of Pharmaceu...</td>\n",
       "      <td>Polymeric material plays an important role as ...</td>\n",
       "      <td>[Polymeric, material, plays, important, role, ...</td>\n",
       "    </tr>\n",
       "    <tr>\n",
       "      <th>3</th>\n",
       "      <td>BMC Oral Health</td>\n",
       "      <td>2021</td>\n",
       "      <td>Clinical efficacy of scaling and root planing ...</td>\n",
       "      <td>Qureshi A(1), Bokhari SAH(2), Haque Z(3), Balo...</td>\n",
       "      <td>Author information: \\n(1)Department of Communi...</td>\n",
       "      <td>Treating periodontitis through non-surgical pe...</td>\n",
       "      <td>[Treating, periodontitis, non-surgical, period...</td>\n",
       "    </tr>\n",
       "    <tr>\n",
       "      <th>4</th>\n",
       "      <td>Life Sci</td>\n",
       "      <td>2021</td>\n",
       "      <td>Effects of a β2-adrenergic receptor blocker on...</td>\n",
       "      <td>Takeguchi A(1), Miyazawa K(1), Sato T(2), Tabu...</td>\n",
       "      <td>Author information: \\n(1)Department of Orthodo...</td>\n",
       "      <td>Recent studies have reported a relationship be...</td>\n",
       "      <td>[Recent, studies, reported, relationship, peri...</td>\n",
       "    </tr>\n",
       "  </tbody>\n",
       "</table>\n",
       "</div>"
      ],
      "text/plain": [
       "              journal_name  year  \\\n",
       "0              Mol Med Rep  2021   \n",
       "1  J Clin Endocrinol Metab  2021   \n",
       "2            Saudi Pharm J  2021   \n",
       "3          BMC Oral Health  2021   \n",
       "4                 Life Sci  2021   \n",
       "\n",
       "                                               title  \\\n",
       "0  Oral peroxidases: From antimicrobial agents to...   \n",
       "1  Periodontitis and Risk of Diabetes in the Athe...   \n",
       "2  Doxycycline hyclate-loaded in situ forming gel...   \n",
       "3  Clinical efficacy of scaling and root planing ...   \n",
       "4  Effects of a β2-adrenergic receptor blocker on...   \n",
       "\n",
       "                                              author  \\\n",
       "0                                     Courtois P(1).   \n",
       "1  Zhang S(1), Philips KH(2), Moss K(2), Wu D(2)(...   \n",
       "2  Senarat S(1)(2), Wai Lwin W(3), Mahadlek J(4)(...   \n",
       "3  Qureshi A(1), Bokhari SAH(2), Haque Z(3), Balo...   \n",
       "4  Takeguchi A(1), Miyazawa K(1), Sato T(2), Tabu...   \n",
       "\n",
       "                                         author_info  \\\n",
       "0  Author information: \\n(1)Faculty of Medicine, ...   \n",
       "1  Author information: \\n(1)Periodontics Departme...   \n",
       "2  Author information: \\n(1)Programe of Pharmaceu...   \n",
       "3  Author information: \\n(1)Department of Communi...   \n",
       "4  Author information: \\n(1)Department of Orthodo...   \n",
       "\n",
       "                                            abstract  \\\n",
       "0  Sialoperoxidase and myeloperoxidase are the tw...   \n",
       "1  To determine whether periodontal disease is po...   \n",
       "2  Polymeric material plays an important role as ...   \n",
       "3  Treating periodontitis through non-surgical pe...   \n",
       "4  Recent studies have reported a relationship be...   \n",
       "\n",
       "                                    pos_tag_abstract  \n",
       "0  [Sialoperoxidase, myeloperoxidase, main, perox...  \n",
       "1  [determine, periodontal, disease, associated, ...  \n",
       "2  [Polymeric, material, plays, important, role, ...  \n",
       "3  [Treating, periodontitis, non-surgical, period...  \n",
       "4  [Recent, studies, reported, relationship, peri...  "
      ]
     },
     "execution_count": 10,
     "metadata": {},
     "output_type": "execute_result"
    }
   ],
   "source": [
    "df.head()"
   ]
  },
  {
   "cell_type": "code",
   "execution_count": 17,
   "metadata": {},
   "outputs": [
    {
     "data": {
      "application/vnd.jupyter.widget-view+json": {
       "model_id": "bfa82d1621fc4325b082c4cdddff56ce",
       "version_major": 2,
       "version_minor": 0
      },
      "text/plain": [
       "HBox(children=(HTML(value=''), FloatProgress(value=0.0, max=30726.0), HTML(value='')))"
      ]
     },
     "metadata": {},
     "output_type": "display_data"
    },
    {
     "name": "stdout",
     "output_type": "stream",
     "text": [
      "\n"
     ]
    }
   ],
   "source": [
    "# 특정 토픽이 60% 넘을 경우 해당 토픽으로 indexing\n",
    "from operator import itemgetter\n",
    "\n",
    "# 가장 dist가 높은 토픽 & 분포 저장\n",
    "main_topic = []\n",
    "for topic_list in tqdm(model[corpus]):\n",
    "    main_topic.append(max(topic_list, key=itemgetter(1)))\n",
    "    "
   ]
  },
  {
   "cell_type": "code",
   "execution_count": 28,
   "metadata": {},
   "outputs": [],
   "source": [
    "def get_over_60(x):\n",
    "    if x[1] >= 0.6:\n",
    "        return x[0]\n",
    "    else:\n",
    "        return -1\n",
    "    # 참고) 같은 표현\n",
    "    # return x[0] if x[1] >= 0.6 else -1\n",
    "\n",
    "\n",
    "topics = list(map(get_over_60, main_topic))"
   ]
  },
  {
   "cell_type": "code",
   "execution_count": 30,
   "metadata": {},
   "outputs": [],
   "source": [
    "df['topic'] = topics"
   ]
  },
  {
   "cell_type": "code",
   "execution_count": 33,
   "metadata": {},
   "outputs": [],
   "source": [
    "# 연도별 토픽 분포 확인\n",
    "\n",
    "test_df = df[df.topic != -1]"
   ]
  },
  {
   "cell_type": "code",
   "execution_count": 39,
   "metadata": {},
   "outputs": [
    {
     "data": {
      "text/plain": [
       "0    50\n",
       "8    49\n",
       "7    43\n",
       "9    37\n",
       "4    22\n",
       "1    20\n",
       "3    20\n",
       "2    14\n",
       "6    14\n",
       "5     4\n",
       "Name: topic, dtype: int64"
      ]
     },
     "execution_count": 39,
     "metadata": {},
     "output_type": "execute_result"
    }
   ],
   "source": [
    "test_df_1980 = test_df[(test_df.year >= '1980') & (test_df.year < '1990')]\n",
    "test_df_1980.topic.value_counts()"
   ]
  },
  {
   "cell_type": "code",
   "execution_count": 48,
   "metadata": {},
   "outputs": [
    {
     "data": {
      "text/plain": [
       "0    0.183150\n",
       "1    0.073260\n",
       "2    0.051282\n",
       "3    0.073260\n",
       "4    0.080586\n",
       "5    0.014652\n",
       "6    0.051282\n",
       "7    0.157509\n",
       "8    0.179487\n",
       "9    0.135531\n",
       "Name: topic, dtype: float64"
      ]
     },
     "execution_count": 48,
     "metadata": {},
     "output_type": "execute_result"
    }
   ],
   "source": [
    "def topic_percent(x):\n",
    "    return x/sum(test_df_1980.topic.value_counts())\n",
    "\n",
    "result_df_1980 = test_df_1980.topic.value_counts().map(topic_percent)\n",
    "result_df_1980 = result_df_1980.sort_index()"
   ]
  },
  {
   "cell_type": "code",
   "execution_count": 52,
   "metadata": {},
   "outputs": [
    {
     "data": {
      "text/plain": [
       "0    0.125863\n",
       "1    0.092937\n",
       "2    0.068508\n",
       "3    0.105151\n",
       "4    0.114711\n",
       "5    0.052576\n",
       "6    0.016463\n",
       "7    0.151885\n",
       "8    0.166755\n",
       "9    0.105151\n",
       "Name: topic, dtype: float64"
      ]
     },
     "execution_count": 52,
     "metadata": {},
     "output_type": "execute_result"
    }
   ],
   "source": [
    "test_df_1990 = test_df[(test_df.year >= '1990') & (test_df.year < '2000')]\n",
    "result_df_1990 = test_df_1990.topic.value_counts() / sum(test_df_1990.topic.value_counts())\n",
    "result_df_1990 = result_df_1990.sort_index()\n",
    "result_df_1990\n",
    "\n",
    "\n"
   ]
  },
  {
   "cell_type": "code",
   "execution_count": 53,
   "metadata": {},
   "outputs": [
    {
     "data": {
      "text/plain": [
       "0    0.102974\n",
       "1    0.063973\n",
       "2    0.058361\n",
       "3    0.129068\n",
       "4    0.092312\n",
       "5    0.088664\n",
       "6    0.020202\n",
       "7    0.110550\n",
       "8    0.172840\n",
       "9    0.161055\n",
       "Name: topic, dtype: float64"
      ]
     },
     "execution_count": 53,
     "metadata": {},
     "output_type": "execute_result"
    }
   ],
   "source": [
    "test_df_2000 = test_df[(test_df.year >= '2000') & (test_df.year < '2010')]\n",
    "result_df_2000 = test_df_2000.topic.value_counts() / sum(test_df_2000.topic.value_counts())\n",
    "result_df_2000 = result_df_2000.sort_index()\n",
    "result_df_2000"
   ]
  },
  {
   "cell_type": "code",
   "execution_count": 60,
   "metadata": {},
   "outputs": [
    {
     "data": {
      "text/plain": [
       "0    0.103697\n",
       "1    0.042806\n",
       "2    0.085956\n",
       "3    0.082179\n",
       "4    0.036740\n",
       "5    0.147305\n",
       "6    0.032505\n",
       "7    0.142612\n",
       "8    0.101637\n",
       "9    0.224562\n",
       "Name: topic, dtype: float64"
      ]
     },
     "execution_count": 60,
     "metadata": {},
     "output_type": "execute_result"
    }
   ],
   "source": [
    "test_df_2010 = test_df[(test_df.year >= '2010') & (test_df.year < '2022')]\n",
    "result_df_2010 = test_df_2010.topic.value_counts() / sum(test_df_2010.topic.value_counts())\n",
    "result_df_2010 = result_df_2010.sort_index()\n",
    "result_df_2010"
   ]
  },
  {
   "cell_type": "code",
   "execution_count": 57,
   "metadata": {},
   "outputs": [
    {
     "data": {
      "text/html": [
       "<div>\n",
       "<style scoped>\n",
       "    .dataframe tbody tr th:only-of-type {\n",
       "        vertical-align: middle;\n",
       "    }\n",
       "\n",
       "    .dataframe tbody tr th {\n",
       "        vertical-align: top;\n",
       "    }\n",
       "\n",
       "    .dataframe thead th {\n",
       "        text-align: right;\n",
       "    }\n",
       "</style>\n",
       "<table border=\"1\" class=\"dataframe\">\n",
       "  <thead>\n",
       "    <tr style=\"text-align: right;\">\n",
       "      <th></th>\n",
       "      <th>topic_1980</th>\n",
       "      <th>topic_1990</th>\n",
       "      <th>topic_2000</th>\n",
       "      <th>topic_2010</th>\n",
       "    </tr>\n",
       "  </thead>\n",
       "  <tbody>\n",
       "    <tr>\n",
       "      <th>0</th>\n",
       "      <td>0.183150</td>\n",
       "      <td>0.125863</td>\n",
       "      <td>0.102974</td>\n",
       "      <td>0.103697</td>\n",
       "    </tr>\n",
       "    <tr>\n",
       "      <th>1</th>\n",
       "      <td>0.073260</td>\n",
       "      <td>0.092937</td>\n",
       "      <td>0.063973</td>\n",
       "      <td>0.042806</td>\n",
       "    </tr>\n",
       "    <tr>\n",
       "      <th>2</th>\n",
       "      <td>0.051282</td>\n",
       "      <td>0.068508</td>\n",
       "      <td>0.058361</td>\n",
       "      <td>0.085956</td>\n",
       "    </tr>\n",
       "    <tr>\n",
       "      <th>3</th>\n",
       "      <td>0.073260</td>\n",
       "      <td>0.105151</td>\n",
       "      <td>0.129068</td>\n",
       "      <td>0.082179</td>\n",
       "    </tr>\n",
       "    <tr>\n",
       "      <th>4</th>\n",
       "      <td>0.080586</td>\n",
       "      <td>0.114711</td>\n",
       "      <td>0.092312</td>\n",
       "      <td>0.036740</td>\n",
       "    </tr>\n",
       "    <tr>\n",
       "      <th>5</th>\n",
       "      <td>0.014652</td>\n",
       "      <td>0.052576</td>\n",
       "      <td>0.088664</td>\n",
       "      <td>0.147305</td>\n",
       "    </tr>\n",
       "    <tr>\n",
       "      <th>6</th>\n",
       "      <td>0.051282</td>\n",
       "      <td>0.016463</td>\n",
       "      <td>0.020202</td>\n",
       "      <td>0.032505</td>\n",
       "    </tr>\n",
       "    <tr>\n",
       "      <th>7</th>\n",
       "      <td>0.157509</td>\n",
       "      <td>0.151885</td>\n",
       "      <td>0.110550</td>\n",
       "      <td>0.142612</td>\n",
       "    </tr>\n",
       "    <tr>\n",
       "      <th>8</th>\n",
       "      <td>0.179487</td>\n",
       "      <td>0.166755</td>\n",
       "      <td>0.172840</td>\n",
       "      <td>0.101637</td>\n",
       "    </tr>\n",
       "    <tr>\n",
       "      <th>9</th>\n",
       "      <td>0.135531</td>\n",
       "      <td>0.105151</td>\n",
       "      <td>0.161055</td>\n",
       "      <td>0.224562</td>\n",
       "    </tr>\n",
       "  </tbody>\n",
       "</table>\n",
       "</div>"
      ],
      "text/plain": [
       "   topic_1980  topic_1990  topic_2000  topic_2010\n",
       "0    0.183150    0.125863    0.102974    0.103697\n",
       "1    0.073260    0.092937    0.063973    0.042806\n",
       "2    0.051282    0.068508    0.058361    0.085956\n",
       "3    0.073260    0.105151    0.129068    0.082179\n",
       "4    0.080586    0.114711    0.092312    0.036740\n",
       "5    0.014652    0.052576    0.088664    0.147305\n",
       "6    0.051282    0.016463    0.020202    0.032505\n",
       "7    0.157509    0.151885    0.110550    0.142612\n",
       "8    0.179487    0.166755    0.172840    0.101637\n",
       "9    0.135531    0.105151    0.161055    0.224562"
      ]
     },
     "execution_count": 57,
     "metadata": {},
     "output_type": "execute_result"
    }
   ],
   "source": [
    "result_df = pd.concat([result_df_1980, result_df_1990, result_df_2000, result_df_2010], axis=1)\n",
    "result_df.columns = ['topic_1980', 'topic_1990', 'topic_2000', 'topic_2010']\n",
    "result_df"
   ]
  },
  {
   "cell_type": "code",
   "execution_count": 58,
   "metadata": {},
   "outputs": [],
   "source": [
    "result_df.to_csv(\"../files/topic_dist.csv\")"
   ]
  },
  {
   "cell_type": "code",
   "execution_count": 69,
   "metadata": {},
   "outputs": [
    {
     "data": {
      "text/html": [
       "<div>\n",
       "<style scoped>\n",
       "    .dataframe tbody tr th:only-of-type {\n",
       "        vertical-align: middle;\n",
       "    }\n",
       "\n",
       "    .dataframe tbody tr th {\n",
       "        vertical-align: top;\n",
       "    }\n",
       "\n",
       "    .dataframe thead th {\n",
       "        text-align: right;\n",
       "    }\n",
       "</style>\n",
       "<table border=\"1\" class=\"dataframe\">\n",
       "  <thead>\n",
       "    <tr style=\"text-align: right;\">\n",
       "      <th></th>\n",
       "      <th>journal_name</th>\n",
       "      <th>year</th>\n",
       "      <th>title</th>\n",
       "      <th>author</th>\n",
       "      <th>author_info</th>\n",
       "      <th>abstract</th>\n",
       "      <th>pos_tag_abstract</th>\n",
       "      <th>topic</th>\n",
       "    </tr>\n",
       "  </thead>\n",
       "  <tbody>\n",
       "    <tr>\n",
       "      <th>0</th>\n",
       "      <td>Mol Med Rep</td>\n",
       "      <td>2021</td>\n",
       "      <td>Oral peroxidases: From antimicrobial agents to...</td>\n",
       "      <td>Courtois P(1).</td>\n",
       "      <td>Author information: \\n(1)Faculty of Medicine, ...</td>\n",
       "      <td>Sialoperoxidase and myeloperoxidase are the tw...</td>\n",
       "      <td>[Sialoperoxidase, myeloperoxidase, main, perox...</td>\n",
       "      <td>7</td>\n",
       "    </tr>\n",
       "    <tr>\n",
       "      <th>8</th>\n",
       "      <td>Head Face Med</td>\n",
       "      <td>2021</td>\n",
       "      <td>COVID-19 and periodontitis: reflecting on a po...</td>\n",
       "      <td>Campisi G(#)(1), Bizzoca ME(#)(2), Lo Muzio L(...</td>\n",
       "      <td>Author information: \\n(1)Department of Surgica...</td>\n",
       "      <td>Recent studies have demonstrated a relationshi...</td>\n",
       "      <td>[Recent, studies, demonstrated, relationship, ...</td>\n",
       "      <td>7</td>\n",
       "    </tr>\n",
       "    <tr>\n",
       "      <th>41</th>\n",
       "      <td>Antioxidants (Basel)</td>\n",
       "      <td>2021</td>\n",
       "      <td>Salvadora persica: Nature's Gift for Periodont...</td>\n",
       "      <td>Mekhemar M(1), Geib M(2), Kumar M(3), Radha(4)...</td>\n",
       "      <td>Author information: \\n(1)Clinic for Conservati...</td>\n",
       "      <td>Salvadora persica (SP) extract, displays very ...</td>\n",
       "      <td>[Salvadora, persica, SP, extract, displays, va...</td>\n",
       "      <td>7</td>\n",
       "    </tr>\n",
       "    <tr>\n",
       "      <th>53</th>\n",
       "      <td>Photodiagnosis Photodyn Ther</td>\n",
       "      <td>2021</td>\n",
       "      <td>Is antimicrobial photodynamic therapy an effec...</td>\n",
       "      <td>Dalvi S(1), Benedicenti S(2), Hanna R(3).</td>\n",
       "      <td>Author information: \\n(1)Department of Surgica...</td>\n",
       "      <td>Limitations of scaling and root planing (SRP) ...</td>\n",
       "      <td>[Limitations, scaling, root, planing, SRP, dir...</td>\n",
       "      <td>7</td>\n",
       "    </tr>\n",
       "    <tr>\n",
       "      <th>80</th>\n",
       "      <td>J Clin Med</td>\n",
       "      <td>2021</td>\n",
       "      <td>Predictive Periodontitis: The Most Promising S...</td>\n",
       "      <td>Cafiero C(1), Spagnuolo G(1), Marenzi G(1), Ma...</td>\n",
       "      <td>Author information: \\n(1)Department of Neurosc...</td>\n",
       "      <td>The primary cause of tooth loss in the industr...</td>\n",
       "      <td>[primary, cause, tooth, loss, industrialized, ...</td>\n",
       "      <td>7</td>\n",
       "    </tr>\n",
       "    <tr>\n",
       "      <th>...</th>\n",
       "      <td>...</td>\n",
       "      <td>...</td>\n",
       "      <td>...</td>\n",
       "      <td>...</td>\n",
       "      <td>...</td>\n",
       "      <td>...</td>\n",
       "      <td>...</td>\n",
       "      <td>...</td>\n",
       "    </tr>\n",
       "    <tr>\n",
       "      <th>30691</th>\n",
       "      <td>Farmakol Toksikol</td>\n",
       "      <td>1984</td>\n",
       "      <td>[Thymalin as a modulator of immunogenesis and ...</td>\n",
       "      <td>[Article in Russian]</td>\n",
       "      <td>Kuznik BI, Budazhabon GB, Budazhabon NG, Moroz...</td>\n",
       "      <td>Studies made in 30 patients with periodontosis...</td>\n",
       "      <td>[Studies, made, patients, periodontosis, shown...</td>\n",
       "      <td>7</td>\n",
       "    </tr>\n",
       "    <tr>\n",
       "      <th>30700</th>\n",
       "      <td>Rev Belge Med Dent</td>\n",
       "      <td>1982</td>\n",
       "      <td>[Significance of immunologic mechanisms in the...</td>\n",
       "      <td>[Article in Dutch]</td>\n",
       "      <td>Adriaens PA.</td>\n",
       "      <td>The role of the immunological mechanisms in th...</td>\n",
       "      <td>[role, immunological, mechanisms, development,...</td>\n",
       "      <td>7</td>\n",
       "    </tr>\n",
       "    <tr>\n",
       "      <th>30701</th>\n",
       "      <td>Rev Belge Med Dent</td>\n",
       "      <td>1982</td>\n",
       "      <td>[Microbial aspects of periodontopathies and im...</td>\n",
       "      <td>[Article in Dutch]</td>\n",
       "      <td>Vande Velde FJ, Ebo CM, Adriaens PA.</td>\n",
       "      <td>The development of periodontitis is always pre...</td>\n",
       "      <td>[development, periodontitis, preceded, gingivi...</td>\n",
       "      <td>7</td>\n",
       "    </tr>\n",
       "    <tr>\n",
       "      <th>30713</th>\n",
       "      <td>Rev Stomatol Chir Maxillofac</td>\n",
       "      <td>1981</td>\n",
       "      <td>[Current concepts concerning the etiopathogeni...</td>\n",
       "      <td>[Article in French]</td>\n",
       "      <td>Achache S, Casteyde JP, Occhiminuti MA, Netter...</td>\n",
       "      <td>The authors describe the various etiological t...</td>\n",
       "      <td>[authors, describe, various, etiological, type...</td>\n",
       "      <td>7</td>\n",
       "    </tr>\n",
       "    <tr>\n",
       "      <th>30723</th>\n",
       "      <td>Hautarzt</td>\n",
       "      <td>1980</td>\n",
       "      <td>[Extrapalmoplantar skin symptoms and additiona...</td>\n",
       "      <td>[Article in German]</td>\n",
       "      <td>Bork K, Löst C.</td>\n",
       "      <td>Numerous patients with Papillon-Lefèvre syndro...</td>\n",
       "      <td>[Numerous, patients, Papillon-Lefèvre, syndrom...</td>\n",
       "      <td>7</td>\n",
       "    </tr>\n",
       "  </tbody>\n",
       "</table>\n",
       "<p>1969 rows × 8 columns</p>\n",
       "</div>"
      ],
      "text/plain": [
       "                       journal_name  year  \\\n",
       "0                       Mol Med Rep  2021   \n",
       "8                     Head Face Med  2021   \n",
       "41             Antioxidants (Basel)  2021   \n",
       "53     Photodiagnosis Photodyn Ther  2021   \n",
       "80                       J Clin Med  2021   \n",
       "...                             ...   ...   \n",
       "30691             Farmakol Toksikol  1984   \n",
       "30700            Rev Belge Med Dent  1982   \n",
       "30701            Rev Belge Med Dent  1982   \n",
       "30713  Rev Stomatol Chir Maxillofac  1981   \n",
       "30723                      Hautarzt  1980   \n",
       "\n",
       "                                                   title  \\\n",
       "0      Oral peroxidases: From antimicrobial agents to...   \n",
       "8      COVID-19 and periodontitis: reflecting on a po...   \n",
       "41     Salvadora persica: Nature's Gift for Periodont...   \n",
       "53     Is antimicrobial photodynamic therapy an effec...   \n",
       "80     Predictive Periodontitis: The Most Promising S...   \n",
       "...                                                  ...   \n",
       "30691  [Thymalin as a modulator of immunogenesis and ...   \n",
       "30700  [Significance of immunologic mechanisms in the...   \n",
       "30701  [Microbial aspects of periodontopathies and im...   \n",
       "30713  [Current concepts concerning the etiopathogeni...   \n",
       "30723  [Extrapalmoplantar skin symptoms and additiona...   \n",
       "\n",
       "                                                  author  \\\n",
       "0                                         Courtois P(1).   \n",
       "8      Campisi G(#)(1), Bizzoca ME(#)(2), Lo Muzio L(...   \n",
       "41     Mekhemar M(1), Geib M(2), Kumar M(3), Radha(4)...   \n",
       "53             Dalvi S(1), Benedicenti S(2), Hanna R(3).   \n",
       "80     Cafiero C(1), Spagnuolo G(1), Marenzi G(1), Ma...   \n",
       "...                                                  ...   \n",
       "30691                               [Article in Russian]   \n",
       "30700                                 [Article in Dutch]   \n",
       "30701                                 [Article in Dutch]   \n",
       "30713                                [Article in French]   \n",
       "30723                                [Article in German]   \n",
       "\n",
       "                                             author_info  \\\n",
       "0      Author information: \\n(1)Faculty of Medicine, ...   \n",
       "8      Author information: \\n(1)Department of Surgica...   \n",
       "41     Author information: \\n(1)Clinic for Conservati...   \n",
       "53     Author information: \\n(1)Department of Surgica...   \n",
       "80     Author information: \\n(1)Department of Neurosc...   \n",
       "...                                                  ...   \n",
       "30691  Kuznik BI, Budazhabon GB, Budazhabon NG, Moroz...   \n",
       "30700                                       Adriaens PA.   \n",
       "30701               Vande Velde FJ, Ebo CM, Adriaens PA.   \n",
       "30713  Achache S, Casteyde JP, Occhiminuti MA, Netter...   \n",
       "30723                                    Bork K, Löst C.   \n",
       "\n",
       "                                                abstract  \\\n",
       "0      Sialoperoxidase and myeloperoxidase are the tw...   \n",
       "8      Recent studies have demonstrated a relationshi...   \n",
       "41     Salvadora persica (SP) extract, displays very ...   \n",
       "53     Limitations of scaling and root planing (SRP) ...   \n",
       "80     The primary cause of tooth loss in the industr...   \n",
       "...                                                  ...   \n",
       "30691  Studies made in 30 patients with periodontosis...   \n",
       "30700  The role of the immunological mechanisms in th...   \n",
       "30701  The development of periodontitis is always pre...   \n",
       "30713  The authors describe the various etiological t...   \n",
       "30723  Numerous patients with Papillon-Lefèvre syndro...   \n",
       "\n",
       "                                        pos_tag_abstract  topic  \n",
       "0      [Sialoperoxidase, myeloperoxidase, main, perox...      7  \n",
       "8      [Recent, studies, demonstrated, relationship, ...      7  \n",
       "41     [Salvadora, persica, SP, extract, displays, va...      7  \n",
       "53     [Limitations, scaling, root, planing, SRP, dir...      7  \n",
       "80     [primary, cause, tooth, loss, industrialized, ...      7  \n",
       "...                                                  ...    ...  \n",
       "30691  [Studies, made, patients, periodontosis, shown...      7  \n",
       "30700  [role, immunological, mechanisms, development,...      7  \n",
       "30701  [development, periodontitis, preceded, gingivi...      7  \n",
       "30713  [authors, describe, various, etiological, type...      7  \n",
       "30723  [Numerous, patients, Papillon-Lefèvre, syndrom...      7  \n",
       "\n",
       "[1969 rows x 8 columns]"
      ]
     },
     "execution_count": 69,
     "metadata": {},
     "output_type": "execute_result"
    }
   ],
   "source": [
    "# 토픽이 어떤지 확인?\n",
    "df[df.topic == 7]"
   ]
  }
 ],
 "metadata": {
  "kernelspec": {
   "display_name": "Python 3",
   "language": "python",
   "name": "python3"
  },
  "language_info": {
   "codemirror_mode": {
    "name": "ipython",
    "version": 3
   },
   "file_extension": ".py",
   "mimetype": "text/x-python",
   "name": "python",
   "nbconvert_exporter": "python",
   "pygments_lexer": "ipython3",
   "version": "3.7.4"
  }
 },
 "nbformat": 4,
 "nbformat_minor": 2
}
