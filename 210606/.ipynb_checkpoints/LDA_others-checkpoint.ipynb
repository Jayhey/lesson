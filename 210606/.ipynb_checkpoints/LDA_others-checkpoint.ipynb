{
 "cells": [
  {
   "cell_type": "code",
   "execution_count": 1,
   "metadata": {},
   "outputs": [],
   "source": [
    "# 다음에 해볼 것\n",
    "# 1. 전처리 더 하기\n",
    "# 2. lemmatize 해보기\n",
    "# 3. 연도별 잘라서 관측\n",
    "# 4. 저자 EDA (소속, 나라)\n",
    "# 5. 최적 토픽 수\n",
    "# 6. 하이퍼 파라미터 바꿔보기 (알파, 베타)"
   ]
  },
  {
   "cell_type": "code",
   "execution_count": 2,
   "metadata": {},
   "outputs": [],
   "source": [
    "import gensim\n",
    "import pickle\n",
    "import pandas as pd\n"
   ]
  },
  {
   "cell_type": "code",
   "execution_count": 3,
   "metadata": {},
   "outputs": [],
   "source": [
    "df = pd.read_pickle(\"../files/final_df.pickle\")"
   ]
  },
  {
   "cell_type": "code",
   "execution_count": 4,
   "metadata": {},
   "outputs": [],
   "source": [
    "# load corpus, dictionary\n",
    "\n",
    "with open('../files/lda/corpus.pickle', 'rb') as f:\n",
    "    corpus = pickle.load(f) # 단 한줄씩 읽어옴\n",
    "\n",
    "with open('../files/lda/dictionary.pickle', 'rb') as f:\n",
    "    dictionary = pickle.load(f) # 단 한줄씩 읽어옴\n"
   ]
  },
  {
   "cell_type": "code",
   "execution_count": 7,
   "metadata": {},
   "outputs": [],
   "source": [
    "model = gensim.models.ldamodel.LdaModel.load(\"../files/lda/lda.model\")"
   ]
  },
  {
   "cell_type": "code",
   "execution_count": 43,
   "metadata": {},
   "outputs": [],
   "source": [
    "topics = model.print_topics(num_words=100)"
   ]
  },
  {
   "cell_type": "code",
   "execution_count": 44,
   "metadata": {},
   "outputs": [
    {
     "name": "stdout",
     "output_type": "stream",
     "text": [
      "(0, '0.021*\"treatment\" + 0.017*\"periodontal\" + 0.017*\"probing\" + 0.016*\"clinical\" + 0.015*\"group\" + 0.015*\"patients\" + 0.013*\"sites\" + 0.013*\"therapy\" + 0.012*\"study\" + 0.012*\"mm\" + 0.011*\"months\" + 0.011*\"significant\" + 0.010*\"depth\" + 0.010*\"plaque\" + 0.010*\"attachment\" + 0.010*\"%\" + 0.010*\"control\" + 0.010*\"groups\" + 0.010*\"baseline\" + 0.009*\"pocket\" + 0.008*\"scaling\" + 0.008*\"root\" + 0.007*\"bleeding\" + 0.007*\"gingival\" + 0.007*\"reduction\" + 0.006*\"planing\" + 0.006*\"test\" + 0.006*\"parameters\" + 0.006*\"index\" + 0.006*\"pockets\" + 0.006*\"periodontitis\" + 0.006*\"level\" + 0.006*\"compared\" + 0.005*\"<\" + 0.005*\"mean\" + 0.005*\"weeks\" + 0.005*\"PD\" + 0.005*\"P\" + 0.005*\"following\" + 0.005*\"showed\" + 0.005*\"effect\" + 0.004*\"treated\" + 0.004*\"subgingival\" + 0.004*\"period\" + 0.004*\"SRP\" + 0.004*\"results\" + 0.004*\"days\" + 0.004*\"received\" + 0.004*\"differences\" + 0.004*\"greater\" + 0.004*\"=\" + 0.003*\"p\" + 0.003*\"effects\" + 0.003*\"initial\" + 0.003*\"time\" + 0.003*\"subjects\" + 0.003*\"using\" + 0.003*\"depths\" + 0.003*\"hygiene\" + 0.003*\"used\" + 0.003*\"levels\" + 0.003*\"changes\" + 0.003*\">\" + 0.003*\"CAL\" + 0.003*\"effective\" + 0.003*\"difference\" + 0.003*\"improvement\" + 0.003*\"observed\" + 0.003*\"reduced\" + 0.003*\"evaluated\" + 0.003*\"placebo\" + 0.003*\"chronic\" + 0.003*\"performed\" + 0.003*\"Clinical\" + 0.003*\"debridement\" + 0.003*\"evaluate\" + 0.003*\"use\" + 0.003*\"PPD\" + 0.002*\"recorded\" + 0.002*\"chlorhexidine\" + 0.002*\"selected\" + 0.002*\"tetracycline\" + 0.002*\"GI\" + 0.002*\"irrigation\" + 0.002*\"metronidazole\" + 0.002*\"scores\" + 0.002*\"gel\" + 0.002*\"efficacy\" + 0.002*\"microbiological\" + 0.002*\"day\" + 0.002*\"laser\" + 0.002*\"application\" + 0.002*\"BOP\" + 0.002*\"included\" + 0.002*\"non-surgical\" + 0.002*\"decreased\" + 0.002*\"Group\" + 0.002*\"trial\" + 0.002*\"maintenance\" + 0.002*\"patient\"')\n",
      "(1, '0.029*\"gingivalis\" + 0.022*\"P.\" + 0.012*\"activity\" + 0.010*\"antibody\" + 0.010*\"actinomycetemcomitans\" + 0.010*\"B.\" + 0.008*\"A.\" + 0.007*\"IgG\" + 0.006*\"cells\" + 0.006*\"Bacteroides\" + 0.006*\"periodontitis\" + 0.006*\"human\" + 0.006*\"Porphyromonas\" + 0.006*\"strains\" + 0.006*\"antibodies\" + 0.005*\"protein\" + 0.005*\"LJP\" + 0.005*\"bacteria\" + 0.004*\"cell\" + 0.004*\"proteins\" + 0.004*\"spirochetes\" + 0.004*\"strain\" + 0.004*\"antigens\" + 0.004*\"results\" + 0.004*\"showed\" + 0.003*\"intermedius\" + 0.003*\"adult\" + 0.003*\"study\" + 0.003*\"sera\" + 0.003*\"release\" + 0.003*\"antigen\" + 0.003*\"found\" + 0.003*\"bacterial\" + 0.003*\"acid\" + 0.003*\"surface\" + 0.003*\"membrane\" + 0.003*\"major\" + 0.003*\"host\" + 0.003*\"response\" + 0.003*\"growth\" + 0.003*\"binding\" + 0.003*\"specific\" + 0.003*\"virulence\" + 0.003*\"vitro\" + 0.003*\"serum\" + 0.003*\"infection\" + 0.003*\"responses\" + 0.002*\"type\" + 0.002*\"serotype\" + 0.002*\"using\" + 0.002*\"ability\" + 0.002*\"produced\" + 0.002*\"localized\" + 0.002*\"kDa\" + 0.002*\"pathogen\" + 0.002*\"neutrophils\" + 0.002*\"associated\" + 0.002*\"used\" + 0.002*\"examined\" + 0.002*\"suggest\" + 0.002*\"high\" + 0.002*\"titers\" + 0.002*\"tested\" + 0.002*\"oral\" + 0.002*\"IgA\" + 0.002*\"activities\" + 0.002*\"important\" + 0.002*\"effect\" + 0.002*\"inhibited\" + 0.002*\"demonstrated\" + 0.002*\"bacterium\" + 0.002*\"enzyme\" + 0.002*\"gene\" + 0.002*\"pH\" + 0.002*\"IgG2\" + 0.002*\"purified\" + 0.002*\"formation\" + 0.002*\"inhibition\" + 0.002*\"analysis\" + 0.002*\"assay\" + 0.002*\"revealed\" + 0.002*\"ATCC\" + 0.002*\"PMNs\" + 0.002*\"Actinobacillus\" + 0.002*\"presence\" + 0.002*\"extracts\" + 0.002*\"role\" + 0.002*\"components\" + 0.002*\"proteases\" + 0.002*\"present\" + 0.002*\"different\" + 0.002*\"isolated\" + 0.002*\"fimbriae\" + 0.002*\"LPS\" + 0.002*\"concentration\" + 0.002*\"coli\" + 0.002*\"system\" + 0.002*\"production\" + 0.002*\"protease\" + 0.002*\"addition\"')\n",
      "(2, '0.036*\"patients\" + 0.030*\"periodontitis\" + 0.028*\"levels\" + 0.018*\"healthy\" + 0.018*\"GCF\" + 0.016*\"periodontal\" + 0.015*\"gingival\" + 0.014*\"subjects\" + 0.011*\"group\" + 0.010*\"fluid\" + 0.010*\"disease\" + 0.010*\"sites\" + 0.009*\"serum\" + 0.009*\"study\" + 0.009*\"crevicular\" + 0.009*\"<\" + 0.009*\"chronic\" + 0.008*\"higher\" + 0.008*\"samples\" + 0.008*\"P\" + 0.008*\"groups\" + 0.007*\"controls\" + 0.007*\"activity\" + 0.007*\"compared\" + 0.007*\"p\" + 0.006*\"significant\" + 0.006*\"=\" + 0.006*\"blood\" + 0.006*\"control\" + 0.006*\"gingivitis\" + 0.005*\"concentrations\" + 0.005*\"saliva\" + 0.005*\"clinical\" + 0.005*\"level\" + 0.004*\"CP\" + 0.004*\"collected\" + 0.004*\"total\" + 0.004*\"concentration\" + 0.004*\"found\" + 0.004*\"salivary\" + 0.004*\"increased\" + 0.004*\"AP\" + 0.004*\"correlation\" + 0.004*\"measured\" + 0.004*\"determined\" + 0.004*\"diseased\" + 0.004*\"using\" + 0.004*\"elevated\" + 0.004*\"inflammatory\" + 0.003*\"assay\" + 0.003*\"IL-1\" + 0.003*\"parameters\" + 0.003*\"individuals\" + 0.003*\"tissue\" + 0.003*\"protein\" + 0.003*\"beta\" + 0.003*\"present\" + 0.003*\"inflammation\" + 0.003*\"IL-6\" + 0.003*\"differences\" + 0.003*\"obtained\" + 0.003*\"ELISA\" + 0.003*\"detected\" + 0.003*\"showed\" + 0.003*\"correlated\" + 0.003*\"mean\" + 0.003*\"lower\" + 0.003*\"adult\" + 0.002*\"response\" + 0.002*\"peripheral\" + 0.002*\"elastase\" + 0.002*\"immunosorbent\" + 0.002*\"observed\" + 0.002*\"PMN\" + 0.002*\"plasma\" + 0.002*\"enzyme-linked\" + 0.002*\"values\" + 0.002*\"aggressive\" + 0.002*\"enzyme\" + 0.002*\"index\" + 0.002*\"n\" + 0.002*\"difference\" + 0.002*\"generalized\" + 0.002*\"RPP\" + 0.002*\"results\" + 0.002*\"suggest\" + 0.002*\"CRP\" + 0.002*\"MMP-8\" + 0.002*\"analyzed\" + 0.002*\"normal\" + 0.002*\"status\" + 0.002*\"associated\" + 0.002*\"markers\" + 0.002*\"active\" + 0.002*\"amount\" + 0.002*\"aim\" + 0.002*\"role\" + 0.002*\"whole\" + 0.002*\"determine\" + 0.002*\"severity\"')\n",
      "(3, '0.032*\"bone\" + 0.030*\"mm\" + 0.022*\"+/-\" + 0.019*\"attachment\" + 0.018*\"defects\" + 0.016*\"sites\" + 0.011*\"tissue\" + 0.011*\"measurements\" + 0.010*\"probing\" + 0.010*\"periodontal\" + 0.010*\"surgery\" + 0.010*\"clinical\" + 0.009*\"loss\" + 0.009*\"depth\" + 0.009*\"level\" + 0.009*\"defect\" + 0.008*\"months\" + 0.008*\"alveolar\" + 0.007*\"flap\" + 0.007*\"regeneration\" + 0.007*\"furcation\" + 0.007*\"study\" + 0.007*\"mean\" + 0.007*\"gain\" + 0.006*\"significant\" + 0.006*\"recession\" + 0.006*\"probe\" + 0.006*\"radiographic\" + 0.005*\"membrane\" + 0.005*\"gingival\" + 0.005*\"treated\" + 0.005*\"results\" + 0.005*\"%\" + 0.005*\"using\" + 0.004*\"radiographs\" + 0.004*\"intrabony\" + 0.004*\"osseous\" + 0.004*\"GTR\" + 0.004*\"compared\" + 0.004*\"new\" + 0.004*\"J\" + 0.004*\"healing\" + 0.004*\"differences\" + 0.004*\"used\" + 0.004*\"surgical\" + 0.004*\"pocket\" + 0.004*\"Comment\" + 0.004*\"surfaces\" + 0.004*\"P\" + 0.003*\"interproximal\" + 0.003*\"guided\" + 0.003*\"graft\" + 0.003*\"showed\" + 0.003*\"greater\" + 0.003*\"<\" + 0.003*\"obtained\" + 0.003*\"measured\" + 0.003*\"changes\" + 0.003*\"CAL\" + 0.003*\"membranes\" + 0.003*\"material\" + 0.003*\"height\" + 0.003*\"present\" + 0.003*\"II\" + 0.003*\"fill\" + 0.003*\"buccal\" + 0.003*\"EMD\" + 0.003*\"group\" + 0.003*\"measurement\" + 0.003*\"control\" + 0.003*\"collagen\" + 0.003*\"patients\" + 0.003*\"depths\" + 0.003*\"soft\" + 0.003*\"site\" + 0.002*\"horizontal\" + 0.002*\"test\" + 0.002*\"regenerative\" + 0.002*\"year\" + 0.002*\"barrier\" + 0.002*\"following\" + 0.002*\"vertical\" + 0.002*\"years\" + 0.002*\"=\" + 0.002*\"procedures\" + 0.002*\"Class\" + 0.002*\"crest\" + 0.002*\"density\" + 0.002*\"connective\" + 0.002*\"advanced\" + 0.002*\"difference\" + 0.002*\"combination\" + 0.002*\"observed\" + 0.002*\"interdental\" + 0.002*\"evaluated\" + 0.002*\"purpose\" + 0.002*\"bony\" + 0.002*\"evaluate\" + 0.002*\"technique\" + 0.002*\"Dent\"')\n",
      "(4, '0.025*\"%\" + 0.016*\"samples\" + 0.016*\"bacteria\" + 0.015*\"subgingival\" + 0.015*\"species\" + 0.013*\"plaque\" + 0.013*\"periodontitis\" + 0.012*\"actinomycetemcomitans\" + 0.011*\"bacterial\" + 0.010*\"patients\" + 0.009*\"periodontal\" + 0.009*\"gingivalis\" + 0.009*\"sites\" + 0.008*\"A.\" + 0.008*\"P.\" + 0.008*\"oral\" + 0.007*\"detected\" + 0.007*\"found\" + 0.007*\"study\" + 0.006*\"strains\" + 0.006*\"DNA\" + 0.006*\"subjects\" + 0.006*\"intermedia\" + 0.006*\"presence\" + 0.006*\"pathogens\" + 0.006*\"isolates\" + 0.006*\"using\" + 0.005*\"Prevotella\" + 0.005*\"T.\" + 0.005*\"isolated\" + 0.005*\"denticola\" + 0.005*\"PCR\" + 0.005*\"Porphyromonas\" + 0.005*\"microbial\" + 0.005*\"anaerobic\" + 0.004*\"associated\" + 0.004*\"Actinobacillus\" + 0.004*\"healthy\" + 0.004*\"detection\" + 0.004*\"nucleatum\" + 0.004*\"different\" + 0.004*\"positive\" + 0.003*\"Fusobacterium\" + 0.003*\"pockets\" + 0.003*\"used\" + 0.003*\"present\" + 0.003*\"culture\" + 0.003*\"rods\" + 0.003*\"total\" + 0.003*\"Treponema\" + 0.003*\"analysis\" + 0.003*\"organisms\" + 0.003*\"method\" + 0.003*\"C.\" + 0.003*\"infections\" + 0.003*\"reaction\" + 0.003*\"microorganisms\" + 0.003*\"obtained\" + 0.003*\"identified\" + 0.003*\"microbiota\" + 0.003*\"flora\" + 0.003*\"showed\" + 0.003*\"specific\" + 0.003*\"Streptococcus\" + 0.003*\"chain\" + 0.003*\"results\" + 0.003*\"determined\" + 0.003*\"clinical\" + 0.002*\"examined\" + 0.002*\"microflora\" + 0.002*\"tested\" + 0.002*\"prevalence\" + 0.002*\"S.\" + 0.002*\"polymerase\" + 0.002*\"number\" + 0.002*\"corrodens\" + 0.002*\"Subgingival\" + 0.002*\"microbiological\" + 0.002*\"Actinomyces\" + 0.002*\"proportions\" + 0.002*\"taken\" + 0.002*\"F.\" + 0.002*\"high\" + 0.002*\"adult\" + 0.002*\"counts\" + 0.002*\"disease\" + 0.002*\"collected\" + 0.002*\"antibiotic\" + 0.002*\"probes\" + 0.002*\"Capnocytophaga\" + 0.002*\"rectus\" + 0.002*\"gene\" + 0.002*\"numbers\" + 0.002*\"E.\" + 0.002*\"saliva\" + 0.002*\"forsythia\" + 0.002*\"tongue\" + 0.002*\"diseased\" + 0.002*\"hybridization\" + 0.002*\"observed\"')\n",
      "(5, '0.041*\"cells\" + 0.018*\"expression\" + 0.012*\"cell\" + 0.011*\"periodontitis\" + 0.009*\"periodontal\" + 0.009*\"inflammatory\" + 0.009*\"gingival\" + 0.009*\"bone\" + 0.009*\"LPS\" + 0.008*\"production\" + 0.008*\"tissue\" + 0.007*\"human\" + 0.007*\"T\" + 0.007*\"tissues\" + 0.006*\"fibroblasts\" + 0.006*\"activation\" + 0.005*\"increased\" + 0.005*\"role\" + 0.005*\"mRNA\" + 0.005*\"factor\" + 0.005*\"response\" + 0.005*\"cytokines\" + 0.005*\"study\" + 0.005*\"induced\" + 0.005*\"epithelial\" + 0.004*\"receptor\" + 0.004*\"IL-1\" + 0.004*\"effects\" + 0.004*\"effect\" + 0.004*\"IL-1beta\" + 0.004*\"results\" + 0.004*\"activity\" + 0.004*\"protein\" + 0.004*\"inflammation\" + 0.004*\"macrophages\" + 0.004*\"mice\" + 0.004*\"beta\" + 0.004*\"cytokine\" + 0.004*\"immune\" + 0.003*\"B\" + 0.003*\"stimulation\" + 0.003*\"IL-6\" + 0.003*\"resorption\" + 0.003*\"lymphocytes\" + 0.003*\"expressed\" + 0.003*\"stimulated\" + 0.003*\"suggest\" + 0.003*\"disease\" + 0.003*\"gene\" + 0.003*\"destruction\" + 0.003*\"monocytes\" + 0.003*\"involved\" + 0.003*\"alpha\" + 0.003*\"responses\" + 0.002*\"proliferation\" + 0.002*\"ligament\" + 0.002*\"RANKL\" + 0.002*\"levels\" + 0.002*\"formation\" + 0.002*\"growth\" + 0.002*\"differentiation\" + 0.002*\"loss\" + 0.002*\"peripheral\" + 0.002*\"IL-8\" + 0.002*\"investigated\" + 0.002*\"examined\" + 0.002*\"important\" + 0.002*\"mononuclear\" + 0.002*\"using\" + 0.002*\"HGF\" + 0.002*\"endothelial\" + 0.002*\"PDL\" + 0.002*\"activated\" + 0.002*\"treatment\" + 0.002*\"vitro\" + 0.002*\"chronic\" + 0.002*\"inhibited\" + 0.002*\"present\" + 0.002*\"receptors\" + 0.002*\"play\" + 0.002*\"necrosis\" + 0.002*\"associated\" + 0.002*\"pathogenesis\" + 0.002*\"induction\" + 0.002*\"genes\" + 0.002*\"matrix\" + 0.002*\"addition\" + 0.002*\"inflamed\" + 0.002*\"secretion\" + 0.002*\"tumor\" + 0.002*\"reduced\" + 0.002*\"inhibitor\" + 0.002*\"cellular\" + 0.002*\"PGE2\" + 0.002*\"culture\" + 0.002*\"demonstrated\" + 0.002*\"molecules\" + 0.002*\"cultured\" + 0.002*\"TNF-alpha\" + 0.002*\"showed\"')\n",
      "(6, '0.018*\"bone\" + 0.016*\"tissue\" + 0.014*\"lesions\" + 0.013*\"group\" + 0.012*\"periodontitis\" + 0.011*\"loss\" + 0.010*\"periapical\" + 0.010*\"alveolar\" + 0.010*\"experimental\" + 0.010*\"rats\" + 0.010*\"days\" + 0.008*\"groups\" + 0.008*\"epithelium\" + 0.007*\"animals\" + 0.007*\"control\" + 0.007*\"specimens\" + 0.007*\"study\" + 0.007*\"inflammatory\" + 0.006*\"gingival\" + 0.006*\"connective\" + 0.006*\"inflammation\" + 0.006*\"tissues\" + 0.005*\"dogs\" + 0.005*\"induced\" + 0.005*\"observed\" + 0.005*\"showed\" + 0.005*\"weeks\" + 0.005*\"sections\" + 0.005*\"cells\" + 0.004*\"resorption\" + 0.004*\"analysis\" + 0.004*\"compared\" + 0.004*\"P\" + 0.004*\"gingiva\" + 0.004*\"<\" + 0.004*\"granulomas\" + 0.004*\"cysts\" + 0.004*\"number\" + 0.004*\"increased\" + 0.004*\"day\" + 0.004*\"histological\" + 0.004*\"cementum\" + 0.003*\"collagen\" + 0.003*\"model\" + 0.003*\"IgM\" + 0.003*\"periodontal\" + 0.003*\"changes\" + 0.003*\"significant\" + 0.003*\"plasma\" + 0.003*\"ligature\" + 0.003*\"biopsies\" + 0.003*\"lesion\" + 0.003*\"present\" + 0.003*\"area\" + 0.003*\"epithelial\" + 0.003*\"found\" + 0.003*\"acid\" + 0.003*\"areas\" + 0.003*\"stained\" + 0.003*\"molars\" + 0.002*\"microscopy\" + 0.002*\"=\" + 0.002*\"normal\" + 0.002*\"positive\" + 0.002*\"p\" + 0.002*\"staining\" + 0.002*\"used\" + 0.002*\"results\" + 0.002*\"PLS\" + 0.002*\"fibers\" + 0.002*\"infiltrate\" + 0.002*\"+\" + 0.002*\"lower\" + 0.002*\"density\" + 0.002*\"molar\" + 0.002*\"mg/kg\" + 0.002*\"ligatures\" + 0.002*\"first\" + 0.002*\"removed\" + 0.002*\"left\" + 0.002*\"cell\" + 0.002*\"%\" + 0.002*\"examined\" + 0.002*\"B\" + 0.002*\"blood\" + 0.002*\"granuloma\" + 0.002*\"formation\" + 0.002*\"destruction\" + 0.002*\"higher\" + 0.002*\"mandibular\" + 0.002*\"rat\" + 0.002*\"numbers\" + 0.002*\"C\" + 0.002*\"inflamed\" + 0.002*\"electron\" + 0.002*\"controls\" + 0.002*\"revealed\" + 0.002*\"seen\" + 0.002*\"presence\" + 0.002*\"distribution\"')\n",
      "(7, '0.029*\"periodontal\" + 0.024*\"disease\" + 0.018*\"periodontitis\" + 0.015*\"oral\" + 0.011*\"studies\" + 0.010*\"diseases\" + 0.007*\"treatment\" + 0.007*\"clinical\" + 0.006*\"dental\" + 0.005*\"factors\" + 0.005*\"systemic\" + 0.005*\"evidence\" + 0.005*\"patients\" + 0.005*\"chronic\" + 0.005*\"health\" + 0.004*\"infection\" + 0.004*\"risk\" + 0.004*\"inflammatory\" + 0.004*\"review\" + 0.004*\"use\" + 0.004*\"therapy\" + 0.004*\"infections\" + 0.003*\"gingivitis\" + 0.003*\"inflammation\" + 0.003*\"data\" + 0.003*\"associated\" + 0.003*\"host\" + 0.003*\"development\" + 0.003*\"role\" + 0.003*\"response\" + 0.003*\"including\" + 0.003*\"conditions\" + 0.003*\"tissues\" + 0.003*\"important\" + 0.003*\"research\" + 0.003*\"common\" + 0.003*\"possible\" + 0.003*\"progression\" + 0.003*\"potential\" + 0.003*\"patient\" + 0.002*\"new\" + 0.002*\"results\" + 0.002*\"various\" + 0.002*\"destruction\" + 0.002*\"literature\" + 0.002*\"specific\" + 0.002*\"changes\" + 0.002*\"several\" + 0.002*\"many\" + 0.002*\"different\" + 0.002*\"loss\" + 0.002*\"used\" + 0.002*\"process\" + 0.002*\"local\" + 0.002*\"periodontium\" + 0.002*\"discussed\" + 0.002*\"diagnosis\" + 0.002*\"bacterial\" + 0.002*\"tissue\" + 0.002*\"diagnostic\" + 0.002*\"reported\" + 0.002*\"provide\" + 0.002*\"mechanisms\" + 0.002*\"agents\" + 0.002*\"current\" + 0.002*\"result\" + 0.002*\"immune\" + 0.002*\"based\" + 0.002*\"syndrome\" + 0.002*\"care\" + 0.002*\"genetic\" + 0.002*\"system\" + 0.002*\"management\" + 0.002*\"relationship\" + 0.002*\"present\" + 0.002*\"considered\" + 0.002*\"pathogenesis\" + 0.002*\"recent\" + 0.002*\"severe\" + 0.002*\"understanding\" + 0.002*\"methods\" + 0.002*\"cause\" + 0.002*\"cavity\" + 0.002*\"gingival\" + 0.002*\"effects\" + 0.002*\"forms\" + 0.002*\"general\" + 0.002*\"due\" + 0.002*\"findings\" + 0.002*\"plaque\" + 0.002*\"destructive\" + 0.002*\"shown\" + 0.002*\"therapeutic\" + 0.002*\"paper\" + 0.002*\"article\" + 0.002*\"early\" + 0.002*\"include\" + 0.002*\"information\" + 0.002*\"described\" + 0.002*\"available\"')\n",
      "(8, '0.025*\"teeth\" + 0.018*\"root\" + 0.015*\"treatment\" + 0.012*\"%\" + 0.011*\"patients\" + 0.011*\"implants\" + 0.008*\"dental\" + 0.008*\"apical\" + 0.008*\"cases\" + 0.007*\"periapical\" + 0.007*\"implant\" + 0.007*\"patient\" + 0.007*\"case\" + 0.006*\"canal\" + 0.006*\"endodontic\" + 0.005*\"lesions\" + 0.005*\"years\" + 0.005*\"tooth\" + 0.005*\"juvenile\" + 0.004*\"treated\" + 0.004*\"clinical\" + 0.004*\"bone\" + 0.004*\"study\" + 0.004*\"maxillary\" + 0.004*\"molars\" + 0.004*\"surgical\" + 0.004*\"examination\" + 0.003*\"radiographic\" + 0.003*\"surface\" + 0.003*\"pain\" + 0.003*\"surfaces\" + 0.003*\"extraction\" + 0.003*\"healing\" + 0.003*\"periodontitis\" + 0.003*\"present\" + 0.003*\"mandibular\" + 0.003*\"report\" + 0.003*\"using\" + 0.003*\"molar\" + 0.003*\"performed\" + 0.003*\"used\" + 0.003*\"loss\" + 0.003*\"lesion\" + 0.003*\"diagnosis\" + 0.003*\"surgery\" + 0.003*\"period\" + 0.003*\"canals\" + 0.003*\"peri-implant\" + 0.003*\"presented\" + 0.003*\"showed\" + 0.003*\"therapy\" + 0.003*\"time\" + 0.002*\"pulp\" + 0.002*\"rate\" + 0.002*\"results\" + 0.002*\"orthodontic\" + 0.002*\"peri-implantitis\" + 0.002*\"first\" + 0.002*\"second\" + 0.002*\"third\" + 0.002*\"placed\" + 0.002*\"found\" + 0.002*\"associated\" + 0.002*\"presence\" + 0.002*\"months\" + 0.002*\"primary\" + 0.002*\"radiographs\" + 0.002*\"incisors\" + 0.002*\"marginal\" + 0.002*\"follow-up\" + 0.002*\"technique\" + 0.002*\"roots\" + 0.002*\"permanent\" + 0.002*\"tissue\" + 0.002*\"revealed\" + 0.002*\"procedure\" + 0.002*\"examined\" + 0.002*\"extracted\" + 0.002*\"severe\" + 0.002*\"success\" + 0.002*\"abscess\" + 0.002*\"symptoms\" + 0.002*\"sinus\" + 0.002*\"signs\" + 0.002*\"infection\" + 0.002*\"removal\" + 0.002*\"lost\" + 0.002*\"mobility\" + 0.002*\"procedures\" + 0.002*\"system\" + 0.002*\"type\" + 0.002*\"following\" + 0.002*\"followed\" + 0.002*\"different\" + 0.002*\"reported\" + 0.002*\"x\" + 0.002*\"occurred\" + 0.002*\"removed\" + 0.002*\"material\" + 0.002*\"complications\"')\n",
      "(9, '0.032*\"%\" + 0.020*\"periodontal\" + 0.018*\"periodontitis\" + 0.013*\"=\" + 0.013*\"patients\" + 0.012*\"study\" + 0.012*\"age\" + 0.012*\"subjects\" + 0.011*\"loss\" + 0.011*\"disease\" + 0.009*\"years\" + 0.008*\"risk\" + 0.007*\"associated\" + 0.007*\"prevalence\" + 0.007*\"status\" + 0.006*\"oral\" + 0.006*\"population\" + 0.006*\"association\" + 0.006*\"health\" + 0.005*\"smoking\" + 0.005*\"teeth\" + 0.005*\"attachment\" + 0.005*\"mean\" + 0.005*\"P\" + 0.005*\"dental\" + 0.005*\"<\" + 0.005*\"significant\" + 0.004*\">\" + 0.004*\"higher\" + 0.004*\"number\" + 0.004*\"mm\" + 0.004*\"group\" + 0.004*\"data\" + 0.004*\"analysis\" + 0.004*\"increased\" + 0.004*\"individuals\" + 0.004*\"p\" + 0.004*\"women\" + 0.004*\"found\" + 0.004*\"probing\" + 0.004*\"factors\" + 0.004*\"index\" + 0.004*\"CI\" + 0.003*\"diabetes\" + 0.003*\"severe\" + 0.003*\"regression\" + 0.003*\"groups\" + 0.003*\"using\" + 0.003*\"adults\" + 0.003*\"severity\" + 0.003*\"clinical\" + 0.003*\"examined\" + 0.003*\"level\" + 0.003*\"compared\" + 0.003*\"smokers\" + 0.003*\"relationship\" + 0.003*\"aged\" + 0.003*\"high\" + 0.003*\"sample\" + 0.003*\"examination\" + 0.003*\"ratio\" + 0.003*\"total\" + 0.003*\"bleeding\" + 0.003*\"showed\" + 0.002*\"OR\" + 0.002*\"used\" + 0.002*\"included\" + 0.002*\"depth\" + 0.002*\"odds\" + 0.002*\"greater\" + 0.002*\"calculus\" + 0.002*\"]\" + 0.002*\"frequency\" + 0.002*\"plaque\" + 0.002*\"pockets\" + 0.002*\"variables\" + 0.002*\"caries\" + 0.002*\"tooth\" + 0.002*\"CPITN\" + 0.002*\"assessed\" + 0.002*\"children\" + 0.002*\"PD\" + 0.002*\"controls\" + 0.002*\"hygiene\" + 0.002*\"genotype\" + 0.002*\"present\" + 0.002*\"presence\" + 0.002*\"[\" + 0.002*\"Periodontal\" + 0.002*\"low\" + 0.002*\"results\" + 0.002*\"polymorphisms\" + 0.002*\"sites\" + 0.002*\"JP\" + 0.002*\"control\" + 0.002*\"adult\" + 0.002*\"scores\" + 0.002*\"studies\" + 0.002*\"polymorphism\" + 0.002*\"care\"')\n"
     ]
    }
   ],
   "source": [
    "for t in topics:\n",
    "    print(t)\n",
    "\n",
    "# 일단 작성\n",
    "not_decided_del_words = [\"P.\", \"A.\", \"B.\"]\n",
    "\n",
    "del_words = [\"%\", \">\", \"<\", \"[\", \"]\", \"P\", \"p\", \"+/-\", \"mm\", \"found\", \"=\", \"CI\"]"
   ]
  },
  {
   "cell_type": "code",
   "execution_count": 21,
   "metadata": {},
   "outputs": [
    {
     "name": "stdout",
     "output_type": "stream",
     "text": [
      "Requirement already satisfied: tqdm in /Users/geoffrey/opt/anaconda3/lib/python3.7/site-packages (4.51.0)\r\n"
     ]
    }
   ],
   "source": [
    "!pip install tqdm"
   ]
  },
  {
   "cell_type": "code",
   "execution_count": 25,
   "metadata": {},
   "outputs": [],
   "source": [
    "from tqdm.notebook import tqdm"
   ]
  },
  {
   "cell_type": "code",
   "execution_count": 31,
   "metadata": {
    "scrolled": true
   },
   "outputs": [
    {
     "data": {
      "application/vnd.jupyter.widget-view+json": {
       "model_id": "fb0e075e508e4c3e93e864e4edbb5077",
       "version_major": 2,
       "version_minor": 0
      },
      "text/plain": [
       "HBox(children=(HTML(value=''), FloatProgress(value=1.0, bar_style='info', layout=Layout(width='20px'), max=1.0…"
      ]
     },
     "metadata": {},
     "output_type": "display_data"
    },
    {
     "name": "stdout",
     "output_type": "stream",
     "text": [
      "\n"
     ]
    }
   ],
   "source": [
    "topic_1_list = []\n",
    "check_topic = model[corpus]\n",
    "\n",
    "for i, topic_dist in tqdm(enumerate(check_topic)):\n",
    "    for idx, dist in topic_dist:\n",
    "        if idx == 1 and dist >= 0.5:\n",
    "            topic_1_list.append(i)"
   ]
  },
  {
   "cell_type": "code",
   "execution_count": 29,
   "metadata": {},
   "outputs": [
    {
     "data": {
      "application/vnd.jupyter.widget-view+json": {
       "model_id": "6aa8b44e961f4285ac064f3a4e381cc9",
       "version_major": 2,
       "version_minor": 0
      },
      "text/plain": [
       "HBox(children=(HTML(value=''), FloatProgress(value=0.0, max=10000.0), HTML(value='')))"
      ]
     },
     "metadata": {},
     "output_type": "display_data"
    },
    {
     "name": "stdout",
     "output_type": "stream",
     "text": [
      "\n"
     ]
    }
   ],
   "source": [
    "# for문 예시\n",
    "import time\n",
    "\n",
    "for i in tqdm(range(10000)):\n",
    "    time.sleep(0.001)"
   ]
  },
  {
   "cell_type": "code",
   "execution_count": 40,
   "metadata": {},
   "outputs": [
    {
     "data": {
      "text/plain": [
       "array(['Doxycycline hyclate-loaded in situ forming gels composed from bleached shellac,\\nEthocel, and Eudragit RS for periodontal pocket delivery.',\n",
       "       'Decreased temperature increases the expression of a disordered bacterial late\\nembryogenesis abundant (LEA) protein that enhances natural transformation.',\n",
       "       'Mammalian-like type II glutaminyl cyclases in Porphyromonas gingivalis and other \\noral pathogenic bacteria as targets for treatment of periodontitis.',\n",
       "       'Structural and kinetic characterization of Porphyromonas gingivalis glutaminyl\\ncyclase.',\n",
       "       'The association of apical periodontitis and type 2 diabetes mellitus: A large\\nhospital network cross-sectional case-controlled study.',\n",
       "       'Complementation in trans of Porphyromonas gingivalis Lipopolysaccharide\\nBiosynthetic Mutants Demonstrates Lipopolysaccharide Exchange.',\n",
       "       'Synergistic effects of D-arginine, D-methionine and D-histidine against\\nPorphyromonas gingivalis biofilms.',\n",
       "       'Porphyromonas gingivalis HmuY and Bacteroides vulgatus Bvu-A Novel Competitive\\nHeme Acquisition Strategy.',\n",
       "       'Inhibition of experimental periodontitis by a monoclonal antibody against\\nPorphyromonas gingivalis HA2.',\n",
       "       'Effects of ClpP protease on biofilm formation of Enterococcus faecalis.'],\n",
       "      dtype=object)"
      ]
     },
     "execution_count": 40,
     "metadata": {},
     "output_type": "execute_result"
    }
   ],
   "source": [
    "df.iloc[topic_1_list, 2][:10].values"
   ]
  },
  {
   "cell_type": "code",
   "execution_count": null,
   "metadata": {},
   "outputs": [],
   "source": []
  },
  {
   "cell_type": "code",
   "execution_count": 46,
   "metadata": {},
   "outputs": [
    {
     "name": "stdout",
     "output_type": "stream",
     "text": [
      "[(1, 0.15113613), (2, 0.058725297), (4, 0.032367926), (7, 0.75353163)]\n",
      "[(7, 0.047067277), (8, 0.022609705), (9, 0.9250188)]\n",
      "[(1, 0.69058776), (3, 0.07118194), (4, 0.05214687), (6, 0.018419385), (7, 0.14275612), (9, 0.02108088)]\n",
      "[(0, 0.5703713), (9, 0.42525983)]\n",
      "[(3, 0.082840964), (5, 0.2271941), (6, 0.55434394), (9, 0.13042973)]\n"
     ]
    }
   ],
   "source": [
    "# 연도별 잘라서 관측\n",
    "df.head()\n",
    "\n",
    "\n",
    "for i, topic_list in enumerate(model[corpus]):\n",
    "    if i == 5:\n",
    "        break\n",
    "    print(topic_list)\n",
    "# 각 문서당 토픽의 분포를 알고 있음\n",
    "# 1. 10년 단위로 문서를 묶는다\n",
    "# 2. 년도에서 토픽의 분포를 전부 더해줌\n",
    "# 3. 가장 마지막에 문서의 갯수로 나눠줌\n"
   ]
  },
  {
   "cell_type": "code",
   "execution_count": 59,
   "metadata": {},
   "outputs": [],
   "source": [
    "df.reset_index(drop=True, inplace=True)"
   ]
  },
  {
   "cell_type": "code",
   "execution_count": 61,
   "metadata": {
    "scrolled": true
   },
   "outputs": [
    {
     "data": {
      "text/html": [
       "<div>\n",
       "<style scoped>\n",
       "    .dataframe tbody tr th:only-of-type {\n",
       "        vertical-align: middle;\n",
       "    }\n",
       "\n",
       "    .dataframe tbody tr th {\n",
       "        vertical-align: top;\n",
       "    }\n",
       "\n",
       "    .dataframe thead th {\n",
       "        text-align: right;\n",
       "    }\n",
       "</style>\n",
       "<table border=\"1\" class=\"dataframe\">\n",
       "  <thead>\n",
       "    <tr style=\"text-align: right;\">\n",
       "      <th></th>\n",
       "      <th>journal_name</th>\n",
       "      <th>year</th>\n",
       "      <th>title</th>\n",
       "      <th>author</th>\n",
       "      <th>author_info</th>\n",
       "      <th>abstract</th>\n",
       "      <th>pos_tag_abstract</th>\n",
       "    </tr>\n",
       "  </thead>\n",
       "  <tbody>\n",
       "    <tr>\n",
       "      <th>29999</th>\n",
       "      <td>Z Stomatol</td>\n",
       "      <td>1989</td>\n",
       "      <td>[Oral manifestations of HIV infection].</td>\n",
       "      <td>[Article in German]</td>\n",
       "      <td>Puelacher W, Zangerle R, Kulmer S, Waldhart E,...</td>\n",
       "      <td>Skin and mucous membranes including the oral m...</td>\n",
       "      <td>[Skin, mucous, membranes, including, oral, muc...</td>\n",
       "    </tr>\n",
       "    <tr>\n",
       "      <th>30000</th>\n",
       "      <td>Zh Mikrobiol Epidemiol Immunobiol</td>\n",
       "      <td>1989</td>\n",
       "      <td>[The tentative identification of actinomycetes...</td>\n",
       "      <td>[Article in Russian]</td>\n",
       "      <td>Mel'nikov VG, Oleĭnik II.</td>\n",
       "      <td>In this work the results obtained in the study...</td>\n",
       "      <td>[work, results, obtained, study, morphology, A...</td>\n",
       "    </tr>\n",
       "    <tr>\n",
       "      <th>30001</th>\n",
       "      <td>Aust Dent J</td>\n",
       "      <td>1989</td>\n",
       "      <td>Differential diagnosis of severe periodontal l...</td>\n",
       "      <td>Hirsch RS, Clarke NG.</td>\n",
       "      <td>Comment in\\n    Aust Dent J. 1990 Apr;35(2):19...</td>\n",
       "      <td>In current clinical practice, a differential d...</td>\n",
       "      <td>[current, clinical, practice, differential, di...</td>\n",
       "    </tr>\n",
       "    <tr>\n",
       "      <th>30002</th>\n",
       "      <td>Scand J Dent Res</td>\n",
       "      <td>1989</td>\n",
       "      <td>Gingival fluid, beta 2-microglobulin and prote...</td>\n",
       "      <td>Syrjänen SM(1), Alakuijala P, Markkanen SO, Ma...</td>\n",
       "      <td>Author information: \\n(1)Faculty of Dentistry,...</td>\n",
       "      <td>beta 2-microglobulin (beta 2-m), lysozyme and ...</td>\n",
       "      <td>[beta, lysozyme, protein, concentrations, ging...</td>\n",
       "    </tr>\n",
       "    <tr>\n",
       "      <th>30003</th>\n",
       "      <td>J Periodontol</td>\n",
       "      <td>1989</td>\n",
       "      <td>A comparison of freeze-dried bone allograft an...</td>\n",
       "      <td>Rummelhart JM(1), Mellonig JT, Gray JL, Towle HJ.</td>\n",
       "      <td>Author information: \\n(1)Naval Dental Clinic, ...</td>\n",
       "      <td>This study was conducted to clinically compare...</td>\n",
       "      <td>[study, conducted, compare, freeze-dried, bone...</td>\n",
       "    </tr>\n",
       "  </tbody>\n",
       "</table>\n",
       "</div>"
      ],
      "text/plain": [
       "                            journal_name  year  \\\n",
       "29999                         Z Stomatol  1989   \n",
       "30000  Zh Mikrobiol Epidemiol Immunobiol  1989   \n",
       "30001                        Aust Dent J  1989   \n",
       "30002                   Scand J Dent Res  1989   \n",
       "30003                      J Periodontol  1989   \n",
       "\n",
       "                                                   title  \\\n",
       "29999            [Oral manifestations of HIV infection].   \n",
       "30000  [The tentative identification of actinomycetes...   \n",
       "30001  Differential diagnosis of severe periodontal l...   \n",
       "30002  Gingival fluid, beta 2-microglobulin and prote...   \n",
       "30003  A comparison of freeze-dried bone allograft an...   \n",
       "\n",
       "                                                  author  \\\n",
       "29999                                [Article in German]   \n",
       "30000                               [Article in Russian]   \n",
       "30001                              Hirsch RS, Clarke NG.   \n",
       "30002  Syrjänen SM(1), Alakuijala P, Markkanen SO, Ma...   \n",
       "30003  Rummelhart JM(1), Mellonig JT, Gray JL, Towle HJ.   \n",
       "\n",
       "                                             author_info  \\\n",
       "29999  Puelacher W, Zangerle R, Kulmer S, Waldhart E,...   \n",
       "30000                          Mel'nikov VG, Oleĭnik II.   \n",
       "30001  Comment in\\n    Aust Dent J. 1990 Apr;35(2):19...   \n",
       "30002  Author information: \\n(1)Faculty of Dentistry,...   \n",
       "30003  Author information: \\n(1)Naval Dental Clinic, ...   \n",
       "\n",
       "                                                abstract  \\\n",
       "29999  Skin and mucous membranes including the oral m...   \n",
       "30000  In this work the results obtained in the study...   \n",
       "30001  In current clinical practice, a differential d...   \n",
       "30002  beta 2-microglobulin (beta 2-m), lysozyme and ...   \n",
       "30003  This study was conducted to clinically compare...   \n",
       "\n",
       "                                        pos_tag_abstract  \n",
       "29999  [Skin, mucous, membranes, including, oral, muc...  \n",
       "30000  [work, results, obtained, study, morphology, A...  \n",
       "30001  [current, clinical, practice, differential, di...  \n",
       "30002  [beta, lysozyme, protein, concentrations, ging...  \n",
       "30003  [study, conducted, compare, freeze-dried, bone...  "
      ]
     },
     "execution_count": 61,
     "metadata": {},
     "output_type": "execute_result"
    }
   ],
   "source": [
    "# 1980년대 논문으로 테스트\n",
    "test = df[(df.year >= '1980') & (df.year < '1990')]\n",
    "test.head()"
   ]
  },
  {
   "cell_type": "code",
   "execution_count": 71,
   "metadata": {},
   "outputs": [],
   "source": [
    "# 1980년대 논문만 corpus에서 가져옴\n",
    "\n",
    "index_1980 = list(test.index)\n",
    "# corpus_1980 = corpus[0,1,2,3]\n",
    "corpus_1980 = corpus[29999:30726]"
   ]
  },
  {
   "cell_type": "code",
   "execution_count": 76,
   "metadata": {
    "scrolled": true
   },
   "outputs": [],
   "source": [
    "dist_dict = {i:0 for i, value in enumerate(range(10))}\n",
    "\n",
    "# dist_dict\n",
    "for topic_dist in model[corpus_1980]:\n",
    "    for key, value in topic_dist:\n",
    "        dist_dict[key] += value"
   ]
  },
  {
   "cell_type": "code",
   "execution_count": 79,
   "metadata": {},
   "outputs": [],
   "source": [
    "for key, value in dist_dict.items():\n",
    "    dist_dict[key] = dist_dict[key] / len(corpus_1980)"
   ]
  },
  {
   "cell_type": "code",
   "execution_count": 80,
   "metadata": {},
   "outputs": [
    {
     "data": {
      "text/plain": [
       "{0: 0.14839869738009437,\n",
       " 1: 0.08535079164699519,\n",
       " 2: 0.07321674554535743,\n",
       " 3: 0.07672238255757455,\n",
       " 4: 0.09521789828051481,\n",
       " 5: 0.03594253302655571,\n",
       " 6: 0.07649964624003826,\n",
       " 7: 0.1440153460157971,\n",
       " 8: 0.15973071777934345,\n",
       " 9: 0.09511739485467972}"
      ]
     },
     "execution_count": 80,
     "metadata": {},
     "output_type": "execute_result"
    }
   ],
   "source": [
    "dist_dict"
   ]
  },
  {
   "cell_type": "code",
   "execution_count": 82,
   "metadata": {
    "scrolled": true
   },
   "outputs": [
    {
     "data": {
      "text/plain": [
       "0.9902121533269507"
      ]
     },
     "execution_count": 82,
     "metadata": {},
     "output_type": "execute_result"
    }
   ],
   "source": [
    "# 합이 1에 가깝게 잘 나옴\n",
    "sum(dist_dict.values())"
   ]
  },
  {
   "cell_type": "code",
   "execution_count": null,
   "metadata": {},
   "outputs": [],
   "source": []
  }
 ],
 "metadata": {
  "kernelspec": {
   "display_name": "Python 3",
   "language": "python",
   "name": "python3"
  },
  "language_info": {
   "codemirror_mode": {
    "name": "ipython",
    "version": 3
   },
   "file_extension": ".py",
   "mimetype": "text/x-python",
   "name": "python",
   "nbconvert_exporter": "python",
   "pygments_lexer": "ipython3",
   "version": "3.7.4"
  }
 },
 "nbformat": 4,
 "nbformat_minor": 2
}
