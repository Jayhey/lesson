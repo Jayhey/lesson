{
 "cells": [
  {
   "cell_type": "code",
   "execution_count": 1,
   "metadata": {},
   "outputs": [],
   "source": [
    "# 목표\n",
    "# 1. 전처리 더 하기 (A. P. B. 붙여서 사용)\n",
    "# 2. lemmatize 해보기\n",
    "# 3. 최적 토픽 수\n",
    "# 4. 하이퍼 파라미터 바꿔보기 (알파, 베타)"
   ]
  },
  {
   "cell_type": "code",
   "execution_count": 2,
   "metadata": {},
   "outputs": [],
   "source": [
    "import gensim\n",
    "import pickle\n",
    "import pandas as pd"
   ]
  },
  {
   "cell_type": "code",
   "execution_count": 3,
   "metadata": {},
   "outputs": [],
   "source": [
    "df = pd.read_pickle(\"../files/final_df.pickle\")\n",
    "# df = df.reset_index(drop=True)\n",
    "df.reset_index(drop=True, inplace=True)"
   ]
  },
  {
   "cell_type": "code",
   "execution_count": 50,
   "metadata": {},
   "outputs": [
    {
     "data": {
      "text/plain": [
       "['Sialoperoxidase',\n",
       " 'myeloperoxidase',\n",
       " 'main',\n",
       " 'peroxidase',\n",
       " 'enzymes',\n",
       " 'found',\n",
       " 'oral',\n",
       " 'cavity',\n",
       " 'Sialoperoxidase',\n",
       " 'present',\n",
       " 'salivary',\n",
       " 'secretions',\n",
       " 'biofilms',\n",
       " 'line',\n",
       " 'oral',\n",
       " 'surfaces',\n",
       " 'myeloperoxidase',\n",
       " 'abundant',\n",
       " 'dento‑gingival',\n",
       " 'sulcus',\n",
       " 'area',\n",
       " 'presence',\n",
       " 'hydrogen',\n",
       " 'peroxide',\n",
       " 'H2O2',\n",
       " 'oral',\n",
       " 'peroxidases',\n",
       " 'catalyze',\n",
       " 'oxidation',\n",
       " 'pseudohalide',\n",
       " 'anion',\n",
       " 'thiocyanate',\n",
       " 'SCN‑',\n",
       " 'hypothiocyanite',\n",
       " 'OSCN‑',\n",
       " 'strong',\n",
       " 'oxidant',\n",
       " 'serves',\n",
       " 'antimicrobial',\n",
       " 'role',\n",
       " 'Furthermore',\n",
       " 'oral',\n",
       " 'peroxidases',\n",
       " 'consume',\n",
       " 'bacteria‑produced',\n",
       " 'H2O2',\n",
       " 'help',\n",
       " 'inactivate',\n",
       " 'toxic',\n",
       " 'carcinogenic',\n",
       " 'genotoxic',\n",
       " 'substances',\n",
       " 'Numerous',\n",
       " 'vitro',\n",
       " 'studies',\n",
       " 'reported',\n",
       " 'antibacterial',\n",
       " 'antimycotic',\n",
       " 'antiviral',\n",
       " 'role',\n",
       " 'peroxidases',\n",
       " 'suggesting',\n",
       " 'possible',\n",
       " 'applications',\n",
       " 'oral',\n",
       " 'therapy',\n",
       " 'use',\n",
       " 'oral',\n",
       " 'hygiene',\n",
       " 'products',\n",
       " 'incorporating',\n",
       " 'peroxidase',\n",
       " 'systems',\n",
       " 'shown',\n",
       " 'beneficial',\n",
       " 'treatment',\n",
       " 'prevention',\n",
       " 'oral',\n",
       " 'infections',\n",
       " 'paradox',\n",
       " 'reflects',\n",
       " 'incomplete',\n",
       " 'knowledge',\n",
       " 'physiological',\n",
       " 'role',\n",
       " 'peroxidases',\n",
       " 'complex',\n",
       " 'environment',\n",
       " 'oral',\n",
       " 'region',\n",
       " 'hygiene',\n",
       " 'crucial',\n",
       " 'restoring',\n",
       " 'oral',\n",
       " 'microbiota',\n",
       " 'symbiotic',\n",
       " 'state',\n",
       " 'data',\n",
       " 'suggest',\n",
       " 'addition',\n",
       " 'peroxidase',\n",
       " 'create',\n",
       " 'dysbiotic',\n",
       " 'state',\n",
       " 'Recent',\n",
       " 'investigations',\n",
       " 'associated',\n",
       " 'presence',\n",
       " 'peroxidase',\n",
       " 'activity',\n",
       " 'gram‑positive',\n",
       " 'cocci',\n",
       " 'microbial',\n",
       " 'flora',\n",
       " 'insufficiency',\n",
       " 'dysbiosis',\n",
       " 'linked',\n",
       " 'pathologies',\n",
       " 'caries',\n",
       " 'periodontitis',\n",
       " 'infections',\n",
       " 'oral',\n",
       " 'mucosa',\n",
       " 'oxidants',\n",
       " 'generated',\n",
       " 'oral',\n",
       " 'peroxidases',\n",
       " 'appear',\n",
       " 'essential',\n",
       " 'ecological',\n",
       " 'determinant',\n",
       " 'oral',\n",
       " 'health',\n",
       " 'selection',\n",
       " 'symbiotic',\n",
       " 'microbiota',\n",
       " 'capable',\n",
       " 'resisting',\n",
       " 'oxidative',\n",
       " 'stress',\n",
       " 'objective',\n",
       " 'present',\n",
       " 'review',\n",
       " 'update',\n",
       " 'current',\n",
       " 'knowledge',\n",
       " 'physiological',\n",
       " 'aspects',\n",
       " 'applications',\n",
       " 'oral',\n",
       " 'peroxidases',\n",
       " 'clinical',\n",
       " 'practice']"
      ]
     },
     "execution_count": 50,
     "metadata": {},
     "output_type": "execute_result"
    }
   ],
   "source": [
    "df.pos_tag_abstract[0]"
   ]
  },
  {
   "cell_type": "code",
   "execution_count": 5,
   "metadata": {},
   "outputs": [
    {
     "data": {
      "text/plain": [
       "0        False\n",
       "1         True\n",
       "2         True\n",
       "3         True\n",
       "4         True\n",
       "         ...  \n",
       "30721    False\n",
       "30722    False\n",
       "30723     True\n",
       "30724     True\n",
       "30725     True\n",
       "Name: abstract, Length: 30726, dtype: bool"
      ]
     },
     "execution_count": 5,
     "metadata": {},
     "output_type": "execute_result"
    }
   ],
   "source": [
    "df.abstract.str.contains(\"A.\")"
   ]
  },
  {
   "cell_type": "code",
   "execution_count": 6,
   "metadata": {},
   "outputs": [
    {
     "data": {
      "text/plain": [
       "'Late embryogenesis abundant (LEA) proteins are important players in the management of responses to stressful conditions, such as drought, high salinity,  and changes in temperature. Many LEA proteins do not have defined three-dimensional structures, so they are intrinsically disordered proteins (IDPs) and are often highly hydrophilic. Although LEA-like sequences have been identified in bacterial genomes, the functions of bacterial LEA proteins have been studied only recently. Sequence analysis of outer membrane interleukin receptor I (BilRI) from the oral pathogen Aggregatibacter actinomycetemcomitans indicated that it shared sequence similarity with group 3/3b/4 LEA proteins. Comprehensive nuclearcgq magnetic resonance (NMR) studies confirmed its IDP nature, and expression studies in A. actinomycetemcomitans harboring a red fluorescence reporter protein-encoding gene revealed that bilRI promoter expression was increased at decreased temperatures. The amino acid backbone of BilRI did not stimulate either the production of reactive oxygen species from human leukocytes or the production of interleukin-6 from human macrophages. Moreover, BilRI-specific IgG antibodies could not be detected in the sera of A. actinomycetemcomitans culture-positive periodontitis patients. Since the bilRI gene is located near genes involved in natural competence (i.e., genes associated with the uptake of extracellular (eDNA) and its incorporation into the genome), we also investigated the role of BilRI in these events. Compared to wild-type cells, the ΔbilRI mutants showed a lower transformation efficiency, which indicates either a direct or indirect role in natural competence. In conclusion,  A. actinomycetemcomitans might express BilRI, especially outside the host, to survive under stressful conditions and improve its transmission potential.'"
      ]
     },
     "execution_count": 6,
     "metadata": {},
     "output_type": "execute_result"
    }
   ],
   "source": [
    "# 특정 단어가 포함되어 있는지 확인하는 방법\n",
    "find_word = df[df.abstract.str.contains(\" A. \", regex=False)]\n",
    "find_word.abstract.values[1]"
   ]
  },
  {
   "cell_type": "code",
   "execution_count": 7,
   "metadata": {},
   "outputs": [],
   "source": [
    "# A. actinomycetemcomitans = Aggregatibacter actinomycetemcomitans\n",
    "# P. gingivalis = Porphyromonas gingivalis\n",
    "# B. vulgatus\n",
    "# B. lactis\n",
    "# B. pandurata\n",
    "# B. bacteriovorus\n",
    "# F. nucleatum"
   ]
  },
  {
   "cell_type": "code",
   "execution_count": 8,
   "metadata": {},
   "outputs": [],
   "source": [
    "# Aggregatibacter -> A. 으로 변경\n",
    "# Porphyromonas -> P. 으로 변경\n",
    "\n",
    "def replace_words(x):\n",
    "    x = x.replace('Aggregatibacter', 'A.')\n",
    "    x = x.replace('Porphyromonas', 'P.')\n",
    "    return x\n",
    "\n",
    "df.abstract = df.abstract.map(replace_words)"
   ]
  },
  {
   "cell_type": "code",
   "execution_count": 9,
   "metadata": {},
   "outputs": [],
   "source": [
    "del_words = [\"%\", \">\", \"<\", \"[\", \"]\", \"+/-\", \"±\", \"mm\",\n",
    "             \"found\", \"=\", \"CI\", \" P \", \" p \"]\n",
    "# del_words = [\"\\u200\"]\n",
    " \n",
    "def delete_words(x):\n",
    "    # \\uXXXX 방식의 유니코드 문자열을 없애는 방법\n",
    "    x = x.encode(\"ascii\", \"ignore\") \n",
    "    x = x.decode()\n",
    "    for word in del_words:\n",
    "        x = x.replace(word, ' ')\n",
    "    x = x.replace('  ', ' ')\n",
    "    x = x.replace('  ', ' ')\n",
    "    return x\n",
    "\n",
    "df.abstract = df.abstract.map(delete_words)"
   ]
  },
  {
   "cell_type": "code",
   "execution_count": 11,
   "metadata": {
    "scrolled": true
   },
   "outputs": [
    {
     "data": {
      "text/plain": [
       "'Sialoperoxidase and myeloperoxidase are the two main peroxidase enzymes in the oral cavity. Sialoperoxidase is present in salivary secretions and in the biofilms that line the oral surfaces, while myeloperoxidase is abundant in the dentogingival sulcus area. In the presence of hydrogen peroxide (H2O2), oral peroxidases catalyze the oxidation of the pseudohalide anion thiocyanate (SCN) to hypothiocyanite (OSCN), a strong oxidant that serves an antimicrobial role. Furthermore, oral peroxidases consume bacteriaproduced H2O2 and could help inactivate toxic carcinogenic and genotoxic substances. Numerous in vitro studies have reported the antibacterial, antimycotic and antiviral role of peroxidases, suggesting possible applications in oral therapy. However, the use of oral hygiene products incorporating peroxidase systems has not yet been shown to be beneficial for the treatment or prevention of oral infections. This paradox reflects our incomplete knowledge of the physiological role of peroxidases in a complex environment, such as the oral region. While hygiene is crucial for restoring oral microbiota to a symbiotic state, there are no data to suggest that the addition of a peroxidase per se can create a dysbiotic state. Recent investigations have associated the presence of peroxidase activity with grampositive cocci microbial flora, and its insufficiency with dysbiosis has been linked to pathologies, such as caries, periodontitis or infections of the oral mucosa. Therefore, oxidants generated by oral peroxidases appear to be an essential ecological determinant for oral health through the selection of a symbiotic microbiota capable of resisting oxidative stress. The objective of the present review was to update the current knowledge of the physiological aspects and applications of oral peroxidases in clinical practice.'"
      ]
     },
     "execution_count": 11,
     "metadata": {},
     "output_type": "execute_result"
    }
   ],
   "source": [
    "df.abstract[0]"
   ]
  },
  {
   "cell_type": "markdown",
   "metadata": {},
   "source": [
    "# Lemmatize"
   ]
  },
  {
   "cell_type": "code",
   "execution_count": 12,
   "metadata": {
    "scrolled": true
   },
   "outputs": [
    {
     "name": "stdout",
     "output_type": "stream",
     "text": [
      "['watch', 'watch', 'watch']\n"
     ]
    }
   ],
   "source": [
    "# 예시\n",
    "# pos tagging 정보를 가져와서 lemmatize 해주면 좋을 것 같음\n",
    "from nltk.stem import WordNetLemmatizer\n",
    "\n",
    "lemmatizer = WordNetLemmatizer()\n",
    "words=['watched', 'watching', 'watches']\n",
    "print([lemmatizer.lemmatize(w, 'v') for w in words])"
   ]
  },
  {
   "cell_type": "code",
   "execution_count": 17,
   "metadata": {},
   "outputs": [
    {
     "data": {
      "text/plain": [
       "'Late embryogenesis abundant (LEA) proteins are important players in the management of responses to stressful conditions, such as drought, high salinity, and changes in temperature. Many LEA proteins do not have defined three-dimensional structures, so they are intrinsically disordered proteins (IDPs) and are often highly hydrophilic. Although LEA-like sequences have been identified in bacterial genomes, the functions of bacterial LEA proteins have been studied only recently. Sequence analysis of outer membrane interleukin receptor I (BilRI) from the oral pathogen A. actinomycetemcomitans indicated that it shared sequence similarity with group 3/3b/4 LEA proteins. Comprehensive nuclearcgq magnetic resonance (NMR) studies confirmed its IDP nature, and expression studies in A. actinomycetemcomitans harboring a red fluorescence reporter protein-encoding gene revealed that bilRI promoter expression was increased at decreased temperatures. The amino acid backbone of BilRI did not stimulate either the production of reactive oxygen species from human leukocytes or the production of interleukin-6 from human macrophages. Moreover, BilRI-specific IgG antibodies could not be detected in the sera of A. actinomycetemcomitans culture-positive periodontitis patients. Since the bilRI gene is located near genes involved in natural competence (i.e., genes associated with the uptake of extracellular (eDNA) and its incorporation into the genome), we also investigated the role of BilRI in these events. Compared to wild-type cells, the bilRI mutants showed a lower transformation efficiency, which indicates either a direct or indirect role in natural competence. In conclusion, A. actinomycetemcomitans might express BilRI, especially outside the host, to survive under stressful conditions and improve its transmission potential.'"
      ]
     },
     "execution_count": 17,
     "metadata": {},
     "output_type": "execute_result"
    }
   ],
   "source": [
    "# 테스트 abstract 하나 \n",
    "test = df.abstract[48]\n",
    "# test = find_word.abstract.values[1] # A. 구강균 있는 문서\n",
    "test"
   ]
  },
  {
   "cell_type": "code",
   "execution_count": 18,
   "metadata": {},
   "outputs": [
    {
     "name": "stdout",
     "output_type": "stream",
     "text": [
      "['My', 'favorite', 'game', 'is', 'call', 'of', 'duty']\n",
      "['My', 'favorite', 'game', 'is', 'call_of_duty']\n"
     ]
    }
   ],
   "source": [
    "# Multi-Word Expression tokenizer 를 사용하여 사전 추가 예정\n",
    "import nltk, re, pprint\n",
    "from nltk import word_tokenize\n",
    "\n",
    "string = 'My favorite game is call of duty'\n",
    "tokenized_string = nltk.word_tokenize(string)\n",
    "print(tokenized_string)\n",
    "\n",
    "mwe = [('call', 'of', 'duty')]\n",
    "mwe_tokenizer = nltk.tokenize.MWETokenizer(mwe)\n",
    "tokenized_string = mwe_tokenizer.tokenize(tokenized_string)\n",
    "\n",
    "print(tokenized_string)"
   ]
  },
  {
   "cell_type": "code",
   "execution_count": 19,
   "metadata": {},
   "outputs": [],
   "source": [
    "# 아래 단어들을 multiword expression tokenizer에 집어넣기\n",
    "\n",
    "# A. actinomycetemcomitans\n",
    "# P. gingivalis\n",
    "# B. vulgatus\n",
    "# B. lactis\n",
    "# B. pandurata\n",
    "# B. bacteriovorus\n",
    "# F. nucleatum"
   ]
  },
  {
   "cell_type": "code",
   "execution_count": 46,
   "metadata": {
    "scrolled": true
   },
   "outputs": [],
   "source": [
    "text = word_tokenize(test)\n",
    "\n",
    "mwe = [   \n",
    "    ('A.', 'actinomycetemcomitans'),\n",
    "    ('P.', 'gingivalis'),\n",
    "    ('B.', 'vulgatus'),\n",
    "    ('B.', 'lactis'),\n",
    "    ('B.', 'pandurata'),\n",
    "    ('B.', 'bacteriovorus'),\n",
    "    ('F.', 'nucleatum')\n",
    "]\n",
    "mwe_tokenizer = nltk.tokenize.MWETokenizer(mwe)\n",
    "text = mwe_tokenizer.tokenize(text)"
   ]
  },
  {
   "cell_type": "code",
   "execution_count": 21,
   "metadata": {},
   "outputs": [
    {
     "name": "stdout",
     "output_type": "stream",
     "text": [
      "['Late', 'embryogenesis', 'abundant', '(', 'LEA', ')', 'proteins', 'are', 'important', 'players', 'in', 'the', 'management', 'of', 'responses', 'to', 'stressful', 'conditions', ',', 'such', 'as', 'drought', ',', 'high', 'salinity', ',', 'and', 'changes', 'in', 'temperature', '.', 'Many', 'LEA', 'proteins', 'do', 'not', 'have', 'defined', 'three-dimensional', 'structures', ',', 'so', 'they', 'are', 'intrinsically', 'disordered', 'proteins', '(', 'IDPs', ')', 'and', 'are', 'often', 'highly', 'hydrophilic', '.', 'Although', 'LEA-like', 'sequences', 'have', 'been', 'identified', 'in', 'bacterial', 'genomes', ',', 'the', 'functions', 'of', 'bacterial', 'LEA', 'proteins', 'have', 'been', 'studied', 'only', 'recently', '.', 'Sequence', 'analysis', 'of', 'outer', 'membrane', 'interleukin', 'receptor', 'I', '(', 'BilRI', ')', 'from', 'the', 'oral', 'pathogen', 'A._actinomycetemcomitans', 'indicated', 'that', 'it', 'shared', 'sequence', 'similarity', 'with', 'group', '3/3b/4', 'LEA', 'proteins', '.', 'Comprehensive', 'nuclearcgq', 'magnetic', 'resonance', '(', 'NMR', ')', 'studies', 'confirmed', 'its', 'IDP', 'nature', ',', 'and', 'expression', 'studies', 'in', 'A._actinomycetemcomitans', 'harboring', 'a', 'red', 'fluorescence', 'reporter', 'protein-encoding', 'gene', 'revealed', 'that', 'bilRI', 'promoter', 'expression', 'was', 'increased', 'at', 'decreased', 'temperatures', '.', 'The', 'amino', 'acid', 'backbone', 'of', 'BilRI', 'did', 'not', 'stimulate', 'either', 'the', 'production', 'of', 'reactive', 'oxygen', 'species', 'from', 'human', 'leukocytes', 'or', 'the', 'production', 'of', 'interleukin-6', 'from', 'human', 'macrophages', '.', 'Moreover', ',', 'BilRI-specific', 'IgG', 'antibodies', 'could', 'not', 'be', 'detected', 'in', 'the', 'sera', 'of', 'A._actinomycetemcomitans', 'culture-positive', 'periodontitis', 'patients', '.', 'Since', 'the', 'bilRI', 'gene', 'is', 'located', 'near', 'genes', 'involved', 'in', 'natural', 'competence', '(', 'i.e.', ',', 'genes', 'associated', 'with', 'the', 'uptake', 'of', 'extracellular', '(', 'eDNA', ')', 'and', 'its', 'incorporation', 'into', 'the', 'genome', ')', ',', 'we', 'also', 'investigated', 'the', 'role', 'of', 'BilRI', 'in', 'these', 'events', '.', 'Compared', 'to', 'wild-type', 'cells', ',', 'the', 'bilRI', 'mutants', 'showed', 'a', 'lower', 'transformation', 'efficiency', ',', 'which', 'indicates', 'either', 'a', 'direct', 'or', 'indirect', 'role', 'in', 'natural', 'competence', '.', 'In', 'conclusion', ',', 'A._actinomycetemcomitans', 'might', 'express', 'BilRI', ',', 'especially', 'outside', 'the', 'host', ',', 'to', 'survive', 'under', 'stressful', 'conditions', 'and', 'improve', 'its', 'transmission', 'potential', '.']\n"
     ]
    }
   ],
   "source": [
    "print(text)"
   ]
  },
  {
   "cell_type": "code",
   "execution_count": 22,
   "metadata": {},
   "outputs": [],
   "source": [
    "# stopwords 제거하기\n",
    "\n",
    "from nltk.corpus import stopwords  \n",
    "\n",
    "stop_words = set(stopwords.words('english')) \n",
    "\n",
    "del_stopwords = []\n",
    "for w in text: \n",
    "    if w not in stop_words: \n",
    "        del_stopwords.append(w) \n"
   ]
  },
  {
   "cell_type": "code",
   "execution_count": 45,
   "metadata": {},
   "outputs": [],
   "source": [
    "# pos_tag_text = nltk.pos_tag(del_stopwords)\n",
    "# pos_tag_text"
   ]
  },
  {
   "cell_type": "code",
   "execution_count": 25,
   "metadata": {},
   "outputs": [],
   "source": [
    "lemmatizer = WordNetLemmatizer()\n"
   ]
  },
  {
   "cell_type": "code",
   "execution_count": 76,
   "metadata": {},
   "outputs": [],
   "source": [
    "from nltk.corpus import wordnet\n",
    "\n",
    "def get_lemmatized_word(word):\n",
    "    \"\"\"Map POS tag to first character lemmatize() accepts\"\"\"\n",
    "    tag = nltk.pos_tag([word])[0][1][0].upper()\n",
    "    tag_dict = {\"J\": wordnet.ADJ,\n",
    "                \"N\": wordnet.NOUN,\n",
    "                \"V\": wordnet.VERB,\n",
    "                \"R\": wordnet.ADV}\n",
    "    wordnet_pos = tag_dict.get(tag, 'N/A')\n",
    "    \n",
    "    if wordnet_pos == 'N/A':\n",
    "        return \n",
    "    else:\n",
    "        return lemmatizer.lemmatize(word, wordnet_pos)\n",
    "    \n"
   ]
  },
  {
   "cell_type": "code",
   "execution_count": 77,
   "metadata": {},
   "outputs": [
    {
     "name": "stdout",
     "output_type": "stream",
     "text": [
      "A._actinomycetemcomitans\n"
     ]
    },
    {
     "data": {
      "text/plain": [
       "'A._actinomycetemcomitans'"
      ]
     },
     "execution_count": 77,
     "metadata": {},
     "output_type": "execute_result"
    }
   ],
   "source": [
    "# 함수 사용 예시\n",
    "word = 'A._actinomycetemcomitans'\n",
    "# word = '.'\n",
    "print(word)\n",
    "get_lemmatized_word(word)"
   ]
  },
  {
   "cell_type": "code",
   "execution_count": 78,
   "metadata": {},
   "outputs": [
    {
     "data": {
      "text/plain": [
       "['Late',\n",
       " 'embryogenesis',\n",
       " 'abundant',\n",
       " '(',\n",
       " 'LEA',\n",
       " ')',\n",
       " 'proteins',\n",
       " 'important',\n",
       " 'players',\n",
       " 'management',\n",
       " 'responses',\n",
       " 'stressful',\n",
       " 'conditions',\n",
       " ',',\n",
       " 'drought',\n",
       " ',',\n",
       " 'high',\n",
       " 'salinity',\n",
       " ',',\n",
       " 'changes',\n",
       " 'temperature',\n",
       " '.',\n",
       " 'Many',\n",
       " 'LEA',\n",
       " 'proteins',\n",
       " 'defined',\n",
       " 'three-dimensional',\n",
       " 'structures',\n",
       " ',',\n",
       " 'intrinsically',\n",
       " 'disordered',\n",
       " 'proteins',\n",
       " '(',\n",
       " 'IDPs',\n",
       " ')',\n",
       " 'often',\n",
       " 'highly',\n",
       " 'hydrophilic',\n",
       " '.',\n",
       " 'Although',\n",
       " 'LEA-like',\n",
       " 'sequences',\n",
       " 'identified',\n",
       " 'bacterial',\n",
       " 'genomes',\n",
       " ',',\n",
       " 'functions',\n",
       " 'bacterial',\n",
       " 'LEA',\n",
       " 'proteins',\n",
       " 'studied',\n",
       " 'recently',\n",
       " '.',\n",
       " 'Sequence',\n",
       " 'analysis',\n",
       " 'outer',\n",
       " 'membrane',\n",
       " 'interleukin',\n",
       " 'receptor',\n",
       " 'I',\n",
       " '(',\n",
       " 'BilRI',\n",
       " ')',\n",
       " 'oral',\n",
       " 'pathogen',\n",
       " 'A._actinomycetemcomitans',\n",
       " 'indicated',\n",
       " 'shared',\n",
       " 'sequence',\n",
       " 'similarity',\n",
       " 'group',\n",
       " '3/3b/4',\n",
       " 'LEA',\n",
       " 'proteins',\n",
       " '.',\n",
       " 'Comprehensive',\n",
       " 'nuclearcgq',\n",
       " 'magnetic',\n",
       " 'resonance',\n",
       " '(',\n",
       " 'NMR',\n",
       " ')',\n",
       " 'studies',\n",
       " 'confirmed',\n",
       " 'IDP',\n",
       " 'nature',\n",
       " ',',\n",
       " 'expression',\n",
       " 'studies',\n",
       " 'A._actinomycetemcomitans',\n",
       " 'harboring',\n",
       " 'red',\n",
       " 'fluorescence',\n",
       " 'reporter',\n",
       " 'protein-encoding',\n",
       " 'gene',\n",
       " 'revealed',\n",
       " 'bilRI',\n",
       " 'promoter',\n",
       " 'expression',\n",
       " 'increased',\n",
       " 'decreased',\n",
       " 'temperatures',\n",
       " '.',\n",
       " 'The',\n",
       " 'amino',\n",
       " 'acid',\n",
       " 'backbone',\n",
       " 'BilRI',\n",
       " 'stimulate',\n",
       " 'either',\n",
       " 'production',\n",
       " 'reactive',\n",
       " 'oxygen',\n",
       " 'species',\n",
       " 'human',\n",
       " 'leukocytes',\n",
       " 'production',\n",
       " 'interleukin-6',\n",
       " 'human',\n",
       " 'macrophages',\n",
       " '.',\n",
       " 'Moreover',\n",
       " ',',\n",
       " 'BilRI-specific',\n",
       " 'IgG',\n",
       " 'antibodies',\n",
       " 'could',\n",
       " 'detected',\n",
       " 'sera',\n",
       " 'A._actinomycetemcomitans',\n",
       " 'culture-positive',\n",
       " 'periodontitis',\n",
       " 'patients',\n",
       " '.',\n",
       " 'Since',\n",
       " 'bilRI',\n",
       " 'gene',\n",
       " 'located',\n",
       " 'near',\n",
       " 'genes',\n",
       " 'involved',\n",
       " 'natural',\n",
       " 'competence',\n",
       " '(',\n",
       " 'i.e.',\n",
       " ',',\n",
       " 'genes',\n",
       " 'associated',\n",
       " 'uptake',\n",
       " 'extracellular',\n",
       " '(',\n",
       " 'eDNA',\n",
       " ')',\n",
       " 'incorporation',\n",
       " 'genome',\n",
       " ')',\n",
       " ',',\n",
       " 'also',\n",
       " 'investigated',\n",
       " 'role',\n",
       " 'BilRI',\n",
       " 'events',\n",
       " '.',\n",
       " 'Compared',\n",
       " 'wild-type',\n",
       " 'cells',\n",
       " ',',\n",
       " 'bilRI',\n",
       " 'mutants',\n",
       " 'showed',\n",
       " 'lower',\n",
       " 'transformation',\n",
       " 'efficiency',\n",
       " ',',\n",
       " 'indicates',\n",
       " 'either',\n",
       " 'direct',\n",
       " 'indirect',\n",
       " 'role',\n",
       " 'natural',\n",
       " 'competence',\n",
       " '.',\n",
       " 'In',\n",
       " 'conclusion',\n",
       " ',',\n",
       " 'A._actinomycetemcomitans',\n",
       " 'might',\n",
       " 'express',\n",
       " 'BilRI',\n",
       " ',',\n",
       " 'especially',\n",
       " 'outside',\n",
       " 'host',\n",
       " ',',\n",
       " 'survive',\n",
       " 'stressful',\n",
       " 'conditions',\n",
       " 'improve',\n",
       " 'transmission',\n",
       " 'potential',\n",
       " '.']"
      ]
     },
     "execution_count": 78,
     "metadata": {},
     "output_type": "execute_result"
    }
   ],
   "source": [
    "del_stopwords"
   ]
  },
  {
   "cell_type": "code",
   "execution_count": 80,
   "metadata": {
    "scrolled": true
   },
   "outputs": [
    {
     "data": {
      "text/plain": [
       "['Late', 'embryogenesis', 'abundant', None, 'LEA']"
      ]
     },
     "execution_count": 80,
     "metadata": {},
     "output_type": "execute_result"
    }
   ],
   "source": [
    "lemma_result = list(map(get_lemmatized_word, del_stopwords))\n",
    "lemma_result[:5]"
   ]
  },
  {
   "cell_type": "code",
   "execution_count": null,
   "metadata": {},
   "outputs": [],
   "source": [
    "from nltk.corpus import wordnet\n",
    "\n",
    "def get_lemmatized_word(word):\n",
    "    \"\"\"Map POS tag to first character lemmatize() accepts\"\"\"\n",
    "    tag = nltk.pos_tag([word])[0][1][0].upper()\n",
    "    tag_dict = {\"J\": wordnet.ADJ,\n",
    "                \"N\": wordnet.NOUN,\n",
    "                \"V\": wordnet.VERB,\n",
    "                \"R\": wordnet.ADV}\n",
    "    wordnet_pos = tag_dict.get(tag, 'N/A')\n",
    "\n",
    "    if wordnet_pos == 'N/A':\n",
    "        return \n",
    "    else:\n",
    "        return lemmatizer.lemmatize(word, wordnet_pos)"
   ]
  },
  {
   "cell_type": "code",
   "execution_count": 88,
   "metadata": {},
   "outputs": [],
   "source": [
    "def abstract_to_lemma_words(x):\n",
    "    text = word_tokenize(test)\n",
    "\n",
    "    mwe = [   \n",
    "        ('A.', 'actinomycetemcomitans'),\n",
    "        ('P.', 'gingivalis'),\n",
    "        ('B.', 'vulgatus'),\n",
    "        ('B.', 'lactis'),\n",
    "        ('B.', 'pandurata'),\n",
    "        ('B.', 'bacteriovorus'),\n",
    "        ('F.', 'nucleatum')\n",
    "    ]\n",
    "    mwe_tokenizer = nltk.tokenize.MWETokenizer(mwe)\n",
    "    text = mwe_tokenizer.tokenize(text)\n",
    "\n",
    "    stop_words = set(stopwords.words('english')) \n",
    "\n",
    "    del_stopwords = []\n",
    "    for w in text: \n",
    "        if w not in stop_words: \n",
    "            del_stopwords.append(w) \n",
    "    \n",
    "    lemma_result = list(map(get_lemmatized_word, del_stopwords))\n",
    "    lemma_result = list(filter(None, lemma_result))\n",
    "    return lemma_result"
   ]
  },
  {
   "cell_type": "code",
   "execution_count": 91,
   "metadata": {},
   "outputs": [
    {
     "name": "stdout",
     "output_type": "stream",
     "text": [
      "['Late', 'embryogenesis', 'abundant', 'LEA', 'protein', 'important', 'player', 'management', 'response', 'stressful', 'condition', 'drought', 'high', 'salinity', 'change', 'temperature', 'Many', 'LEA', 'protein', 'define', 'three-dimensional', 'structure', 'intrinsically', 'disorder', 'protein', 'IDPs', 'often', 'highly', 'hydrophilic', 'LEA-like', 'sequence', 'identify', 'bacterial', 'genome', 'function', 'bacterial', 'LEA', 'protein', 'study', 'recently', 'Sequence', 'analysis', 'outer', 'membrane', 'interleukin', 'receptor', 'BilRI', 'oral', 'pathogen', 'A._actinomycetemcomitans', 'indicate', 'share', 'sequence', 'similarity', 'group', 'LEA', 'protein', 'Comprehensive', 'nuclearcgq', 'magnetic', 'resonance', 'NMR', 'study', 'confirm', 'IDP', 'nature', 'expression', 'study', 'A._actinomycetemcomitans', 'harbor', 'red', 'fluorescence', 'reporter', 'protein-encoding', 'gene', 'reveal', 'bilRI', 'promoter', 'expression', 'increase', 'decrease', 'temperature', 'amino', 'acid', 'backbone', 'BilRI', 'stimulate', 'production', 'reactive', 'oxygen', 'specie', 'human', 'leukocyte', 'production', 'interleukin-6', 'human', 'macrophage', 'Moreover', 'BilRI-specific', 'IgG', 'antibody', 'detect', 'serum', 'A._actinomycetemcomitans', 'culture-positive', 'periodontitis', 'patient', 'bilRI', 'gene', 'locate', 'gene', 'involve', 'natural', 'competence', 'i.e.', 'gene', 'associate', 'uptake', 'extracellular', 'eDNA', 'incorporation', 'genome', 'also', 'investigate', 'role', 'BilRI', 'event', 'Compared', 'wild-type', 'cell', 'bilRI', 'mutant', 'show', 'low', 'transformation', 'efficiency', 'indicates', 'direct', 'indirect', 'role', 'natural', 'competence', 'conclusion', 'A._actinomycetemcomitans', 'express', 'BilRI', 'especially', 'host', 'survive', 'stressful', 'condition', 'improve', 'transmission', 'potential']\n"
     ]
    }
   ],
   "source": [
    "print(abstract_to_lemma_words(df.abstract[0]))"
   ]
  },
  {
   "cell_type": "code",
   "execution_count": 92,
   "metadata": {},
   "outputs": [
    {
     "data": {
      "text/plain": [
       "Index(['journal_name', 'year', 'title', 'author', 'author_info', 'abstract',\n",
       "       'pos_tag_abstract'],\n",
       "      dtype='object')"
      ]
     },
     "execution_count": 92,
     "metadata": {},
     "output_type": "execute_result"
    }
   ],
   "source": [
    "df.columns"
   ]
  },
  {
   "cell_type": "code",
   "execution_count": null,
   "metadata": {},
   "outputs": [],
   "source": [
    "df.lemmatize_abstarct = df.abstract.map(abstract_to_lemma_words)"
   ]
  },
  {
   "cell_type": "code",
   "execution_count": null,
   "metadata": {},
   "outputs": [],
   "source": [
    "df.to_pickle(\"../files/df_lemmatize.pickle\")"
   ]
  }
 ],
 "metadata": {
  "kernelspec": {
   "display_name": "Python 3",
   "language": "python",
   "name": "python3"
  },
  "language_info": {
   "codemirror_mode": {
    "name": "ipython",
    "version": 3
   },
   "file_extension": ".py",
   "mimetype": "text/x-python",
   "name": "python",
   "nbconvert_exporter": "python",
   "pygments_lexer": "ipython3",
   "version": "3.7.4"
  }
 },
 "nbformat": 4,
 "nbformat_minor": 2
}
