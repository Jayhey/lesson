{
 "cells": [
  {
   "cell_type": "code",
   "execution_count": 1,
   "metadata": {},
   "outputs": [],
   "source": [
    "import pandas as pd\n",
    "import time\n",
    "\n",
    "import requests\n",
    "from bs4 import BeautifulSoup"
   ]
  },
  {
   "cell_type": "code",
   "execution_count": 2,
   "metadata": {},
   "outputs": [],
   "source": [
    "from tqdm.notebook import tqdm"
   ]
  },
  {
   "cell_type": "code",
   "execution_count": 3,
   "metadata": {},
   "outputs": [],
   "source": [
    "# change full text df\n",
    "df = pd.read_csv(\"../files/df_key.csv\")"
   ]
  },
  {
   "cell_type": "code",
   "execution_count": 5,
   "metadata": {},
   "outputs": [
    {
     "data": {
      "text/html": [
       "<div>\n",
       "<style scoped>\n",
       "    .dataframe tbody tr th:only-of-type {\n",
       "        vertical-align: middle;\n",
       "    }\n",
       "\n",
       "    .dataframe tbody tr th {\n",
       "        vertical-align: top;\n",
       "    }\n",
       "\n",
       "    .dataframe thead th {\n",
       "        text-align: right;\n",
       "    }\n",
       "</style>\n",
       "<table border=\"1\" class=\"dataframe\">\n",
       "  <thead>\n",
       "    <tr style=\"text-align: right;\">\n",
       "      <th></th>\n",
       "      <th>titles</th>\n",
       "      <th>links</th>\n",
       "      <th>year</th>\n",
       "      <th>meta_keywords</th>\n",
       "    </tr>\n",
       "  </thead>\n",
       "  <tbody>\n",
       "  </tbody>\n",
       "</table>\n",
       "</div>"
      ],
      "text/plain": [
       "Empty DataFrame\n",
       "Columns: [titles, links, year, meta_keywords]\n",
       "Index: []"
      ]
     },
     "execution_count": 5,
     "metadata": {},
     "output_type": "execute_result"
    }
   ],
   "source": [
    "# Error가 아닌 case\n",
    "df[df['meta_keywords'] != 'Error']"
   ]
  },
  {
   "cell_type": "code",
   "execution_count": 30,
   "metadata": {},
   "outputs": [],
   "source": [
    "def crawling_keywords(url):\n",
    "    # url Html 구조 긁어오기\n",
    "    page = requests.get(url)\n",
    "    soup = BeautifulSoup(page.content, 'html.parser')\n",
    "    \n",
    "    try:\n",
    "        div_abstract = soup.find('div', class_='abstract')   \n",
    "        div_abstract.find('div', class_='abstract-content selected').decompose()\n",
    "\n",
    "        keywords = div_abstract.find('p').get_text(strip=True)\n",
    "        keywords = keywords.split(':')[1]\n",
    "        meta_keywords = keywords = keywords.split('; ')\n",
    "        meta_keywords = ','.join(meta_keywords)\n",
    "        meta_keywords = meta_keywords[:-1]\n",
    "    except:\n",
    "        meta_keywords = 'Error'\n",
    "\n",
    "    return meta_keywords\n"
   ]
  },
  {
   "cell_type": "code",
   "execution_count": 31,
   "metadata": {},
   "outputs": [
    {
     "data": {
      "text/plain": [
       "'16S rRNA,Altitude,Diversity,Oral microbiome.'"
      ]
     },
     "execution_count": 31,
     "metadata": {},
     "output_type": "execute_result"
    }
   ],
   "source": [
    "crawling_keywords('https://pubmed.ncbi.nlm.nih.gov/33246246/')"
   ]
  },
  {
   "cell_type": "code",
   "execution_count": 42,
   "metadata": {},
   "outputs": [],
   "source": [
    "url = 'https://pubmed.ncbi.nlm.nih.gov/33246246/'\n",
    "\n",
    "page = requests.get(url)\n",
    "soup = BeautifulSoup(page.content, 'html.parser')\n"
   ]
  },
  {
   "cell_type": "code",
   "execution_count": 43,
   "metadata": {
    "scrolled": true
   },
   "outputs": [
    {
     "data": {
      "text/plain": [
       "<div class=\"abstract\" id=\"abstract\">\n",
       "<h2 class=\"title\">\n",
       "        Abstract\n",
       "        \n",
       "      </h2>\n",
       "<div class=\"abstract-content selected\" id=\"enc-abstract\">\n",
       "<p>\n",
       "<strong class=\"sub-title\">\n",
       "          Objectives:\n",
       "        </strong>\n",
       "      \n",
       "      The aim of this study was to obtain greater insight into the environmental and genetic factors affecting the oral microbiome.\n",
       "    </p>\n",
       "<p>\n",
       "<strong class=\"sub-title\">\n",
       "          Design:\n",
       "        </strong>\n",
       "      \n",
       "      To this end, we investigated the oral microbiome composition in Han and Zang populations living at different altitudes. The saliva microbiome in 115 individuals from Zang and Han populations living at different altitudes was analyzed using the 16 s rRNA gene sequencing method on the Illumina MiSeq platform. The dominant species in the oral microbiome were verified by quantitative real-time polymerase chain reaction (qPCR) analysis.\n",
       "    </p>\n",
       "<p>\n",
       "<strong class=\"sub-title\">\n",
       "          Results:\n",
       "        </strong>\n",
       "      \n",
       "      The Han population, living at an altitude of 500 m, had higher microbiome diversity than the Zang population living at altitudes of 3000-4000 m. People living at 3000 m had a higher relative abundance of Leptothrix genus, but people living at 500 m had a higher relative abundance of Capnocytophaga genus according to Lefse difference analysis (P &lt; 0.05). Compared to the Zang population, the Han population had higher relative abundances of Porphyromonas and Treponema genus organisms, especially Porphyromonas (P &lt; 0.001). qPCR analysis confirmed that people living at high altitudes had the highest relative abundance of Porphyromonas gingivalis (P &lt; 0.01).\n",
       "    </p>\n",
       "<p>\n",
       "<strong class=\"sub-title\">\n",
       "          Conclusions:\n",
       "        </strong>\n",
       "      \n",
       "      This study showed that both genetics and the environment had significant influences on the oral microbiome composition. The study proposed a meaningful research direction to explore the relationship between different ethnic and altitude groups and oral diseases, such as periodontal diseases.\n",
       "    </p>\n",
       "</div>\n",
       "<p>\n",
       "<strong class=\"sub-title\">\n",
       "          Keywords:\n",
       "        </strong>\n",
       "      \n",
       "      16S rRNA; Altitude; Diversity; Oral microbiome.\n",
       "    </p>\n",
       "</div>"
      ]
     },
     "execution_count": 43,
     "metadata": {},
     "output_type": "execute_result"
    }
   ],
   "source": [
    "# line by line \n",
    "div_abstract = soup.find('div', class_='abstract')\n",
    "div_abstract\n"
   ]
  },
  {
   "cell_type": "code",
   "execution_count": 44,
   "metadata": {
    "scrolled": true
   },
   "outputs": [],
   "source": [
    "div_abstract.find('div', class_='abstract-content selected').decompose()"
   ]
  },
  {
   "cell_type": "code",
   "execution_count": 45,
   "metadata": {},
   "outputs": [
    {
     "data": {
      "text/plain": [
       "<div class=\"abstract\" id=\"abstract\">\n",
       "<h2 class=\"title\">\n",
       "        Abstract\n",
       "        \n",
       "      </h2>\n",
       "\n",
       "<p>\n",
       "<strong class=\"sub-title\">\n",
       "          Keywords:\n",
       "        </strong>\n",
       "      \n",
       "      16S rRNA; Altitude; Diversity; Oral microbiome.\n",
       "    </p>\n",
       "</div>"
      ]
     },
     "execution_count": 45,
     "metadata": {},
     "output_type": "execute_result"
    }
   ],
   "source": [
    "div_abstract"
   ]
  },
  {
   "cell_type": "code",
   "execution_count": 59,
   "metadata": {
    "scrolled": true
   },
   "outputs": [
    {
     "data": {
      "text/plain": [
       "'Keywords:16S rRNA; Altitude; Diversity; Oral microbiome.'"
      ]
     },
     "execution_count": 59,
     "metadata": {},
     "output_type": "execute_result"
    }
   ],
   "source": [
    "keywords = div_abstract.find('p').get_text(strip=True)\n",
    "keywords"
   ]
  },
  {
   "cell_type": "code",
   "execution_count": 61,
   "metadata": {},
   "outputs": [
    {
     "data": {
      "text/plain": [
       "['Keywords', '16S rRNA; Altitude; Diversity; Oral microbiome.']"
      ]
     },
     "execution_count": 61,
     "metadata": {},
     "output_type": "execute_result"
    }
   ],
   "source": [
    "keywords.split(':')"
   ]
  },
  {
   "cell_type": "code",
   "execution_count": 63,
   "metadata": {},
   "outputs": [
    {
     "data": {
      "text/plain": [
       "'16S rRNA; Altitude; Diversity; Oral microbiome.'"
      ]
     },
     "execution_count": 63,
     "metadata": {},
     "output_type": "execute_result"
    }
   ],
   "source": [
    "keywords = keywords.split(':')[1]\n",
    "keywords"
   ]
  },
  {
   "cell_type": "code",
   "execution_count": 67,
   "metadata": {},
   "outputs": [
    {
     "data": {
      "text/plain": [
       "['16S rRNA', 'Altitude', 'Diversity', 'Oral microbiome.']"
      ]
     },
     "execution_count": 67,
     "metadata": {},
     "output_type": "execute_result"
    }
   ],
   "source": [
    "# split to list\n",
    "meta_keywords = keywords.split('; ')\n",
    "meta_keywords"
   ]
  },
  {
   "cell_type": "code",
   "execution_count": 69,
   "metadata": {},
   "outputs": [
    {
     "data": {
      "text/plain": [
       "'16S rRNA,Altitude,Diversity,Oral microbiome.'"
      ]
     },
     "execution_count": 69,
     "metadata": {},
     "output_type": "execute_result"
    }
   ],
   "source": [
    "# list to string by join\n",
    "meta_keywords = ','.join(meta_keywords)\n",
    "meta_keywords"
   ]
  },
  {
   "cell_type": "code",
   "execution_count": 94,
   "metadata": {
    "scrolled": false
   },
   "outputs": [
    {
     "data": {
      "application/vnd.jupyter.widget-view+json": {
       "model_id": "8d6f94c5464e40d4890791a4b362d7c8",
       "version_major": 2,
       "version_minor": 0
      },
      "text/plain": [
       "  0%|          | 0/104319 [00:00<?, ?it/s]"
      ]
     },
     "metadata": {},
     "output_type": "display_data"
    },
    {
     "name": "stderr",
     "output_type": "stream",
     "text": [
      "/Users/geoffrey/opt/anaconda3/lib/python3.7/site-packages/ipykernel_launcher.py:6: SettingWithCopyWarning: \n",
      "A value is trying to be set on a copy of a slice from a DataFrame\n",
      "\n",
      "See the caveats in the documentation: https://pandas.pydata.org/pandas-docs/stable/user_guide/indexing.html#returning-a-view-versus-a-copy\n",
      "  \n"
     ]
    },
    {
     "ename": "KeyboardInterrupt",
     "evalue": "",
     "output_type": "error",
     "traceback": [
      "\u001b[0;31m---------------------------------------------------------------------------\u001b[0m",
      "\u001b[0;31mKeyboardInterrupt\u001b[0m                         Traceback (most recent call last)",
      "\u001b[0;32m<ipython-input-94-ddb32f4c0b27>\u001b[0m in \u001b[0;36m<module>\u001b[0;34m\u001b[0m\n\u001b[1;32m      7\u001b[0m \u001b[0;34m\u001b[0m\u001b[0m\n\u001b[1;32m      8\u001b[0m     \u001b[0;32mif\u001b[0m \u001b[0mi\u001b[0m \u001b[0;34m%\u001b[0m \u001b[0;36m100\u001b[0m \u001b[0;34m==\u001b[0m \u001b[0;36m0\u001b[0m\u001b[0;34m:\u001b[0m\u001b[0;34m\u001b[0m\u001b[0;34m\u001b[0m\u001b[0m\n\u001b[0;32m----> 9\u001b[0;31m         \u001b[0mtime\u001b[0m\u001b[0;34m.\u001b[0m\u001b[0msleep\u001b[0m\u001b[0;34m(\u001b[0m\u001b[0;36m10\u001b[0m\u001b[0;34m)\u001b[0m\u001b[0;34m\u001b[0m\u001b[0;34m\u001b[0m\u001b[0m\n\u001b[0m\u001b[1;32m     10\u001b[0m \u001b[0;34m\u001b[0m\u001b[0m\n",
      "\u001b[0;31mKeyboardInterrupt\u001b[0m: "
     ]
    }
   ],
   "source": [
    "import time\n",
    "\n",
    "\n",
    "for i, url in enumerate(tqdm(df.links)):\n",
    "    keywords = crawling_keywords(url)\n",
    "    df['meta_keywords'][i] = keywords\n",
    "    \n",
    "    if i % 1000 == 0:\n",
    "        time.sleep(10)\n",
    "    "
   ]
  },
  {
   "cell_type": "code",
   "execution_count": 106,
   "metadata": {},
   "outputs": [],
   "source": [
    "# year over 2010 paper crawling\n",
    "\n",
    "df.head()\n",
    "\n",
    "test_df = df[df['year'] >= 2015]"
   ]
  },
  {
   "cell_type": "code",
   "execution_count": 111,
   "metadata": {},
   "outputs": [],
   "source": [
    "from copy import copy"
   ]
  },
  {
   "cell_type": "code",
   "execution_count": 112,
   "metadata": {},
   "outputs": [
    {
     "data": {
      "application/vnd.jupyter.widget-view+json": {
       "model_id": "1e074a36d83d4bc9a4fe6e0982e6c47f",
       "version_major": 2,
       "version_minor": 0
      },
      "text/plain": [
       "  0%|          | 0/1812 [00:00<?, ?it/s]"
      ]
     },
     "metadata": {},
     "output_type": "display_data"
    },
    {
     "name": "stderr",
     "output_type": "stream",
     "text": [
      "/Users/geoffrey/opt/anaconda3/lib/python3.7/site-packages/ipykernel_launcher.py:3: SettingWithCopyWarning: \n",
      "A value is trying to be set on a copy of a slice from a DataFrame\n",
      "\n",
      "See the caveats in the documentation: https://pandas.pydata.org/pandas-docs/stable/user_guide/indexing.html#returning-a-view-versus-a-copy\n",
      "  This is separate from the ipykernel package so we can avoid doing imports until\n"
     ]
    },
    {
     "ename": "KeyboardInterrupt",
     "evalue": "",
     "output_type": "error",
     "traceback": [
      "\u001b[0;31m---------------------------------------------------------------------------\u001b[0m",
      "\u001b[0;31mKeyboardInterrupt\u001b[0m                         Traceback (most recent call last)",
      "\u001b[0;32m<ipython-input-112-7783904a0df0>\u001b[0m in \u001b[0;36m<module>\u001b[0;34m\u001b[0m\n\u001b[1;32m      1\u001b[0m \u001b[0;32mfor\u001b[0m \u001b[0mi\u001b[0m\u001b[0;34m,\u001b[0m \u001b[0murl\u001b[0m \u001b[0;32min\u001b[0m \u001b[0menumerate\u001b[0m\u001b[0;34m(\u001b[0m\u001b[0mtqdm\u001b[0m\u001b[0;34m(\u001b[0m\u001b[0mtest_df\u001b[0m\u001b[0;34m.\u001b[0m\u001b[0mlinks\u001b[0m\u001b[0;34m)\u001b[0m\u001b[0;34m)\u001b[0m\u001b[0;34m:\u001b[0m\u001b[0;34m\u001b[0m\u001b[0;34m\u001b[0m\u001b[0m\n\u001b[0;32m----> 2\u001b[0;31m     \u001b[0mkeywords\u001b[0m \u001b[0;34m=\u001b[0m \u001b[0mcrawling_keywords\u001b[0m\u001b[0;34m(\u001b[0m\u001b[0murl\u001b[0m\u001b[0;34m)\u001b[0m\u001b[0;34m\u001b[0m\u001b[0;34m\u001b[0m\u001b[0m\n\u001b[0m\u001b[1;32m      3\u001b[0m     \u001b[0mtest_df\u001b[0m\u001b[0;34m[\u001b[0m\u001b[0;34m'meta_keywords'\u001b[0m\u001b[0;34m]\u001b[0m\u001b[0;34m[\u001b[0m\u001b[0mi\u001b[0m\u001b[0;34m]\u001b[0m \u001b[0;34m=\u001b[0m \u001b[0mcopy\u001b[0m\u001b[0;34m(\u001b[0m\u001b[0mkeywords\u001b[0m\u001b[0;34m)\u001b[0m\u001b[0;34m\u001b[0m\u001b[0;34m\u001b[0m\u001b[0m\n\u001b[1;32m      4\u001b[0m \u001b[0;34m\u001b[0m\u001b[0m\n\u001b[1;32m      5\u001b[0m     \u001b[0;32mif\u001b[0m \u001b[0mi\u001b[0m \u001b[0;34m%\u001b[0m \u001b[0;36m10000\u001b[0m \u001b[0;34m==\u001b[0m \u001b[0;36m0\u001b[0m\u001b[0;34m:\u001b[0m\u001b[0;34m\u001b[0m\u001b[0;34m\u001b[0m\u001b[0m\n",
      "\u001b[0;32m<ipython-input-30-ed30b803c16d>\u001b[0m in \u001b[0;36mcrawling_keywords\u001b[0;34m(url)\u001b[0m\n\u001b[1;32m      1\u001b[0m \u001b[0;32mdef\u001b[0m \u001b[0mcrawling_keywords\u001b[0m\u001b[0;34m(\u001b[0m\u001b[0murl\u001b[0m\u001b[0;34m)\u001b[0m\u001b[0;34m:\u001b[0m\u001b[0;34m\u001b[0m\u001b[0;34m\u001b[0m\u001b[0m\n\u001b[1;32m      2\u001b[0m     \u001b[0;31m# url Html 구조 긁어오기\u001b[0m\u001b[0;34m\u001b[0m\u001b[0;34m\u001b[0m\u001b[0;34m\u001b[0m\u001b[0m\n\u001b[0;32m----> 3\u001b[0;31m     \u001b[0mpage\u001b[0m \u001b[0;34m=\u001b[0m \u001b[0mrequests\u001b[0m\u001b[0;34m.\u001b[0m\u001b[0mget\u001b[0m\u001b[0;34m(\u001b[0m\u001b[0murl\u001b[0m\u001b[0;34m)\u001b[0m\u001b[0;34m\u001b[0m\u001b[0;34m\u001b[0m\u001b[0m\n\u001b[0m\u001b[1;32m      4\u001b[0m     \u001b[0msoup\u001b[0m \u001b[0;34m=\u001b[0m \u001b[0mBeautifulSoup\u001b[0m\u001b[0;34m(\u001b[0m\u001b[0mpage\u001b[0m\u001b[0;34m.\u001b[0m\u001b[0mcontent\u001b[0m\u001b[0;34m,\u001b[0m \u001b[0;34m'html.parser'\u001b[0m\u001b[0;34m)\u001b[0m\u001b[0;34m\u001b[0m\u001b[0;34m\u001b[0m\u001b[0m\n\u001b[1;32m      5\u001b[0m \u001b[0;34m\u001b[0m\u001b[0m\n",
      "\u001b[0;32m~/opt/anaconda3/lib/python3.7/site-packages/requests/api.py\u001b[0m in \u001b[0;36mget\u001b[0;34m(url, params, **kwargs)\u001b[0m\n\u001b[1;32m     73\u001b[0m     \"\"\"\n\u001b[1;32m     74\u001b[0m \u001b[0;34m\u001b[0m\u001b[0m\n\u001b[0;32m---> 75\u001b[0;31m     \u001b[0;32mreturn\u001b[0m \u001b[0mrequest\u001b[0m\u001b[0;34m(\u001b[0m\u001b[0;34m'get'\u001b[0m\u001b[0;34m,\u001b[0m \u001b[0murl\u001b[0m\u001b[0;34m,\u001b[0m \u001b[0mparams\u001b[0m\u001b[0;34m=\u001b[0m\u001b[0mparams\u001b[0m\u001b[0;34m,\u001b[0m \u001b[0;34m**\u001b[0m\u001b[0mkwargs\u001b[0m\u001b[0;34m)\u001b[0m\u001b[0;34m\u001b[0m\u001b[0;34m\u001b[0m\u001b[0m\n\u001b[0m\u001b[1;32m     76\u001b[0m \u001b[0;34m\u001b[0m\u001b[0m\n\u001b[1;32m     77\u001b[0m \u001b[0;34m\u001b[0m\u001b[0m\n",
      "\u001b[0;32m~/opt/anaconda3/lib/python3.7/site-packages/requests/api.py\u001b[0m in \u001b[0;36mrequest\u001b[0;34m(method, url, **kwargs)\u001b[0m\n\u001b[1;32m     59\u001b[0m     \u001b[0;31m# cases, and look like a memory leak in others.\u001b[0m\u001b[0;34m\u001b[0m\u001b[0;34m\u001b[0m\u001b[0;34m\u001b[0m\u001b[0m\n\u001b[1;32m     60\u001b[0m     \u001b[0;32mwith\u001b[0m \u001b[0msessions\u001b[0m\u001b[0;34m.\u001b[0m\u001b[0mSession\u001b[0m\u001b[0;34m(\u001b[0m\u001b[0;34m)\u001b[0m \u001b[0;32mas\u001b[0m \u001b[0msession\u001b[0m\u001b[0;34m:\u001b[0m\u001b[0;34m\u001b[0m\u001b[0;34m\u001b[0m\u001b[0m\n\u001b[0;32m---> 61\u001b[0;31m         \u001b[0;32mreturn\u001b[0m \u001b[0msession\u001b[0m\u001b[0;34m.\u001b[0m\u001b[0mrequest\u001b[0m\u001b[0;34m(\u001b[0m\u001b[0mmethod\u001b[0m\u001b[0;34m=\u001b[0m\u001b[0mmethod\u001b[0m\u001b[0;34m,\u001b[0m \u001b[0murl\u001b[0m\u001b[0;34m=\u001b[0m\u001b[0murl\u001b[0m\u001b[0;34m,\u001b[0m \u001b[0;34m**\u001b[0m\u001b[0mkwargs\u001b[0m\u001b[0;34m)\u001b[0m\u001b[0;34m\u001b[0m\u001b[0;34m\u001b[0m\u001b[0m\n\u001b[0m\u001b[1;32m     62\u001b[0m \u001b[0;34m\u001b[0m\u001b[0m\n\u001b[1;32m     63\u001b[0m \u001b[0;34m\u001b[0m\u001b[0m\n",
      "\u001b[0;32m~/opt/anaconda3/lib/python3.7/site-packages/requests/sessions.py\u001b[0m in \u001b[0;36mrequest\u001b[0;34m(self, method, url, params, data, headers, cookies, files, auth, timeout, allow_redirects, proxies, hooks, stream, verify, cert, json)\u001b[0m\n\u001b[1;32m    540\u001b[0m         }\n\u001b[1;32m    541\u001b[0m         \u001b[0msend_kwargs\u001b[0m\u001b[0;34m.\u001b[0m\u001b[0mupdate\u001b[0m\u001b[0;34m(\u001b[0m\u001b[0msettings\u001b[0m\u001b[0;34m)\u001b[0m\u001b[0;34m\u001b[0m\u001b[0;34m\u001b[0m\u001b[0m\n\u001b[0;32m--> 542\u001b[0;31m         \u001b[0mresp\u001b[0m \u001b[0;34m=\u001b[0m \u001b[0mself\u001b[0m\u001b[0;34m.\u001b[0m\u001b[0msend\u001b[0m\u001b[0;34m(\u001b[0m\u001b[0mprep\u001b[0m\u001b[0;34m,\u001b[0m \u001b[0;34m**\u001b[0m\u001b[0msend_kwargs\u001b[0m\u001b[0;34m)\u001b[0m\u001b[0;34m\u001b[0m\u001b[0;34m\u001b[0m\u001b[0m\n\u001b[0m\u001b[1;32m    543\u001b[0m \u001b[0;34m\u001b[0m\u001b[0m\n\u001b[1;32m    544\u001b[0m         \u001b[0;32mreturn\u001b[0m \u001b[0mresp\u001b[0m\u001b[0;34m\u001b[0m\u001b[0;34m\u001b[0m\u001b[0m\n",
      "\u001b[0;32m~/opt/anaconda3/lib/python3.7/site-packages/requests/sessions.py\u001b[0m in \u001b[0;36msend\u001b[0;34m(self, request, **kwargs)\u001b[0m\n\u001b[1;32m    653\u001b[0m \u001b[0;34m\u001b[0m\u001b[0m\n\u001b[1;32m    654\u001b[0m         \u001b[0;31m# Send the request\u001b[0m\u001b[0;34m\u001b[0m\u001b[0;34m\u001b[0m\u001b[0;34m\u001b[0m\u001b[0m\n\u001b[0;32m--> 655\u001b[0;31m         \u001b[0mr\u001b[0m \u001b[0;34m=\u001b[0m \u001b[0madapter\u001b[0m\u001b[0;34m.\u001b[0m\u001b[0msend\u001b[0m\u001b[0;34m(\u001b[0m\u001b[0mrequest\u001b[0m\u001b[0;34m,\u001b[0m \u001b[0;34m**\u001b[0m\u001b[0mkwargs\u001b[0m\u001b[0;34m)\u001b[0m\u001b[0;34m\u001b[0m\u001b[0;34m\u001b[0m\u001b[0m\n\u001b[0m\u001b[1;32m    656\u001b[0m \u001b[0;34m\u001b[0m\u001b[0m\n\u001b[1;32m    657\u001b[0m         \u001b[0;31m# Total elapsed time of the request (approximately)\u001b[0m\u001b[0;34m\u001b[0m\u001b[0;34m\u001b[0m\u001b[0;34m\u001b[0m\u001b[0m\n",
      "\u001b[0;32m~/opt/anaconda3/lib/python3.7/site-packages/requests/adapters.py\u001b[0m in \u001b[0;36msend\u001b[0;34m(self, request, stream, timeout, verify, cert, proxies)\u001b[0m\n\u001b[1;32m    447\u001b[0m                     \u001b[0mdecode_content\u001b[0m\u001b[0;34m=\u001b[0m\u001b[0;32mFalse\u001b[0m\u001b[0;34m,\u001b[0m\u001b[0;34m\u001b[0m\u001b[0;34m\u001b[0m\u001b[0m\n\u001b[1;32m    448\u001b[0m                     \u001b[0mretries\u001b[0m\u001b[0;34m=\u001b[0m\u001b[0mself\u001b[0m\u001b[0;34m.\u001b[0m\u001b[0mmax_retries\u001b[0m\u001b[0;34m,\u001b[0m\u001b[0;34m\u001b[0m\u001b[0;34m\u001b[0m\u001b[0m\n\u001b[0;32m--> 449\u001b[0;31m                     \u001b[0mtimeout\u001b[0m\u001b[0;34m=\u001b[0m\u001b[0mtimeout\u001b[0m\u001b[0;34m\u001b[0m\u001b[0;34m\u001b[0m\u001b[0m\n\u001b[0m\u001b[1;32m    450\u001b[0m                 )\n\u001b[1;32m    451\u001b[0m \u001b[0;34m\u001b[0m\u001b[0m\n",
      "\u001b[0;32m~/opt/anaconda3/lib/python3.7/site-packages/urllib3/connectionpool.py\u001b[0m in \u001b[0;36murlopen\u001b[0;34m(self, method, url, body, headers, retries, redirect, assert_same_host, timeout, pool_timeout, release_conn, chunked, body_pos, **response_kw)\u001b[0m\n\u001b[1;32m    675\u001b[0m                 \u001b[0mbody\u001b[0m\u001b[0;34m=\u001b[0m\u001b[0mbody\u001b[0m\u001b[0;34m,\u001b[0m\u001b[0;34m\u001b[0m\u001b[0;34m\u001b[0m\u001b[0m\n\u001b[1;32m    676\u001b[0m                 \u001b[0mheaders\u001b[0m\u001b[0;34m=\u001b[0m\u001b[0mheaders\u001b[0m\u001b[0;34m,\u001b[0m\u001b[0;34m\u001b[0m\u001b[0;34m\u001b[0m\u001b[0m\n\u001b[0;32m--> 677\u001b[0;31m                 \u001b[0mchunked\u001b[0m\u001b[0;34m=\u001b[0m\u001b[0mchunked\u001b[0m\u001b[0;34m,\u001b[0m\u001b[0;34m\u001b[0m\u001b[0;34m\u001b[0m\u001b[0m\n\u001b[0m\u001b[1;32m    678\u001b[0m             )\n\u001b[1;32m    679\u001b[0m \u001b[0;34m\u001b[0m\u001b[0m\n",
      "\u001b[0;32m~/opt/anaconda3/lib/python3.7/site-packages/urllib3/connectionpool.py\u001b[0m in \u001b[0;36m_make_request\u001b[0;34m(self, conn, method, url, timeout, chunked, **httplib_request_kw)\u001b[0m\n\u001b[1;32m    379\u001b[0m         \u001b[0;31m# Trigger any extra validation we need to do.\u001b[0m\u001b[0;34m\u001b[0m\u001b[0;34m\u001b[0m\u001b[0;34m\u001b[0m\u001b[0m\n\u001b[1;32m    380\u001b[0m         \u001b[0;32mtry\u001b[0m\u001b[0;34m:\u001b[0m\u001b[0;34m\u001b[0m\u001b[0;34m\u001b[0m\u001b[0m\n\u001b[0;32m--> 381\u001b[0;31m             \u001b[0mself\u001b[0m\u001b[0;34m.\u001b[0m\u001b[0m_validate_conn\u001b[0m\u001b[0;34m(\u001b[0m\u001b[0mconn\u001b[0m\u001b[0;34m)\u001b[0m\u001b[0;34m\u001b[0m\u001b[0;34m\u001b[0m\u001b[0m\n\u001b[0m\u001b[1;32m    382\u001b[0m         \u001b[0;32mexcept\u001b[0m \u001b[0;34m(\u001b[0m\u001b[0mSocketTimeout\u001b[0m\u001b[0;34m,\u001b[0m \u001b[0mBaseSSLError\u001b[0m\u001b[0;34m)\u001b[0m \u001b[0;32mas\u001b[0m \u001b[0me\u001b[0m\u001b[0;34m:\u001b[0m\u001b[0;34m\u001b[0m\u001b[0;34m\u001b[0m\u001b[0m\n\u001b[1;32m    383\u001b[0m             \u001b[0;31m# Py2 raises this as a BaseSSLError, Py3 raises it as socket timeout.\u001b[0m\u001b[0;34m\u001b[0m\u001b[0;34m\u001b[0m\u001b[0;34m\u001b[0m\u001b[0m\n",
      "\u001b[0;32m~/opt/anaconda3/lib/python3.7/site-packages/urllib3/connectionpool.py\u001b[0m in \u001b[0;36m_validate_conn\u001b[0;34m(self, conn)\u001b[0m\n\u001b[1;32m    976\u001b[0m         \u001b[0;31m# Force connect early to allow us to validate the connection.\u001b[0m\u001b[0;34m\u001b[0m\u001b[0;34m\u001b[0m\u001b[0;34m\u001b[0m\u001b[0m\n\u001b[1;32m    977\u001b[0m         \u001b[0;32mif\u001b[0m \u001b[0;32mnot\u001b[0m \u001b[0mgetattr\u001b[0m\u001b[0;34m(\u001b[0m\u001b[0mconn\u001b[0m\u001b[0;34m,\u001b[0m \u001b[0;34m\"sock\"\u001b[0m\u001b[0;34m,\u001b[0m \u001b[0;32mNone\u001b[0m\u001b[0;34m)\u001b[0m\u001b[0;34m:\u001b[0m  \u001b[0;31m# AppEngine might not have  `.sock`\u001b[0m\u001b[0;34m\u001b[0m\u001b[0;34m\u001b[0m\u001b[0m\n\u001b[0;32m--> 978\u001b[0;31m             \u001b[0mconn\u001b[0m\u001b[0;34m.\u001b[0m\u001b[0mconnect\u001b[0m\u001b[0;34m(\u001b[0m\u001b[0;34m)\u001b[0m\u001b[0;34m\u001b[0m\u001b[0;34m\u001b[0m\u001b[0m\n\u001b[0m\u001b[1;32m    979\u001b[0m \u001b[0;34m\u001b[0m\u001b[0m\n\u001b[1;32m    980\u001b[0m         \u001b[0;32mif\u001b[0m \u001b[0;32mnot\u001b[0m \u001b[0mconn\u001b[0m\u001b[0;34m.\u001b[0m\u001b[0mis_verified\u001b[0m\u001b[0;34m:\u001b[0m\u001b[0;34m\u001b[0m\u001b[0;34m\u001b[0m\u001b[0m\n",
      "\u001b[0;32m~/opt/anaconda3/lib/python3.7/site-packages/urllib3/connection.py\u001b[0m in \u001b[0;36mconnect\u001b[0;34m(self)\u001b[0m\n\u001b[1;32m    369\u001b[0m             \u001b[0mca_cert_data\u001b[0m\u001b[0;34m=\u001b[0m\u001b[0mself\u001b[0m\u001b[0;34m.\u001b[0m\u001b[0mca_cert_data\u001b[0m\u001b[0;34m,\u001b[0m\u001b[0;34m\u001b[0m\u001b[0;34m\u001b[0m\u001b[0m\n\u001b[1;32m    370\u001b[0m             \u001b[0mserver_hostname\u001b[0m\u001b[0;34m=\u001b[0m\u001b[0mserver_hostname\u001b[0m\u001b[0;34m,\u001b[0m\u001b[0;34m\u001b[0m\u001b[0;34m\u001b[0m\u001b[0m\n\u001b[0;32m--> 371\u001b[0;31m             \u001b[0mssl_context\u001b[0m\u001b[0;34m=\u001b[0m\u001b[0mcontext\u001b[0m\u001b[0;34m,\u001b[0m\u001b[0;34m\u001b[0m\u001b[0;34m\u001b[0m\u001b[0m\n\u001b[0m\u001b[1;32m    372\u001b[0m         )\n\u001b[1;32m    373\u001b[0m \u001b[0;34m\u001b[0m\u001b[0m\n",
      "\u001b[0;32m~/opt/anaconda3/lib/python3.7/site-packages/urllib3/util/ssl_.py\u001b[0m in \u001b[0;36mssl_wrap_socket\u001b[0;34m(sock, keyfile, certfile, cert_reqs, ca_certs, server_hostname, ssl_version, ciphers, ssl_context, ca_cert_dir, key_password, ca_cert_data)\u001b[0m\n\u001b[1;32m    382\u001b[0m     ) or IS_SECURETRANSPORT:\n\u001b[1;32m    383\u001b[0m         \u001b[0;32mif\u001b[0m \u001b[0mHAS_SNI\u001b[0m \u001b[0;32mand\u001b[0m \u001b[0mserver_hostname\u001b[0m \u001b[0;32mis\u001b[0m \u001b[0;32mnot\u001b[0m \u001b[0;32mNone\u001b[0m\u001b[0;34m:\u001b[0m\u001b[0;34m\u001b[0m\u001b[0;34m\u001b[0m\u001b[0m\n\u001b[0;32m--> 384\u001b[0;31m             \u001b[0;32mreturn\u001b[0m \u001b[0mcontext\u001b[0m\u001b[0;34m.\u001b[0m\u001b[0mwrap_socket\u001b[0m\u001b[0;34m(\u001b[0m\u001b[0msock\u001b[0m\u001b[0;34m,\u001b[0m \u001b[0mserver_hostname\u001b[0m\u001b[0;34m=\u001b[0m\u001b[0mserver_hostname\u001b[0m\u001b[0;34m)\u001b[0m\u001b[0;34m\u001b[0m\u001b[0;34m\u001b[0m\u001b[0m\n\u001b[0m\u001b[1;32m    385\u001b[0m \u001b[0;34m\u001b[0m\u001b[0m\n\u001b[1;32m    386\u001b[0m         warnings.warn(\n",
      "\u001b[0;32m~/opt/anaconda3/lib/python3.7/ssl.py\u001b[0m in \u001b[0;36mwrap_socket\u001b[0;34m(self, sock, server_side, do_handshake_on_connect, suppress_ragged_eofs, server_hostname, session)\u001b[0m\n\u001b[1;32m    421\u001b[0m             \u001b[0mserver_hostname\u001b[0m\u001b[0;34m=\u001b[0m\u001b[0mserver_hostname\u001b[0m\u001b[0;34m,\u001b[0m\u001b[0;34m\u001b[0m\u001b[0;34m\u001b[0m\u001b[0m\n\u001b[1;32m    422\u001b[0m             \u001b[0mcontext\u001b[0m\u001b[0;34m=\u001b[0m\u001b[0mself\u001b[0m\u001b[0;34m,\u001b[0m\u001b[0;34m\u001b[0m\u001b[0;34m\u001b[0m\u001b[0m\n\u001b[0;32m--> 423\u001b[0;31m             \u001b[0msession\u001b[0m\u001b[0;34m=\u001b[0m\u001b[0msession\u001b[0m\u001b[0;34m\u001b[0m\u001b[0;34m\u001b[0m\u001b[0m\n\u001b[0m\u001b[1;32m    424\u001b[0m         )\n\u001b[1;32m    425\u001b[0m \u001b[0;34m\u001b[0m\u001b[0m\n",
      "\u001b[0;32m~/opt/anaconda3/lib/python3.7/ssl.py\u001b[0m in \u001b[0;36m_create\u001b[0;34m(cls, sock, server_side, do_handshake_on_connect, suppress_ragged_eofs, server_hostname, context, session)\u001b[0m\n\u001b[1;32m    868\u001b[0m                         \u001b[0;31m# non-blocking\u001b[0m\u001b[0;34m\u001b[0m\u001b[0;34m\u001b[0m\u001b[0;34m\u001b[0m\u001b[0m\n\u001b[1;32m    869\u001b[0m                         \u001b[0;32mraise\u001b[0m \u001b[0mValueError\u001b[0m\u001b[0;34m(\u001b[0m\u001b[0;34m\"do_handshake_on_connect should not be specified for non-blocking sockets\"\u001b[0m\u001b[0;34m)\u001b[0m\u001b[0;34m\u001b[0m\u001b[0;34m\u001b[0m\u001b[0m\n\u001b[0;32m--> 870\u001b[0;31m                     \u001b[0mself\u001b[0m\u001b[0;34m.\u001b[0m\u001b[0mdo_handshake\u001b[0m\u001b[0;34m(\u001b[0m\u001b[0;34m)\u001b[0m\u001b[0;34m\u001b[0m\u001b[0;34m\u001b[0m\u001b[0m\n\u001b[0m\u001b[1;32m    871\u001b[0m             \u001b[0;32mexcept\u001b[0m \u001b[0;34m(\u001b[0m\u001b[0mOSError\u001b[0m\u001b[0;34m,\u001b[0m \u001b[0mValueError\u001b[0m\u001b[0;34m)\u001b[0m\u001b[0;34m:\u001b[0m\u001b[0;34m\u001b[0m\u001b[0;34m\u001b[0m\u001b[0m\n\u001b[1;32m    872\u001b[0m                 \u001b[0mself\u001b[0m\u001b[0;34m.\u001b[0m\u001b[0mclose\u001b[0m\u001b[0;34m(\u001b[0m\u001b[0;34m)\u001b[0m\u001b[0;34m\u001b[0m\u001b[0;34m\u001b[0m\u001b[0m\n",
      "\u001b[0;32m~/opt/anaconda3/lib/python3.7/ssl.py\u001b[0m in \u001b[0;36mdo_handshake\u001b[0;34m(self, block)\u001b[0m\n\u001b[1;32m   1137\u001b[0m             \u001b[0;32mif\u001b[0m \u001b[0mtimeout\u001b[0m \u001b[0;34m==\u001b[0m \u001b[0;36m0.0\u001b[0m \u001b[0;32mand\u001b[0m \u001b[0mblock\u001b[0m\u001b[0;34m:\u001b[0m\u001b[0;34m\u001b[0m\u001b[0;34m\u001b[0m\u001b[0m\n\u001b[1;32m   1138\u001b[0m                 \u001b[0mself\u001b[0m\u001b[0;34m.\u001b[0m\u001b[0msettimeout\u001b[0m\u001b[0;34m(\u001b[0m\u001b[0;32mNone\u001b[0m\u001b[0;34m)\u001b[0m\u001b[0;34m\u001b[0m\u001b[0;34m\u001b[0m\u001b[0m\n\u001b[0;32m-> 1139\u001b[0;31m             \u001b[0mself\u001b[0m\u001b[0;34m.\u001b[0m\u001b[0m_sslobj\u001b[0m\u001b[0;34m.\u001b[0m\u001b[0mdo_handshake\u001b[0m\u001b[0;34m(\u001b[0m\u001b[0;34m)\u001b[0m\u001b[0;34m\u001b[0m\u001b[0;34m\u001b[0m\u001b[0m\n\u001b[0m\u001b[1;32m   1140\u001b[0m         \u001b[0;32mfinally\u001b[0m\u001b[0;34m:\u001b[0m\u001b[0;34m\u001b[0m\u001b[0;34m\u001b[0m\u001b[0m\n\u001b[1;32m   1141\u001b[0m             \u001b[0mself\u001b[0m\u001b[0;34m.\u001b[0m\u001b[0msettimeout\u001b[0m\u001b[0;34m(\u001b[0m\u001b[0mtimeout\u001b[0m\u001b[0;34m)\u001b[0m\u001b[0;34m\u001b[0m\u001b[0;34m\u001b[0m\u001b[0m\n",
      "\u001b[0;31mKeyboardInterrupt\u001b[0m: "
     ]
    }
   ],
   "source": [
    "for i, url in enumerate(tqdm(test_df.links)):\n",
    "    keywords = crawling_keywords(url)\n",
    "    test_df['meta_keywords'][i] = copy(keywords)\n",
    "    \n",
    "    if i % 1000 == 0:\n",
    "        time.sleep(10)\n",
    "    "
   ]
  },
  {
   "cell_type": "code",
   "execution_count": 89,
   "metadata": {},
   "outputs": [
    {
     "name": "stdout",
     "output_type": "stream",
     "text": [
      "apple\n",
      "banana\n",
      "pineapple\n",
      "orange\n",
      "grape\n",
      "=====================\n",
      "0 apple\n",
      "1 banana\n",
      "2 pineapple\n",
      "3 orange\n",
      "4 grape\n",
      "=====================\n",
      "0 apple\n",
      "1 banana\n",
      "2 pineapple\n",
      "3 orange\n",
      "4 grape\n"
     ]
    }
   ],
   "source": [
    "fruit_list = ['apple', 'banana', 'pineapple', 'orange', 'grape']\n",
    "\n",
    "for fruit in fruit_list:\n",
    "    print(fruit)\n",
    "    \n",
    "print(\"=====================\")\n",
    "\n",
    "for i in range(len(fruit_list)):\n",
    "    print(i, fruit_list[i])\n",
    "    \n",
    "print(\"=====================\")\n",
    "\n",
    "for i, fruit in enumerate(fruit_list):\n",
    "    print(i, fruit)"
   ]
  },
  {
   "cell_type": "code",
   "execution_count": 127,
   "metadata": {},
   "outputs": [],
   "source": [
    "term_frequency = df[df.meta_keywords != 'Error']\n",
    "term_frequency = list(term_frequency['meta_keywords'].values)"
   ]
  },
  {
   "cell_type": "code",
   "execution_count": 141,
   "metadata": {},
   "outputs": [
    {
     "name": "stdout",
     "output_type": "stream",
     "text": [
      "람다 테스트\n",
      "['ap', 'ba', 'pi', 'gr']\n",
      "함수 테스트\n",
      "['ap', 'ba', 'pi', 'gr']\n"
     ]
    }
   ],
   "source": [
    "# list map lambda example\n",
    "# 모든 element들에 대해서 똑같은 작업을 하고싶을때 사용\n",
    "test_list = ['apple', 'banana', 'pineapple', 'grape']\n",
    "\n",
    "\n",
    "# 모든 element들의 앞 2글자만 따오기\n",
    "# map(함수, 리스트)\n",
    "\n",
    "\n",
    "\n",
    "lambda_tmp = list(map(lambda x: x[:2], test_list))\n",
    "print(\"람다 테스트\")\n",
    "print(lambda_tmp)\n",
    "\n",
    "\n",
    "# 같은 표현식\n",
    "def get_two_string(x):\n",
    "    return x[:2]\n",
    "\n",
    "function_tmp = list(map(get_two_string, test_list))\n",
    "function_tmp = list(map(lambda x: get_two_string(x), test_list))\n",
    "\n",
    "print('함수 테스트')\n",
    "print(function_tmp)"
   ]
  },
  {
   "cell_type": "code",
   "execution_count": 146,
   "metadata": {},
   "outputs": [],
   "source": [
    "# . 제거 (나중엔 필요 없음)\n",
    "# term_frequency = list(map(lambda x: x[:-1], term_frequency))\n",
    "\n",
    "# join list element\n",
    "term_string = ','.join(term_frequency)\n",
    "term_list = term_string.split(',')\n",
    "\n",
    "# to lower \n",
    "term_list = list(map(lambda x: x.lower(), term_list))"
   ]
  },
  {
   "cell_type": "code",
   "execution_count": 147,
   "metadata": {},
   "outputs": [
    {
     "data": {
      "text/plain": [
       "[('oral health', 10),\n",
       " ('bone regeneration', 6),\n",
       " ('inflammation', 4),\n",
       " ('dentistry', 3),\n",
       " ('fibrosis', 3),\n",
       " ('saliva', 3),\n",
       " ('streptococcus mutans', 3),\n",
       " ('tooth extraction', 3),\n",
       " ('obesity', 3),\n",
       " ('orthodontic tooth movement', 3),\n",
       " ('osteoclast', 3),\n",
       " ('oral health-related quality of life', 3),\n",
       " ('rat', 3),\n",
       " ('dental implants', 3),\n",
       " ('peri-implantitis', 3),\n",
       " ('oral cancer', 2),\n",
       " ('oral surgery', 2),\n",
       " ('collagen membrane', 2),\n",
       " ('edentulism', 2),\n",
       " ('public health', 2),\n",
       " ('quality of life', 2),\n",
       " ('essential oils', 2),\n",
       " ('egfr', 2),\n",
       " ('stress', 2),\n",
       " ('cytokines', 2),\n",
       " ('biocompatibility', 2),\n",
       " ('autism spectrum disorder', 2),\n",
       " ('toothbrushing', 2),\n",
       " ('prevalence', 2),\n",
       " ('antimicrobial photodynamic therapy', 2),\n",
       " ('gbr', 2),\n",
       " ('histology', 2),\n",
       " ('cancer', 2),\n",
       " ('reactive oxygen species', 2),\n",
       " ('growth factors', 2),\n",
       " ('gene expression', 2),\n",
       " ('ridge preservation', 2),\n",
       " ('implants', 2),\n",
       " ('doxycycline', 2),\n",
       " ('membrane', 2),\n",
       " ('dentin', 2),\n",
       " ('apoptosis', 2),\n",
       " ('biomaterials', 2),\n",
       " ('prosthodontics', 2),\n",
       " ('older adults', 2),\n",
       " ('gingival overgrowth', 2),\n",
       " ('collagen matrix', 2),\n",
       " ('oral microbiome', 2),\n",
       " ('dental implant', 2),\n",
       " ('soft tissue augmentation', 2),\n",
       " ('osteoblasts', 2),\n",
       " ('bone substitution', 1),\n",
       " ('hydroxyapatite bone cement', 1),\n",
       " ('injectable', 1),\n",
       " ('strontium', 1),\n",
       " ('crp/albumin ratio', 1),\n",
       " ('cancer survival', 1),\n",
       " ('mandible', 1),\n",
       " ('open source', 1),\n",
       " ('openmandible', 1),\n",
       " ('simulation', 1),\n",
       " ('flap design', 1),\n",
       " ('impacted tooth', 1),\n",
       " ('mandibular molar', 1),\n",
       " ('third molar extraction', 1),\n",
       " ('third molar surgery', 1),\n",
       " ('furcation involvement', 1),\n",
       " ('guided tissue regeneration', 1),\n",
       " ('lower jaw', 1),\n",
       " ('upper jaw', 1),\n",
       " ('care home', 1),\n",
       " ('elderly', 1),\n",
       " ('prosthodontic status', 1),\n",
       " ('biofilm', 1),\n",
       " ('clostridioides difficile', 1),\n",
       " ('muc2', 1),\n",
       " ('mucus', 1),\n",
       " ('agnor', 1),\n",
       " ('histological classification', 1),\n",
       " ('leukoplakia', 1),\n",
       " ('prognosis', 1),\n",
       " ('tnf-α', 1),\n",
       " ('micronuclei', 1),\n",
       " ('naswar', 1),\n",
       " ('smokeless tobacco', 1),\n",
       " ('snuff dippers', 1),\n",
       " ('age-related changes', 1),\n",
       " ('attached gingiva', 1),\n",
       " ('crown length', 1),\n",
       " ('gender-related changes', 1),\n",
       " ('carbon nanotubes', 1),\n",
       " ('electrospinning', 1),\n",
       " ('exosomes', 1),\n",
       " ('kidney regeneration', 1),\n",
       " ('nanofibers', 1),\n",
       " ('nanovesicles', 1),\n",
       " ('synthetic kidney', 1),\n",
       " ('therapeutic nanomedicine', 1),\n",
       " ('mediterranean plants', 1),\n",
       " ('ethanol extracts', 1),\n",
       " ('natural anti-inflammatory', 1),\n",
       " ('natural antimicrobials', 1),\n",
       " ('pharmaceutical plants', 1),\n",
       " ('polyphenols', 1),\n",
       " ('terpenoids', 1),\n",
       " ('water extracts', 1),\n",
       " ('adverse remodeling', 1),\n",
       " ('metallopeptidases', 1),\n",
       " ('reck', 1),\n",
       " ('build-up', 1),\n",
       " ('clinical trial', 1),\n",
       " ('endodontic outcomes', 1),\n",
       " ('endodontic retreatments', 1),\n",
       " ('posts', 1),\n",
       " ('cortisol', 1),\n",
       " ('geriatric dentistry', 1),\n",
       " ('interleukin-6', 1),\n",
       " ('mastication', 1),\n",
       " ('echinococcus granulosus', 1),\n",
       " ('fasciola hepatica', 1),\n",
       " ('immunohistochemistry', 1),\n",
       " ('ism', 1),\n",
       " ('local immune response', 1),\n",
       " ('polyparasit', 1),\n",
       " ('maneuverability', 1),\n",
       " ('premature hardening', 1),\n",
       " ('premixed putty', 1),\n",
       " ('tricalcium silicate', 1),\n",
       " ('mmps', 1),\n",
       " ('opg', 1),\n",
       " ('rankl', 1),\n",
       " ('temporomandibular osteoarthritis', 1),\n",
       " ('oral health status', 1),\n",
       " ('preschool children', 1),\n",
       " ('visual pedagogy', 1),\n",
       " ('anti-infective agents', 1),\n",
       " ('biofilms', 1),\n",
       " ('regenerative endodontics', 1),\n",
       " ('tissue scaffolds', 1),\n",
       " ('entamoeba gingivalis', 1),\n",
       " ('systematic review', 1),\n",
       " ('worldwide', 1),\n",
       " ('anti-biofilm activity', 1),\n",
       " ('mechanical properties', 1),\n",
       " ('orthodontic acrylic resin', 1),\n",
       " ('ulva lactuca', 1),\n",
       " ('alveolar ridge augmentation', 1),\n",
       " ('damaged extraction socket', 1),\n",
       " ('collagen membranes', 1),\n",
       " ('gtr', 1),\n",
       " ('histomorphometry', 1),\n",
       " ('micro-computed tomography', 1),\n",
       " ('preclinical research', 1),\n",
       " ('autophagy', 1),\n",
       " ('cardiovascular disease', 1),\n",
       " ('circrnas', 1),\n",
       " ('neurological disease', 1),\n",
       " ('nf-κb', 1),\n",
       " ('sasp factors', 1),\n",
       " ('human dental pulp cells', 1),\n",
       " ('hydrogen peroxide', 1),\n",
       " ('senescence', 1),\n",
       " ('telomere damage', 1),\n",
       " ('lawsonia inermis', 1),\n",
       " ('lythraceae', 1),\n",
       " ('glucosides', 1),\n",
       " ('redox activity', 1),\n",
       " ('p. gulae', 1),\n",
       " ('coaggregation', 1),\n",
       " ('haemagglutination', 1),\n",
       " ('protease', 1),\n",
       " ('protein degradation', 1),\n",
       " ('alveolar bone grafting', 1),\n",
       " ('hyaluronic acid', 1),\n",
       " ('tooth socket', 1),\n",
       " ('bone remodeling', 1),\n",
       " ('high-fat diet', 1),\n",
       " ('atrophy', 1),\n",
       " ('buccal bone', 1),\n",
       " ('caspase inhibitor', 1),\n",
       " ('osteocytes', 1),\n",
       " ('resorption', 1),\n",
       " ('socket preservation', 1),\n",
       " ('aesthetics', 1),\n",
       " ('ohip', 1),\n",
       " ('pidaq', 1),\n",
       " ('patient satisfaction', 1),\n",
       " ('denosumab', 1),\n",
       " (' osteoporosis', 1),\n",
       " ('mronj', 1),\n",
       " ('medication-related osteonecrosis of the jaw', 1),\n",
       " (' tooth extraction', 1),\n",
       " ('acellular dermis', 1),\n",
       " ('connective tissue', 1),\n",
       " ('gingival recession', 1),\n",
       " ('oral surgical procedures', 1),\n",
       " ('rt-qpcr', 1),\n",
       " ('biomineralization', 1),\n",
       " ('bone', 1),\n",
       " ('dental cementum', 1),\n",
       " ('dental enamel', 1),\n",
       " ('odontogenesis', 1),\n",
       " ('canine retraction', 1),\n",
       " ('interleukin-1 beta', 1),\n",
       " ('finite element model', 1),\n",
       " ('microcracks', 1),\n",
       " ('orthodontic force', 1),\n",
       " ('proteomic analysis', 1),\n",
       " ('root resorption', 1),\n",
       " ('caregiver exhaustion', 1),\n",
       " ('level of dependence', 1),\n",
       " ('motor proficiency', 1),\n",
       " ('motor skill', 1),\n",
       " ('people with intellectual disabilities', 1),\n",
       " ('mts assay', 1),\n",
       " ('ti31mo alloy', 1),\n",
       " ('cell proliferation', 1),\n",
       " ('hydroxyapatite', 1),\n",
       " ('metal matrix composites', 1),\n",
       " ('ultrafine grain', 1),\n",
       " ('ohat', 1),\n",
       " ('aged residents', 1),\n",
       " ('cognitive impairment', 1),\n",
       " ('geriatric care facilities', 1),\n",
       " ('odam', 1),\n",
       " ('wnt1', 1),\n",
       " ('ameloblast', 1),\n",
       " ('junctional epithelium', 1),\n",
       " ('alginate-gelatin microcapsules', 1),\n",
       " ('bone tissue engineering (bte)', 1),\n",
       " ('human dental pulp stem cells (hdpscs)', 1),\n",
       " ('nano-hydroxyapatite', 1),\n",
       " ('dental evaluation and management', 1),\n",
       " ('hematopoietic stem cell transplant', 1),\n",
       " ('immunosuppression', 1),\n",
       " ('oral complications', 1),\n",
       " ('oral infection', 1),\n",
       " ('supportive care', 1),\n",
       " ('implantology', 1),\n",
       " ('oral hygiene', 1),\n",
       " ('plaque control', 1),\n",
       " ('risk factor(s)', 1),\n",
       " ('sars-cov-2', 1),\n",
       " ('antibodies', 1),\n",
       " ('occupational exposure', 1),\n",
       " ('seroepidemiological studies', 1),\n",
       " ('vaccination', 1),\n",
       " ('oral disease', 1),\n",
       " ('oral health related quality of life (ohrqol)', 1),\n",
       " ('cad/cam', 1),\n",
       " ('crowns', 1),\n",
       " ('dental biofilm', 1),\n",
       " ('gingival pocket', 1),\n",
       " ('metal-ceramic', 1),\n",
       " ('molecular biology', 1),\n",
       " ('oral microflora', 1),\n",
       " ('oral microorganisms', 1),\n",
       " ('periodontium', 1),\n",
       " ('zirconium', 1),\n",
       " ('gohai', 1),\n",
       " ('developing countries', 1),\n",
       " ('homes for aged', 1),\n",
       " ('cell attachment', 1),\n",
       " ('focal adhesion', 1),\n",
       " ('human gingival fibroblasts', 1),\n",
       " ('implant surface', 1),\n",
       " ('peri-implant soft tissue', 1),\n",
       " ('titanium', 1),\n",
       " ('zirconia', 1),\n",
       " ('age estimation', 1),\n",
       " ('cement', 1),\n",
       " ('dentine', 1),\n",
       " ('dentition', 1),\n",
       " ('light microscope (lm)', 1),\n",
       " ('scanning electron microscope (sem)', 1),\n",
       " ('white rhinoceros', 1),\n",
       " ('dentinal tubule penetration', 1),\n",
       " ('endodontics', 1),\n",
       " ('presentation form', 1),\n",
       " ('root canal sealing', 1),\n",
       " ('silicate-based sealers', 1),\n",
       " ('minimally invasive restoration', 1),\n",
       " ('adhesive dentistry', 1),\n",
       " ('ceramic fixed dental prosthesis', 1),\n",
       " ('metal-free prostheses', 1),\n",
       " ('partial edentulism', 1),\n",
       " ('classification of gingival health and gingival disease/conditions', 1),\n",
       " ('epidemiology', 1),\n",
       " ('non-dental plaque-induced gingival diseases', 1),\n",
       " ('age', 1),\n",
       " ('dental medicine', 1),\n",
       " ('high blood pressure', 1),\n",
       " ('hypertension', 1),\n",
       " ('mediation analysis', 1),\n",
       " ('tooth loss', 1),\n",
       " ('mohawk', 1),\n",
       " ('pdl', 1),\n",
       " ('frailty', 1),\n",
       " ('bone histomorphometry', 1),\n",
       " ('bone μct', 1),\n",
       " ('dental biology', 1),\n",
       " ('genetic animal models', 1),\n",
       " ('osteomalacia and rickets', 1),\n",
       " ('colorectal cancer', 1),\n",
       " ('fada adhesin', 1),\n",
       " ('fusobacterium nucleatum', 1),\n",
       " ('irritable bowel syndrome', 1),\n",
       " ('pathogenesis', 1),\n",
       " ('ulcerative colitis', 1),\n",
       " ('探索核因子κb(nuclear factor-kappa b，nf-κb)、磷脂酰肌醇3-激酶(phosphatidylinositol 3-kinase，pi3k)/蛋白激酶b(protein kinase b，pkb/akt)以及丝裂原活化蛋白激酶(mitogen-activated protein kinase，mapk)信号通路在晚期糖基化终末产物(advanced glycosylation end products，ages)干预大鼠外周血单个核细胞(peripheral blood mononuclear cells，pbmcs)及下颌成骨细胞(osteoblasts，ob)后的作用机制，为进一步研究糖尿病所致牙周组织炎症的临床治疗提供一定的实验基础和理论依据',\n",
       "  1),\n",
       " ('injectable hydrogels', 1),\n",
       " ('gelatin/nano hydroxyapatite', 1),\n",
       " ('17ß-estradiol', 1),\n",
       " ('dental pulp stem cells', 1),\n",
       " ('dental tissue', 1),\n",
       " ('mesenchymal stem cells', 1),\n",
       " ('odonto/osteoblast', 1),\n",
       " ('ras', 1),\n",
       " ('extracellular matrix', 1),\n",
       " ('ion channel', 1),\n",
       " ('gene expression profile', 1),\n",
       " ('glucan', 1),\n",
       " ('immunity genes', 1),\n",
       " ('inflammatory genes', 1),\n",
       " ('mrna-seq', 1),\n",
       " ('qbei', 1),\n",
       " ('volume-stable collagen matrix', 1),\n",
       " ('invisalign', 1),\n",
       " ('orthodontic treatment', 1),\n",
       " ('total reflection x-ray fluorescence', 1),\n",
       " ('trace elements', 1),\n",
       " ('cathepsin c', 1),\n",
       " ('papilon-lefevre syndrome', 1),\n",
       " ('missense variant', 1),\n",
       " ('clinical translation.', 1),\n",
       " ('dental pulp regeneration', 1),\n",
       " ('dental stem cells', 1),\n",
       " ('signaling transduction', 1),\n",
       " ('ampk-pgc1α pathway', 1),\n",
       " ('mzb1', 1),\n",
       " ('cardiomyocyte', 1),\n",
       " ('macrophages', 1),\n",
       " ('mitochondria', 1),\n",
       " ('myocardial infarction', 1),\n",
       " ('great east japan earthquake', 1),\n",
       " ('cross-sectional study', 1),\n",
       " ('disaster', 1),\n",
       " ('evacuation', 1),\n",
       " ('oral symptoms', 1),\n",
       " ('psychosocial factors', 1),\n",
       " ('diabetes mellitus', 1),\n",
       " ('pregnancy', 1),\n",
       " ('beagle dog', 1),\n",
       " ('beta-tricalcium phosphate', 1),\n",
       " ('rhfgf-2', 1),\n",
       " ('cornea', 1),\n",
       " ('epithelial differentiation', 1),\n",
       " ('oral mucosa', 1),\n",
       " ('stem cells', 1),\n",
       " ('abutment access channel sealing materials', 1),\n",
       " ('dental prosthesis', 1),\n",
       " ('fixed dental hybrid prostheses', 1),\n",
       " ('peri-implant microbiota', 1),\n",
       " ('peri-implant sulcus', 1),\n",
       " ('porphyromonas gingivalis', 1),\n",
       " ('flow cytometry', 1),\n",
       " ('platelet activation', 1),\n",
       " ('platelet-neutrophil interaction', 1),\n",
       " ('thrombosis', 1),\n",
       " ('intra-nucleus delivery', 1),\n",
       " ('nuclear factor kappa b', 1),\n",
       " ('tooth replantation', 1),\n",
       " ('dmp1', 1),\n",
       " ('dspp', 1),\n",
       " ('mineralization', 1),\n",
       " ('odontoblast phenotype', 1),\n",
       " ('s100a4', 1),\n",
       " ('trpv4', 1),\n",
       " ('alzheimer’s disease', 1),\n",
       " ('down syndrome', 1),\n",
       " ('autoimmune disease', 1),\n",
       " ('cognitive development', 1),\n",
       " ('congenital heart disease', 1),\n",
       " ('intellectual disability', 1),\n",
       " ('leukemia', 1),\n",
       " ('muscle hypotonia', 1),\n",
       " ('obstructive sleep apnea', 1),\n",
       " ('periodontitis', 1),\n",
       " ('cudc-101', 1),\n",
       " ('drug synergy', 1),\n",
       " ('drug tolerance', 1),\n",
       " ('hdac', 1),\n",
       " ('head and neck cancer', 1),\n",
       " ('mucoepidermoid carcinoma', 1),\n",
       " ('salivary cancer', 1),\n",
       " ('covid-19', 1),\n",
       " ('rt-pcr', 1),\n",
       " (' sars-cov-2', 1),\n",
       " ('autopsy', 1),\n",
       " ('infection control', 1),\n",
       " ('salivary gland', 1),\n",
       " ('adults', 1),\n",
       " ('children', 1),\n",
       " ('clinical trials', 1),\n",
       " ('oral bacteria', 1),\n",
       " ('polyols', 1),\n",
       " ('prevention', 1),\n",
       " ('xylitol', 1),\n",
       " ('tgf-β1', 1),\n",
       " ('antioxidant', 1),\n",
       " ('cyclosporine a', 1),\n",
       " ('type ii epithelial and mesenchymal transition', 1),\n",
       " ('patient-reported outcome measures', 1),\n",
       " ('bone allograft', 1),\n",
       " ('calvarial defect', 1),\n",
       " ('critical-size bone defect', 1),\n",
       " ('demineralized bone matrix', 1),\n",
       " ('bile duct ligation', 1),\n",
       " ('implant', 1),\n",
       " ('liver cirrhosis', 1),\n",
       " ('osseointegration', 1),\n",
       " ('tibia', 1),\n",
       " ('alveolar bone', 1),\n",
       " ('dental occlusion', 1),\n",
       " ('finite element analysis', 1),\n",
       " ('mechanobiology', 1),\n",
       " ('micro-ct', 1),\n",
       " ('premature contact', 1),\n",
       " ('guided bone regeneration', 1),\n",
       " ('osteoporosis', 1),\n",
       " ('rats', 1),\n",
       " ('strontium ranelate', 1),\n",
       " ('grafting', 1),\n",
       " ('soft tissue', 1),\n",
       " ('metronidazole', 1),\n",
       " ('minocycline', 1),\n",
       " ('multicenter randomized controlled trial', 1),\n",
       " ('nonsurgical therapy', 1),\n",
       " ('asbestos', 1),\n",
       " ('mmp-7 regulatory t cell', 1),\n",
       " ('tumor immunity', 1),\n",
       " ('tumor microenvironment', 1),\n",
       " ('peri-implant bone level', 1),\n",
       " ('radiographic bone level', 1),\n",
       " ('dental field', 1),\n",
       " ('drug delivery', 1),\n",
       " ('nanoparticles', 1),\n",
       " ('oral infections', 1),\n",
       " ('review', 1),\n",
       " ('apdt', 1),\n",
       " ('continuing', 1),\n",
       " ('counseling', 1),\n",
       " ('cross-sectional studies', 1),\n",
       " ('dental', 1),\n",
       " ('dentists', 1),\n",
       " ('drug prescriptions', 1),\n",
       " ('education', 1),\n",
       " ('inappropriate prescribing', 1),\n",
       " ('interprofessional relations', 1),\n",
       " ('lebanon', 1),\n",
       " ('perception', 1),\n",
       " ('pharmacists', 1),\n",
       " ('prescription drugs', 1),\n",
       " ('professional practice', 1),\n",
       " ('self concept', 1),\n",
       " ('cad-cam', 1),\n",
       " ('candida albicans', 1),\n",
       " ('acrylic resin', 1),\n",
       " ('complete denture', 1),\n",
       " ('denture stomatitis', 1),\n",
       " ('ion transport', 1),\n",
       " ('senescence-associated secretory phenotype', 1),\n",
       " ('cone beam computed tomography', 1),\n",
       " ('digital dentistry', 1),\n",
       " ('guided implant surgery', 1),\n",
       " ('intraoral scan', 1),\n",
       " ('virtual surgical planning', 1),\n",
       " ('dental caries', 1),\n",
       " ('genetic polymorphisms', 1),\n",
       " ('gingivitis', 1),\n",
       " ('interleukin 1 beta', 1),\n",
       " ('interleukin 6', 1),\n",
       " ('cd markers', 1),\n",
       " ('antigenic phenotype', 1),\n",
       " ('clinical assessment', 1),\n",
       " ('diagnosis', 1),\n",
       " ('microbiology', 1),\n",
       " ('oral biofilm', 1),\n",
       " ('peri-implant mucositis/inflammation', 1),\n",
       " ('antibacterial agents', 1),\n",
       " ('antibacterial properties', 1),\n",
       " ('bond strength', 1),\n",
       " ('universal adhesives', 1),\n",
       " ('animal experimentation', 1),\n",
       " ('bone and bones', 1),\n",
       " ('fibroblasts', 1),\n",
       " ('periosteum', 1),\n",
       " ('plasma gases', 1),\n",
       " ('medicinal plants', 1),\n",
       " ('phytochemicals', 1),\n",
       " ('citric acid', 1),\n",
       " ('decontamination', 1),\n",
       " ('16s rrna', 1),\n",
       " ('altitude', 1),\n",
       " ('diversity', 1),\n",
       " ('child', 1),\n",
       " ('surveys and questionnaires', 1),\n",
       " ('who', 1),\n",
       " ('dyes', 1),\n",
       " ('endotoxin', 1),\n",
       " ('lipopolysaccharide inhibition', 1),\n",
       " ('photosensitizers', 1),\n",
       " ('autophagosome', 1),\n",
       " ('lc3', 1),\n",
       " ('flux', 1),\n",
       " ('lysosome', 1),\n",
       " ('macroautophagy', 1),\n",
       " ('neurodegeneration', 1),\n",
       " ('phagophore', 1),\n",
       " ('vacuole', 1)]"
      ]
     },
     "execution_count": 147,
     "metadata": {},
     "output_type": "execute_result"
    }
   ],
   "source": [
    "# python basic count package\n",
    "from collections import Counter\n",
    "\n",
    "Counter(term_list).most_common()"
   ]
  },
  {
   "cell_type": "code",
   "execution_count": null,
   "metadata": {},
   "outputs": [],
   "source": []
  },
  {
   "cell_type": "code",
   "execution_count": null,
   "metadata": {},
   "outputs": [],
   "source": []
  },
  {
   "cell_type": "code",
   "execution_count": null,
   "metadata": {},
   "outputs": [],
   "source": []
  },
  {
   "cell_type": "code",
   "execution_count": null,
   "metadata": {},
   "outputs": [],
   "source": []
  },
  {
   "cell_type": "code",
   "execution_count": null,
   "metadata": {},
   "outputs": [],
   "source": []
  }
 ],
 "metadata": {
  "kernelspec": {
   "display_name": "Python 3",
   "language": "python",
   "name": "python3"
  },
  "language_info": {
   "codemirror_mode": {
    "name": "ipython",
    "version": 3
   },
   "file_extension": ".py",
   "mimetype": "text/x-python",
   "name": "python",
   "nbconvert_exporter": "python",
   "pygments_lexer": "ipython3",
   "version": "3.7.4"
  }
 },
 "nbformat": 4,
 "nbformat_minor": 2
}
