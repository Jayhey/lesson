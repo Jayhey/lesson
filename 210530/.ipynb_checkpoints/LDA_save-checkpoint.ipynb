{
 "cells": [
  {
   "cell_type": "code",
   "execution_count": 2,
   "metadata": {},
   "outputs": [],
   "source": [
    "import pickle\n",
    "import pandas as pd"
   ]
  },
  {
   "cell_type": "code",
   "execution_count": 4,
   "metadata": {},
   "outputs": [],
   "source": [
    "df = pd.read_pickle(\"../files/final_df.pickle\")"
   ]
  },
  {
   "cell_type": "code",
   "execution_count": 8,
   "metadata": {},
   "outputs": [
    {
     "name": "stdout",
     "output_type": "stream",
     "text": [
      "['Sialoperoxidase', 'myeloperoxidase', 'main', 'peroxidase', 'enzymes', 'found', 'oral', 'cavity', 'Sialoperoxidase', 'present', 'salivary', 'secretions', 'biofilms', 'line', 'oral', 'surfaces', 'myeloperoxidase', 'abundant', 'dento‑gingival', 'sulcus', 'area', 'presence', 'hydrogen', 'peroxide', 'H2O2', 'oral', 'peroxidases', 'catalyze', 'oxidation', 'pseudohalide', 'anion', 'thiocyanate', 'SCN‑', 'hypothiocyanite', 'OSCN‑', 'strong', 'oxidant', 'serves', 'antimicrobial', 'role', 'Furthermore', 'oral', 'peroxidases', 'consume', 'bacteria‑produced', 'H2O2', 'help', 'inactivate', 'toxic', 'carcinogenic', 'genotoxic', 'substances', 'Numerous', 'vitro', 'studies', 'reported', 'antibacterial', 'antimycotic', 'antiviral', 'role', 'peroxidases', 'suggesting', 'possible', 'applications', 'oral', 'therapy', 'use', 'oral', 'hygiene', 'products', 'incorporating', 'peroxidase', 'systems', 'shown', 'beneficial', 'treatment', 'prevention', 'oral', 'infections', 'paradox', 'reflects', 'incomplete', 'knowledge', 'physiological', 'role', 'peroxidases', 'complex', 'environment', 'oral', 'region', 'hygiene', 'crucial', 'restoring', 'oral', 'microbiota', 'symbiotic', 'state', 'data', 'suggest', 'addition', 'peroxidase', 'create', 'dysbiotic', 'state', 'Recent', 'investigations', 'associated', 'presence', 'peroxidase', 'activity', 'gram‑positive', 'cocci', 'microbial', 'flora', 'insufficiency', 'dysbiosis', 'linked', 'pathologies', 'caries', 'periodontitis', 'infections', 'oral', 'mucosa', 'oxidants', 'generated', 'oral', 'peroxidases', 'appear', 'essential', 'ecological', 'determinant', 'oral', 'health', 'selection', 'symbiotic', 'microbiota', 'capable', 'resisting', 'oxidative', 'stress', 'objective', 'present', 'review', 'update', 'current', 'knowledge', 'physiological', 'aspects', 'applications', 'oral', 'peroxidases', 'clinical', 'practice']\n"
     ]
    }
   ],
   "source": [
    "# list를 온전한 형태로 불러올 수 있음 (pickle 저장이기 때문))\n",
    "print(df.pos_tag_abstract[0])"
   ]
  },
  {
   "cell_type": "code",
   "execution_count": 10,
   "metadata": {},
   "outputs": [
    {
     "data": {
      "text/plain": [
       "0        [Sialoperoxidase, myeloperoxidase, main, perox...\n",
       "1        [determine, periodontal, disease, associated, ...\n",
       "2        [Polymeric, material, plays, important, role, ...\n",
       "3        [Treating, periodontitis, non-surgical, period...\n",
       "4        [Recent, studies, reported, relationship, peri...\n",
       "                               ...                        \n",
       "35310                       [PMID, [, Indexed, MEDLINE, ]]\n",
       "35325    [Periodontal, surgery, utilized, seems, exists...\n",
       "35335    [Numerous, patients, Papillon-Lefèvre, syndrom...\n",
       "35336    [authors, investigated, cases, healing, proces...\n",
       "35359    [patients, received, treatment, Clinic, Stomat...\n",
       "Name: pos_tag_abstract, Length: 30726, dtype: object"
      ]
     },
     "execution_count": 10,
     "metadata": {},
     "output_type": "execute_result"
    }
   ],
   "source": [
    "df.pos_tag_abstract"
   ]
  },
  {
   "cell_type": "code",
   "execution_count": 12,
   "metadata": {},
   "outputs": [],
   "source": [
    "from gensim import corpora\n",
    "\n",
    "dictionary = corpora.Dictionary(df.pos_tag_abstract)\n"
   ]
  },
  {
   "cell_type": "code",
   "execution_count": 18,
   "metadata": {},
   "outputs": [],
   "source": [
    "corpus = [dictionary.doc2bow(text) for text in df.pos_tag_abstract]"
   ]
  },
  {
   "cell_type": "code",
   "execution_count": 21,
   "metadata": {
    "scrolled": true
   },
   "outputs": [
    {
     "name": "stdout",
     "output_type": "stream",
     "text": [
      "[(0, 1), (1, 2), (2, 1), (3, 1), (4, 1), (5, 1), (6, 2), (7, 1), (8, 1), (9, 1), (10, 1), (11, 1), (12, 1), (13, 1), (14, 1), (15, 1), (16, 2), (17, 1), (18, 1), (19, 1), (20, 1), (21, 1), (22, 1), (23, 1), (24, 1), (25, 1), (26, 1), (27, 1), (28, 1), (29, 1), (30, 1), (31, 1), (32, 1), (33, 1), (34, 1), (35, 1), (36, 1), (37, 1), (38, 1), (39, 1), (40, 1), (41, 1), (42, 1), (43, 1), (44, 1), (45, 1), (46, 1), (47, 1), (48, 1), (49, 1), (50, 1), (51, 1), (52, 2), (53, 1), (54, 1), (55, 1), (56, 1), (57, 2), (58, 1), (59, 1), (60, 2), (61, 1), (62, 1), (63, 1), (64, 1), (65, 2), (66, 1), (67, 2), (68, 1), (69, 13), (70, 1), (71, 1), (72, 1), (73, 1), (74, 1), (75, 1), (76, 1), (77, 4), (78, 6), (79, 1), (80, 2), (81, 1), (82, 1), (83, 2), (84, 2), (85, 1), (86, 1), (87, 1), (88, 1), (89, 1), (90, 1), (91, 1), (92, 1), (93, 1), (94, 3), (95, 1), (96, 1), (97, 1), (98, 1), (99, 1), (100, 2), (101, 1), (102, 1), (103, 1), (104, 1), (105, 1), (106, 1), (107, 1), (108, 1), (109, 2), (110, 1), (111, 1), (112, 1), (113, 1), (114, 1), (115, 1), (116, 1), (117, 1)]\n"
     ]
    }
   ],
   "source": [
    "print(corpus[0])"
   ]
  },
  {
   "cell_type": "code",
   "execution_count": 24,
   "metadata": {},
   "outputs": [
    {
     "data": {
      "text/plain": [
       "'vitro'"
      ]
     },
     "execution_count": 24,
     "metadata": {},
     "output_type": "execute_result"
    }
   ],
   "source": [
    "dictionary[117]"
   ]
  },
  {
   "cell_type": "code",
   "execution_count": 30,
   "metadata": {},
   "outputs": [],
   "source": [
    "# pickle 저장 방법\n",
    "with open('../files/lda/corpus.pickle', 'wb') as f:\n",
    "    pickle.dump(corpus, f)\n",
    "    \n",
    "# pickle.dump(corpus, open('../files/lda/corpus.pickle', 'wb'))"
   ]
  },
  {
   "cell_type": "code",
   "execution_count": 31,
   "metadata": {},
   "outputs": [],
   "source": [
    "with open('../files/lda/dictionary.pickle', 'wb') as f:\n",
    "    pickle.dump(dictionary, f)\n",
    "\n",
    "# pickle.dump(dictionary, open('../files/lda/dictionary.pickle', 'wb'))"
   ]
  },
  {
   "cell_type": "code",
   "execution_count": 25,
   "metadata": {},
   "outputs": [],
   "source": [
    "import gensim\n",
    "\n",
    "NUM_TOPICS = 10\n",
    "model = gensim.models.ldamodel.LdaModel(corpus, # input data\n",
    "                                        num_topics=NUM_TOPICS, # 토픽 모델링을 하고싶은 갯수\n",
    "                                        id2word=dictionary, \n",
    "                                        passes=5)"
   ]
  },
  {
   "cell_type": "code",
   "execution_count": 28,
   "metadata": {},
   "outputs": [],
   "source": [
    "# 저장하는 방법 \n",
    "model.save(\"../files/lda/lda.model\")"
   ]
  },
  {
   "cell_type": "code",
   "execution_count": null,
   "metadata": {},
   "outputs": [],
   "source": []
  }
 ],
 "metadata": {
  "kernelspec": {
   "display_name": "Python 3",
   "language": "python",
   "name": "python3"
  },
  "language_info": {
   "codemirror_mode": {
    "name": "ipython",
    "version": 3
   },
   "file_extension": ".py",
   "mimetype": "text/x-python",
   "name": "python",
   "nbconvert_exporter": "python",
   "pygments_lexer": "ipython3",
   "version": "3.7.4"
  }
 },
 "nbformat": 4,
 "nbformat_minor": 2
}
